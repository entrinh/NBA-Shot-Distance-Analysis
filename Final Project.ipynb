{
 "cells": [
  {
   "cell_type": "markdown",
   "metadata": {},
   "source": [
    "First we need to read import packages in order to analyze our data and begin to answer our data science question. Pandas and numpy are used to create and manipulate the dataframes that hold our data from our datasets. Matplotlib.pyplot is used to plot the data we will acquire from the datasets. Finally, scipy.stats is imported to run statistical analysis on our data."
   ]
  },
  {
   "cell_type": "code",
   "execution_count": 156,
   "metadata": {},
   "outputs": [],
   "source": [
    "import pandas as pd\n",
    "import numpy as np\n",
    "import matplotlib.pyplot as plt\n",
    "import scipy.stats as stats\n",
    "from scipy.stats import ttest_ind"
   ]
  },
  {
   "cell_type": "markdown",
   "metadata": {},
   "source": [
    "We then need to read in the datasets and clean the data.\n",
    "We can remove all of the columns we do not need so we are left with a dataframe that only consists of the team and the statistics of their 2P shots made, midrange shots made, and 3P shots made.\n",
    "Then, we need to rename the columns so they are readable and reset the indices in the dataframe to finish cleaning the data.\n",
    "The following cells read in the datasets and clean the data for the years 2000 to 2018."
   ]
  },
  {
   "cell_type": "code",
   "execution_count": 157,
   "metadata": {},
   "outputs": [],
   "source": [
    "df_2000 = pd.read_csv('00-01_team_shooting.csv')\n",
    "df_2000 = df_2000[['Unnamed: 1', 'Unnamed: 12', 'Unnamed: 15', 'Unnamed: 17']]\n",
    "df_2000.columns = ['Team', '% 2P Shots Made', '% Midrange Shots(10-16ft) Made', '% 3P Shots Made']\n",
    "df_2000 = df_2000.drop([0, 1])\n",
    "df_2000 = df_2000.reset_index(drop = True)"
   ]
  },
  {
   "cell_type": "code",
   "execution_count": 158,
   "metadata": {},
   "outputs": [],
   "source": [
    "df_2001 = pd.read_csv('01-02_team_shooting.csv')\n",
    "df_2001 = df_2001[['Unnamed: 1', 'Unnamed: 12', 'Unnamed: 15', 'Unnamed: 17']]\n",
    "df_2001.columns = ['Team', '% 2P Shots Made', '% Midrange Shots(10-16ft) Made', '% 3P Shots Made']\n",
    "df_2001 = df_2001.drop([0, 1])\n",
    "df_2001 = df_2001.reset_index(drop = True)"
   ]
  },
  {
   "cell_type": "code",
   "execution_count": 159,
   "metadata": {},
   "outputs": [],
   "source": [
    "df_2002 = pd.read_csv('02-03_team_shooting.csv')\n",
    "df_2002 = df_2002[['Unnamed: 1', 'Unnamed: 12', 'Unnamed: 15', 'Unnamed: 17']]\n",
    "df_2002.columns = ['Team', '% 2P Shots Made', '% Midrange Shots(10-16ft) Made', '% 3P Shots Made']\n",
    "df_2002 = df_2002.drop([0, 1])\n",
    "df_2002 = df_2002.reset_index(drop = True)"
   ]
  },
  {
   "cell_type": "code",
   "execution_count": 160,
   "metadata": {},
   "outputs": [],
   "source": [
    "df_2003 = pd.read_csv('03-04_team_shooting.csv')\n",
    "df_2003 = df_2003[['Unnamed: 1', 'Unnamed: 12', 'Unnamed: 15', 'Unnamed: 17']]\n",
    "df_2003.columns = ['Team', '% 2P Shots Made', '% Midrange Shots(10-16ft) Made', '% 3P Shots Made']\n",
    "df_2003 = df_2003.drop([0, 1])\n",
    "df_2003 = df_2003.reset_index(drop = True)"
   ]
  },
  {
   "cell_type": "code",
   "execution_count": 161,
   "metadata": {},
   "outputs": [],
   "source": [
    "df_2004 = pd.read_csv('04-05_team_shooting.csv')\n",
    "df_2004 = df_2004[['Unnamed: 1', 'Unnamed: 12', 'Unnamed: 15', 'Unnamed: 17']]\n",
    "df_2004.columns = ['Team', '% 2P Shots Made', '% Midrange Shots(10-16ft) Made', '% 3P Shots Made']\n",
    "df_2004 = df_2004.drop([0, 1])\n",
    "df_2004 = df_2004.reset_index(drop = True)"
   ]
  },
  {
   "cell_type": "code",
   "execution_count": 162,
   "metadata": {},
   "outputs": [],
   "source": [
    "df_2005 = pd.read_csv('05-06_team_shooting.csv')\n",
    "df_2005 = df_2005[['Unnamed: 1', 'Unnamed: 12', 'Unnamed: 15', 'Unnamed: 17']]\n",
    "df_2005.columns = ['Team', '% 2P Shots Made', '% Midrange Shots(10-16ft) Made', '% 3P Shots Made']\n",
    "df_2005 = df_2005.drop([0, 1])\n",
    "df_2005 = df_2005.reset_index(drop = True)"
   ]
  },
  {
   "cell_type": "code",
   "execution_count": 163,
   "metadata": {},
   "outputs": [],
   "source": [
    "df_2006 = pd.read_csv('06-07_team_shooting.csv')\n",
    "df_2006 = df_2006[['Unnamed: 1', 'Unnamed: 12', 'Unnamed: 15', 'Unnamed: 17']]\n",
    "df_2006.columns = ['Team', '% 2P Shots Made', '% Midrange Shots(10-16ft) Made', '% 3P Shots Made']\n",
    "df_2006 = df_2006.drop([0, 1])\n",
    "df_2006 = df_2006.reset_index(drop = True)"
   ]
  },
  {
   "cell_type": "code",
   "execution_count": 164,
   "metadata": {},
   "outputs": [],
   "source": [
    "df_2007 = pd.read_csv('07-08_team_shooting.csv')\n",
    "df_2007 = df_2007[['Unnamed: 1', 'Unnamed: 12', 'Unnamed: 15', 'Unnamed: 17']]\n",
    "df_2007.columns = ['Team', '% 2P Shots Made', '% Midrange Shots(10-16ft) Made', '% 3P Shots Made']\n",
    "df_2007 = df_2007.drop([0, 1])\n",
    "df_2007 = df_2007.reset_index(drop = True)"
   ]
  },
  {
   "cell_type": "code",
   "execution_count": 165,
   "metadata": {},
   "outputs": [],
   "source": [
    "df_2008 = pd.read_csv('08-09_team_shooting.csv')\n",
    "df_2008 = df_2008[['Unnamed: 1', 'Unnamed: 12', 'Unnamed: 15', 'Unnamed: 17']]\n",
    "df_2008.columns = ['Team', '% 2P Shots Made', '% Midrange Shots(10-16ft) Made', '% 3P Shots Made']\n",
    "df_2008 = df_2008.drop([0, 1])\n",
    "df_2008 = df_2008.reset_index(drop = True)"
   ]
  },
  {
   "cell_type": "code",
   "execution_count": 166,
   "metadata": {},
   "outputs": [],
   "source": [
    "df_2009 = pd.read_csv('09-10_team_shooting.csv')\n",
    "df_2009 = df_2009[['Unnamed: 1', 'Unnamed: 12', 'Unnamed: 15', 'Unnamed: 17']]\n",
    "df_2009.columns = ['Team', '% 2P Shots Made', '% Midrange Shots(10-16ft) Made', '% 3P Shots Made']\n",
    "df_2009 = df_2009.drop([0, 1])\n",
    "df_2009 = df_2009.reset_index(drop = True)"
   ]
  },
  {
   "cell_type": "code",
   "execution_count": 167,
   "metadata": {},
   "outputs": [],
   "source": [
    "df_2010 = pd.read_csv('10-11_team_shooting.csv')\n",
    "df_2010 = df_2010[['Unnamed: 1', 'Unnamed: 12', 'Unnamed: 15', 'Unnamed: 17']]\n",
    "df_2010.columns = ['Team', '% 2P Shots Made', '% Midrange Shots(10-16ft) Made', '% 3P Shots Made']\n",
    "df_2010 = df_2010.drop([0, 1])\n",
    "df_2010 = df_2010.reset_index(drop = True)"
   ]
  },
  {
   "cell_type": "code",
   "execution_count": 168,
   "metadata": {},
   "outputs": [],
   "source": [
    "df_2011 = pd.read_csv('11-12_team_shooting.csv')\n",
    "df_2011 = df_2011[['Unnamed: 1', 'Unnamed: 12', 'Unnamed: 15', 'Unnamed: 17']]\n",
    "df_2011.columns = ['Team', '% 2P Shots Made', '% Midrange Shots(10-16ft) Made', '% 3P Shots Made']\n",
    "df_2011 = df_2011.drop([0, 1])\n",
    "df_2011 = df_2011.reset_index(drop = True)"
   ]
  },
  {
   "cell_type": "code",
   "execution_count": 169,
   "metadata": {},
   "outputs": [],
   "source": [
    "df_2012 = pd.read_csv('12-13_team_shooting.csv')\n",
    "df_2012 = df_2012[['Unnamed: 1', 'Unnamed: 12', 'Unnamed: 15', 'Unnamed: 17']]\n",
    "df_2012.columns = ['Team', '% 2P Shots Made', '% Midrange Shots(10-16ft) Made', '% 3P Shots Made']\n",
    "df_2012 = df_2012.drop([0, 1])\n",
    "df_2012 = df_2012.reset_index(drop = True)"
   ]
  },
  {
   "cell_type": "code",
   "execution_count": 170,
   "metadata": {},
   "outputs": [],
   "source": [
    "df_2013 = pd.read_csv('13-14_team_shooting.csv')\n",
    "df_2013 = df_2013[['Unnamed: 1', 'Unnamed: 12', 'Unnamed: 15', 'Unnamed: 17']]\n",
    "df_2013.columns = ['Team', '% 2P Shots Made', '% Midrange Shots(10-16ft) Made', '% 3P Shots Made']\n",
    "df_2013 = df_2013.drop([0, 1])\n",
    "df_2013 = df_2013.reset_index(drop = True)"
   ]
  },
  {
   "cell_type": "code",
   "execution_count": 171,
   "metadata": {},
   "outputs": [],
   "source": [
    "df_2014 = pd.read_csv('14-15_team_shooting.csv')\n",
    "df_2014 = df_2014[['Unnamed: 1', 'Unnamed: 12', 'Unnamed: 15', 'Unnamed: 17']]\n",
    "df_2014.columns = ['Team', '% 2P Shots Made', '% Midrange Shots(10-16ft) Made', '% 3P Shots Made']\n",
    "df_2014 = df_2014.drop([0, 1])\n",
    "df_2014 = df_2014.reset_index(drop = True)"
   ]
  },
  {
   "cell_type": "code",
   "execution_count": 172,
   "metadata": {},
   "outputs": [],
   "source": [
    "df_2015 = pd.read_csv('15-16_team_shooting.csv')\n",
    "df_2015 = df_2015[['Unnamed: 1', 'Unnamed: 12', 'Unnamed: 15', 'Unnamed: 17']]\n",
    "df_2015.columns = ['Team', '% 2P Shots Made', '% Midrange Shots(10-16ft) Made', '% 3P Shots Made']\n",
    "df_2015 = df_2015.drop([0, 1])\n",
    "df_2015 = df_2015.reset_index(drop = True)"
   ]
  },
  {
   "cell_type": "code",
   "execution_count": 173,
   "metadata": {},
   "outputs": [],
   "source": [
    "df_2016 = pd.read_csv('16-17_team_shooting.csv')\n",
    "df_2016 = df_2016[['Unnamed: 1', 'Unnamed: 12', 'Unnamed: 15', 'Unnamed: 17']]\n",
    "df_2016.columns = ['Team', '% 2P Shots Made', '% Midrange Shots(10-16ft) Made', '% 3P Shots Made']\n",
    "df_2016 = df_2016.drop([0, 1])\n",
    "df_2016 = df_2016.reset_index(drop = True)"
   ]
  },
  {
   "cell_type": "code",
   "execution_count": 174,
   "metadata": {},
   "outputs": [],
   "source": [
    "df_2017 = pd.read_csv('17-18_team_shooting.csv')\n",
    "df_2017 = df_2017[['Unnamed: 1', 'Unnamed: 12', 'Unnamed: 15', 'Unnamed: 17']]\n",
    "df_2017.columns = ['Team', '% 2P Shots Made', '% Midrange Shots(10-16ft) Made', '% 3P Shots Made']\n",
    "df_2017 = df_2017.drop([0, 1])\n",
    "df_2017 = df_2017.reset_index(drop = True)"
   ]
  },
  {
   "cell_type": "code",
   "execution_count": 175,
   "metadata": {},
   "outputs": [],
   "source": [
    "df_2018 = pd.read_csv('18-19_team_shooting.csv')\n",
    "df_2018 = df_2018[['Unnamed: 1', 'Unnamed: 12', 'Unnamed: 15', 'Unnamed: 17']]\n",
    "df_2018.columns = ['Team', '% 2P Shots Made', '% Midrange Shots(10-16ft) Made', '% 3P Shots Made']\n",
    "df_2018 = df_2018.drop([0, 1])\n",
    "df_2018 = df_2018.reset_index(drop = True)"
   ]
  },
  {
   "cell_type": "markdown",
   "metadata": {},
   "source": [
    "An example of the dataframes is as follows (taken from the 2018 data):"
   ]
  },
  {
   "cell_type": "code",
   "execution_count": 176,
   "metadata": {},
   "outputs": [
    {
     "data": {
      "text/html": [
       "<div>\n",
       "<style scoped>\n",
       "    .dataframe tbody tr th:only-of-type {\n",
       "        vertical-align: middle;\n",
       "    }\n",
       "\n",
       "    .dataframe tbody tr th {\n",
       "        vertical-align: top;\n",
       "    }\n",
       "\n",
       "    .dataframe thead th {\n",
       "        text-align: right;\n",
       "    }\n",
       "</style>\n",
       "<table border=\"1\" class=\"dataframe\">\n",
       "  <thead>\n",
       "    <tr style=\"text-align: right;\">\n",
       "      <th></th>\n",
       "      <th>Team</th>\n",
       "      <th>% 2P Shots Made</th>\n",
       "      <th>% Midrange Shots(10-16ft) Made</th>\n",
       "      <th>% 3P Shots Made</th>\n",
       "    </tr>\n",
       "  </thead>\n",
       "  <tbody>\n",
       "    <tr>\n",
       "      <th>0</th>\n",
       "      <td>Atlanta Hawks</td>\n",
       "      <td>.518</td>\n",
       "      <td>.374</td>\n",
       "      <td>.352</td>\n",
       "    </tr>\n",
       "    <tr>\n",
       "      <th>1</th>\n",
       "      <td>Boston Celtics*</td>\n",
       "      <td>.527</td>\n",
       "      <td>.448</td>\n",
       "      <td>.365</td>\n",
       "    </tr>\n",
       "    <tr>\n",
       "      <th>2</th>\n",
       "      <td>Brooklyn Nets*</td>\n",
       "      <td>.513</td>\n",
       "      <td>.423</td>\n",
       "      <td>.353</td>\n",
       "    </tr>\n",
       "    <tr>\n",
       "      <th>3</th>\n",
       "      <td>Chicago Bulls</td>\n",
       "      <td>.496</td>\n",
       "      <td>.392</td>\n",
       "      <td>.351</td>\n",
       "    </tr>\n",
       "    <tr>\n",
       "      <th>4</th>\n",
       "      <td>Charlotte Hornets</td>\n",
       "      <td>.507</td>\n",
       "      <td>.440</td>\n",
       "      <td>.351</td>\n",
       "    </tr>\n",
       "    <tr>\n",
       "      <th>5</th>\n",
       "      <td>Cleveland Cavaliers</td>\n",
       "      <td>.488</td>\n",
       "      <td>.411</td>\n",
       "      <td>.355</td>\n",
       "    </tr>\n",
       "    <tr>\n",
       "      <th>6</th>\n",
       "      <td>Dallas Mavericks</td>\n",
       "      <td>.524</td>\n",
       "      <td>.397</td>\n",
       "      <td>.340</td>\n",
       "    </tr>\n",
       "    <tr>\n",
       "      <th>7</th>\n",
       "      <td>Denver Nuggets*</td>\n",
       "      <td>.527</td>\n",
       "      <td>.457</td>\n",
       "      <td>.351</td>\n",
       "    </tr>\n",
       "    <tr>\n",
       "      <th>8</th>\n",
       "      <td>Detroit Pistons*</td>\n",
       "      <td>.500</td>\n",
       "      <td>.365</td>\n",
       "      <td>.348</td>\n",
       "    </tr>\n",
       "    <tr>\n",
       "      <th>9</th>\n",
       "      <td>Golden State Warriors*</td>\n",
       "      <td>.557</td>\n",
       "      <td>.477</td>\n",
       "      <td>.385</td>\n",
       "    </tr>\n",
       "    <tr>\n",
       "      <th>10</th>\n",
       "      <td>Houston Rockets*</td>\n",
       "      <td>.551</td>\n",
       "      <td>.415</td>\n",
       "      <td>.356</td>\n",
       "    </tr>\n",
       "    <tr>\n",
       "      <th>11</th>\n",
       "      <td>Indiana Pacers*</td>\n",
       "      <td>.517</td>\n",
       "      <td>.416</td>\n",
       "      <td>.374</td>\n",
       "    </tr>\n",
       "    <tr>\n",
       "      <th>12</th>\n",
       "      <td>Los Angeles Clippers*</td>\n",
       "      <td>.507</td>\n",
       "      <td>.426</td>\n",
       "      <td>.388</td>\n",
       "    </tr>\n",
       "    <tr>\n",
       "      <th>13</th>\n",
       "      <td>Los Angeles Lakers</td>\n",
       "      <td>.541</td>\n",
       "      <td>.372</td>\n",
       "      <td>.333</td>\n",
       "    </tr>\n",
       "    <tr>\n",
       "      <th>14</th>\n",
       "      <td>Memphis Grizzlies</td>\n",
       "      <td>.505</td>\n",
       "      <td>.390</td>\n",
       "      <td>.342</td>\n",
       "    </tr>\n",
       "    <tr>\n",
       "      <th>15</th>\n",
       "      <td>Miami Heat</td>\n",
       "      <td>.509</td>\n",
       "      <td>.375</td>\n",
       "      <td>.349</td>\n",
       "    </tr>\n",
       "    <tr>\n",
       "      <th>16</th>\n",
       "      <td>Milwaukee Bucks*</td>\n",
       "      <td>.565</td>\n",
       "      <td>.424</td>\n",
       "      <td>.353</td>\n",
       "    </tr>\n",
       "    <tr>\n",
       "      <th>17</th>\n",
       "      <td>Minnesota Timberwolves</td>\n",
       "      <td>.504</td>\n",
       "      <td>.395</td>\n",
       "      <td>.351</td>\n",
       "    </tr>\n",
       "    <tr>\n",
       "      <th>18</th>\n",
       "      <td>New Orleans Pelicans</td>\n",
       "      <td>.536</td>\n",
       "      <td>.447</td>\n",
       "      <td>.344</td>\n",
       "    </tr>\n",
       "    <tr>\n",
       "      <th>19</th>\n",
       "      <td>New York Knicks</td>\n",
       "      <td>.479</td>\n",
       "      <td>.386</td>\n",
       "      <td>.340</td>\n",
       "    </tr>\n",
       "    <tr>\n",
       "      <th>20</th>\n",
       "      <td>Oklahoma City Thunder*</td>\n",
       "      <td>.510</td>\n",
       "      <td>.372</td>\n",
       "      <td>.348</td>\n",
       "    </tr>\n",
       "    <tr>\n",
       "      <th>21</th>\n",
       "      <td>Orlando Magic*</td>\n",
       "      <td>.509</td>\n",
       "      <td>.384</td>\n",
       "      <td>.356</td>\n",
       "    </tr>\n",
       "    <tr>\n",
       "      <th>22</th>\n",
       "      <td>Philadelphia 76ers*</td>\n",
       "      <td>.529</td>\n",
       "      <td>.401</td>\n",
       "      <td>.359</td>\n",
       "    </tr>\n",
       "    <tr>\n",
       "      <th>23</th>\n",
       "      <td>Phoenix Suns</td>\n",
       "      <td>.525</td>\n",
       "      <td>.440</td>\n",
       "      <td>.329</td>\n",
       "    </tr>\n",
       "    <tr>\n",
       "      <th>24</th>\n",
       "      <td>Portland Trail Blazers*</td>\n",
       "      <td>.523</td>\n",
       "      <td>.454</td>\n",
       "      <td>.359</td>\n",
       "    </tr>\n",
       "    <tr>\n",
       "      <th>25</th>\n",
       "      <td>Sacramento Kings</td>\n",
       "      <td>.504</td>\n",
       "      <td>.404</td>\n",
       "      <td>.378</td>\n",
       "    </tr>\n",
       "    <tr>\n",
       "      <th>26</th>\n",
       "      <td>San Antonio Spurs*</td>\n",
       "      <td>.513</td>\n",
       "      <td>.436</td>\n",
       "      <td>.392</td>\n",
       "    </tr>\n",
       "    <tr>\n",
       "      <th>27</th>\n",
       "      <td>Toronto Raptors*</td>\n",
       "      <td>.539</td>\n",
       "      <td>.431</td>\n",
       "      <td>.366</td>\n",
       "    </tr>\n",
       "    <tr>\n",
       "      <th>28</th>\n",
       "      <td>Utah Jazz*</td>\n",
       "      <td>.541</td>\n",
       "      <td>.398</td>\n",
       "      <td>.356</td>\n",
       "    </tr>\n",
       "    <tr>\n",
       "      <th>29</th>\n",
       "      <td>Washington Wizards</td>\n",
       "      <td>.543</td>\n",
       "      <td>.386</td>\n",
       "      <td>.341</td>\n",
       "    </tr>\n",
       "    <tr>\n",
       "      <th>30</th>\n",
       "      <td>League Average</td>\n",
       "      <td>.520</td>\n",
       "      <td>.413</td>\n",
       "      <td>.355</td>\n",
       "    </tr>\n",
       "  </tbody>\n",
       "</table>\n",
       "</div>"
      ],
      "text/plain": [
       "                       Team % 2P Shots Made % Midrange Shots(10-16ft) Made  \\\n",
       "0             Atlanta Hawks            .518                           .374   \n",
       "1           Boston Celtics*            .527                           .448   \n",
       "2            Brooklyn Nets*            .513                           .423   \n",
       "3             Chicago Bulls            .496                           .392   \n",
       "4         Charlotte Hornets            .507                           .440   \n",
       "5       Cleveland Cavaliers            .488                           .411   \n",
       "6          Dallas Mavericks            .524                           .397   \n",
       "7           Denver Nuggets*            .527                           .457   \n",
       "8          Detroit Pistons*            .500                           .365   \n",
       "9    Golden State Warriors*            .557                           .477   \n",
       "10         Houston Rockets*            .551                           .415   \n",
       "11          Indiana Pacers*            .517                           .416   \n",
       "12    Los Angeles Clippers*            .507                           .426   \n",
       "13       Los Angeles Lakers            .541                           .372   \n",
       "14        Memphis Grizzlies            .505                           .390   \n",
       "15               Miami Heat            .509                           .375   \n",
       "16         Milwaukee Bucks*            .565                           .424   \n",
       "17   Minnesota Timberwolves            .504                           .395   \n",
       "18     New Orleans Pelicans            .536                           .447   \n",
       "19          New York Knicks            .479                           .386   \n",
       "20   Oklahoma City Thunder*            .510                           .372   \n",
       "21           Orlando Magic*            .509                           .384   \n",
       "22      Philadelphia 76ers*            .529                           .401   \n",
       "23             Phoenix Suns            .525                           .440   \n",
       "24  Portland Trail Blazers*            .523                           .454   \n",
       "25         Sacramento Kings            .504                           .404   \n",
       "26       San Antonio Spurs*            .513                           .436   \n",
       "27         Toronto Raptors*            .539                           .431   \n",
       "28               Utah Jazz*            .541                           .398   \n",
       "29       Washington Wizards            .543                           .386   \n",
       "30           League Average            .520                           .413   \n",
       "\n",
       "   % 3P Shots Made  \n",
       "0             .352  \n",
       "1             .365  \n",
       "2             .353  \n",
       "3             .351  \n",
       "4             .351  \n",
       "5             .355  \n",
       "6             .340  \n",
       "7             .351  \n",
       "8             .348  \n",
       "9             .385  \n",
       "10            .356  \n",
       "11            .374  \n",
       "12            .388  \n",
       "13            .333  \n",
       "14            .342  \n",
       "15            .349  \n",
       "16            .353  \n",
       "17            .351  \n",
       "18            .344  \n",
       "19            .340  \n",
       "20            .348  \n",
       "21            .356  \n",
       "22            .359  \n",
       "23            .329  \n",
       "24            .359  \n",
       "25            .378  \n",
       "26            .392  \n",
       "27            .366  \n",
       "28            .356  \n",
       "29            .341  \n",
       "30            .355  "
      ]
     },
     "execution_count": 176,
     "metadata": {},
     "output_type": "execute_result"
    }
   ],
   "source": [
    "df_2018"
   ]
  },
  {
   "cell_type": "markdown",
   "metadata": {},
   "source": [
    "Now we are ready to plot the data and run linear regressions to visually determine if there is a trend in the data over the past two decades. "
   ]
  },
  {
   "cell_type": "code",
   "execution_count": 177,
   "metadata": {},
   "outputs": [
    {
     "data": {
      "text/plain": [
       "[<matplotlib.lines.Line2D at 0x7ff032f94a58>]"
      ]
     },
     "execution_count": 177,
     "metadata": {},
     "output_type": "execute_result"
    },
    {
     "data": {
      "image/png": "[encoded data removed]",
      "text/plain": [
       "<Figure size 432x288 with 1 Axes>"
      ]
     },
     "metadata": {
      "needs_background": "light"
     },
     "output_type": "display_data"
    }
   ],
   "source": [
    "#add the years to the dataframe and set the shot values as numeric values\n",
    "percent2PData = {'year' : [2000, 2001, 2002, 2003, 2004, 2005, 2006, 2007, 2008, 2009, 2010, 2011, 2012, 2013, 2014, 2015, 2016, 2017, 2018],\n",
    "                 '% 2P Shots Made': [df_2000.iloc[-1]['% 2P Shots Made'], df_2001.iloc[-1]['% 2P Shots Made'], df_2002.iloc[-1]['% 2P Shots Made'], df_2003.iloc[-1]['% 2P Shots Made'], df_2004.iloc[-1]['% 2P Shots Made'], df_2005.iloc[-1]['% 2P Shots Made'], df_2006.iloc[-1]['% 2P Shots Made'], df_2007.iloc[-1]['% 2P Shots Made'], df_2008.iloc[-1]['% 2P Shots Made'], df_2009.iloc[-1]['% 2P Shots Made'], df_2010.iloc[-1]['% 2P Shots Made'], df_2011.iloc[-1]['% 2P Shots Made'], df_2012.iloc[-1]['% 2P Shots Made'], df_2013.iloc[-1]['% 2P Shots Made'], df_2014.iloc[-1]['% 2P Shots Made'], df_2015.iloc[-1]['% 2P Shots Made'], df_2016.iloc[-1]['% 2P Shots Made'], df_2017.iloc[-1]['% 2P Shots Made'], df_2018.iloc[-1]['% 2P Shots Made']],}\n",
    "df_2PMade = pd.DataFrame(percent2PData)\n",
    "df_2PMade['% 2P Shots Made'] = pd.to_numeric(df_2PMade['% 2P Shots Made'])\n",
    "\n",
    "#plot points\n",
    "df_2PMade.plot.scatter(x='year', y='% 2P Shots Made')\n",
    "\n",
    "#plot regression line\n",
    "a1, b1 = np.polyfit(df_2PMade['year'], df_2PMade['% 2P Shots Made'], 1)\n",
    "x1 = np.arange(2000, 2019, 1)\n",
    "y1 = a1 * x1 + b1\n",
    "plt.plot(x1, y1, color='red')"
   ]
  },
  {
   "cell_type": "markdown",
   "metadata": {},
   "source": [
    "There appears to be a strong trend of the data as linear regression shows a promising upward trend, but we will need to perform more tests to be sure."
   ]
  },
  {
   "cell_type": "code",
   "execution_count": 178,
   "metadata": {},
   "outputs": [
    {
     "data": {
      "text/plain": [
       "[<matplotlib.lines.Line2D at 0x7ff032efef98>]"
      ]
     },
     "execution_count": 178,
     "metadata": {},
     "output_type": "execute_result"
    },
    {
     "data": {
      "image/png": "[encoded data removed]",
      "text/plain": [
       "<Figure size 432x288 with 1 Axes>"
      ]
     },
     "metadata": {
      "needs_background": "light"
     },
     "output_type": "display_data"
    }
   ],
   "source": [
    "#add the years to the dataframe and set the shot values as numeric values\n",
    "percentMidrangeData = {'year' : [2000, 2001, 2002, 2003, 2004, 2005, 2006, 2007, 2008, 2009, 2010, 2011, 2012, 2013, 2014, 2015, 2016, 2017, 2018],\n",
    "                       '% Midrange Shots Made': [df_2000.iloc[-1]['% Midrange Shots(10-16ft) Made'], df_2001.iloc[-1]['% Midrange Shots(10-16ft) Made'], df_2002.iloc[-1]['% Midrange Shots(10-16ft) Made'], df_2003.iloc[-1]['% Midrange Shots(10-16ft) Made'], df_2004.iloc[-1]['% Midrange Shots(10-16ft) Made'], df_2005.iloc[-1]['% Midrange Shots(10-16ft) Made'], df_2006.iloc[-1]['% Midrange Shots(10-16ft) Made'], df_2007.iloc[-1]['% Midrange Shots(10-16ft) Made'], df_2008.iloc[-1]['% Midrange Shots(10-16ft) Made'], df_2009.iloc[-1]['% Midrange Shots(10-16ft) Made'], df_2010.iloc[-1]['% Midrange Shots(10-16ft) Made'], df_2011.iloc[-1]['% Midrange Shots(10-16ft) Made'], df_2012.iloc[-1]['% Midrange Shots(10-16ft) Made'], df_2013.iloc[-1]['% Midrange Shots(10-16ft) Made'], df_2014.iloc[-1]['% Midrange Shots(10-16ft) Made'], df_2015.iloc[-1]['% Midrange Shots(10-16ft) Made'], df_2016.iloc[-1]['% Midrange Shots(10-16ft) Made'], df_2017.iloc[-1]['% Midrange Shots(10-16ft) Made'], df_2018.iloc[-1]['% Midrange Shots(10-16ft) Made']]}\n",
    "df_MidrangeMade = pd.DataFrame(percentMidrangeData)\n",
    "df_MidrangeMade['% Midrange Shots Made'] = pd.to_numeric(df_MidrangeMade['% Midrange Shots Made'])\n",
    "\n",
    "#plot points\n",
    "df_MidrangeMade.plot.scatter(x='year', y='% Midrange Shots Made')\n",
    "\n",
    "#plot regression line\n",
    "a2, b2 = np.polyfit(df_MidrangeMade['year'], df_MidrangeMade['% Midrange Shots Made'], 1)\n",
    "x2 = np.arange(2000, 2019, 1)\n",
    "y2 = a2 * x2 + b2\n",
    "plt.plot(x2, y2, color='red')"
   ]
  },
  {
   "cell_type": "markdown",
   "metadata": {},
   "source": [
    "Similar to the graph for 2P shots, there appears to be a strong trend of the data as linear regression shows a promising upward trend, but we will need to perform more tests to be sure."
   ]
  },
  {
   "cell_type": "code",
   "execution_count": 179,
   "metadata": {},
   "outputs": [
    {
     "data": {
      "text/plain": [
       "[<matplotlib.lines.Line2D at 0x7ff032edfef0>]"
      ]
     },
     "execution_count": 179,
     "metadata": {},
     "output_type": "execute_result"
    },
    {
     "data": {
      "image/png": "[encoded data removed]",
      "text/plain": [
       "<Figure size 432x288 with 1 Axes>"
      ]
     },
     "metadata": {
      "needs_background": "light"
     },
     "output_type": "display_data"
    }
   ],
   "source": [
    "#add the years to the dataframe and set the shot values as numeric values\n",
    "percent3PData = {'year' : [2000, 2001, 2002, 2003, 2004, 2005, 2006, 2007, 2008, 2009, 2010, 2011, 2012, 2013, 2014, 2015, 2016, 2017, 2018],\n",
    "                 '% 3P Shots Made': [df_2000.iloc[-1]['% 3P Shots Made'], df_2001.iloc[-1]['% 3P Shots Made'], df_2002.iloc[-1]['% 3P Shots Made'], df_2003.iloc[-1]['% 3P Shots Made'], df_2004.iloc[-1]['% 3P Shots Made'], df_2005.iloc[-1]['% 3P Shots Made'], df_2006.iloc[-1]['% 3P Shots Made'], df_2007.iloc[-1]['% 3P Shots Made'], df_2008.iloc[-1]['% 3P Shots Made'], df_2009.iloc[-1]['% 3P Shots Made'], df_2010.iloc[-1]['% 3P Shots Made'], df_2011.iloc[-1]['% 3P Shots Made'], df_2012.iloc[-1]['% 3P Shots Made'], df_2013.iloc[-1]['% 3P Shots Made'], df_2014.iloc[-1]['% 3P Shots Made'], df_2015.iloc[-1]['% 3P Shots Made'], df_2016.iloc[-1]['% 3P Shots Made'], df_2017.iloc[-1]['% 3P Shots Made'], df_2018.iloc[-1]['% 3P Shots Made']]}\n",
    "df_3PMade = pd.DataFrame(percent3PData)\n",
    "df_3PMade['% 3P Shots Made'] = pd.to_numeric(df_3PMade['% 3P Shots Made'])\n",
    "\n",
    "#plot points\n",
    "df_3PMade.plot.scatter(x='year', y='% 3P Shots Made')\n",
    "\n",
    "#plot regression line\n",
    "a3, b3 = np.polyfit(df_3PMade['year'], df_3PMade['% 3P Shots Made'], 1)\n",
    "x3 = np.arange(2000, 2019, 1)\n",
    "y3 = a3 * x3 + b3\n",
    "plt.plot(x3, y3, color='red')"
   ]
  },
  {
   "cell_type": "markdown",
   "metadata": {},
   "source": [
    "Unlike the graphs for 2P shots and midrange shots, there does not appears to be a strong trend of the data. There does seem to be a slight favor for increasing percentage of 3P shots made, but we will need to perform more tests to be sure."
   ]
  },
  {
   "cell_type": "code",
   "execution_count": 180,
   "metadata": {},
   "outputs": [
    {
     "data": {
      "text/plain": [
       "<matplotlib.legend.Legend at 0x7ff032e4f1d0>"
      ]
     },
     "execution_count": 180,
     "metadata": {},
     "output_type": "execute_result"
    },
    {
     "data": {
      "image/png": "[encoded data removed]",
      "text/plain": [
       "<Figure size 432x288 with 1 Axes>"
      ]
     },
     "metadata": {
      "needs_background": "light"
     },
     "output_type": "display_data"
    }
   ],
   "source": [
    "#plot all three data sets in one graph\n",
    "plt.plot( df_2PMade['year'], df_2PMade['% 2P Shots Made'], marker = 'o', color = 'red', label = '2P')\n",
    "plt.plot( df_MidrangeMade['year'], df_MidrangeMade['% Midrange Shots Made'], marker='o', color = 'green', label = 'Midrange')\n",
    "plt.plot( df_3PMade['year'], df_3PMade['% 3P Shots Made'], marker='o', color = 'blue', label = '3P')\n",
    "plt.legend()"
   ]
  },
  {
   "cell_type": "markdown",
   "metadata": {},
   "source": [
    "Overlaying all of the data from the three different distances from the hoop more easily illustrates the changes within the distances and well as the relative change between the distances. It appears as if the 2P shots distances are experiencing the largest change, with an increase in shots made as time progresses. The midrange shot also seems to have an increase in popularity in term of shots made as it begins at 0.385% in 2000 and becomes 0.413% in 2018. However, the 3P shot experiences the least amount of change out of the three shot distances - it changes only from 0.354% made in 2000 to 0.355% made in 2018. \n",
    "\n",
    "We can run a ttest on the separate three separate data for 2P, midrange, and 3P shots to determine whether or not there is a significant difference between the average percent of shots made in the past versus the current time. We will split the data into two groups for all of the shot distances: one group ranging from 2000 to 2009 and another group ranging from 2010 to 2018."
   ]
  },
  {
   "cell_type": "code",
   "execution_count": 181,
   "metadata": {},
   "outputs": [
    {
     "data": {
      "text/plain": [
       "Ttest_indResult(statistic=-3.2673799697014316, pvalue=0.0045385633838504243)"
      ]
     },
     "execution_count": 181,
     "metadata": {},
     "output_type": "execute_result"
    }
   ],
   "source": [
    "#run a ttest on the first half versus second half of data\n",
    "ttest_ind(df_2PMade['% 2P Shots Made'][:10], df_2PMade['% 2P Shots Made'][10:])"
   ]
  },
  {
   "cell_type": "markdown",
   "metadata": {},
   "source": [
    "From the pvalue of 0.00454 (0.00454 < 0.01) we can see that there is a significant difference in the data. The percentage of 2P shots made has increased since the past two decades."
   ]
  },
  {
   "cell_type": "code",
   "execution_count": 182,
   "metadata": {},
   "outputs": [
    {
     "data": {
      "text/plain": [
       "Ttest_indResult(statistic=-4.0312731576558738, pvalue=0.00086647498885918431)"
      ]
     },
     "execution_count": 182,
     "metadata": {},
     "output_type": "execute_result"
    }
   ],
   "source": [
    "#run a ttest on the first half versus second half of data\n",
    "ttest_ind(df_MidrangeMade['% Midrange Shots Made'][:10], df_MidrangeMade['% Midrange Shots Made'][10:])"
   ]
  },
  {
   "cell_type": "markdown",
   "metadata": {},
   "source": [
    "From the pvalue of 0.000866 (0.000866 < 0.01) we can see that there is a significant difference in the data. The percentage of midrange shots made has increased since the past two decades."
   ]
  },
  {
   "cell_type": "code",
   "execution_count": 183,
   "metadata": {},
   "outputs": [
    {
     "data": {
      "text/plain": [
       "Ttest_indResult(statistic=-0.046343414364713287, pvalue=0.9635765983017327)"
      ]
     },
     "execution_count": 183,
     "metadata": {},
     "output_type": "execute_result"
    }
   ],
   "source": [
    "#run a ttest on the first half versus second half of data\n",
    "ttest_ind(df_3PMade['% 3P Shots Made'][:10], df_3PMade['% 3P Shots Made'][10:])"
   ]
  },
  {
   "cell_type": "markdown",
   "metadata": {},
   "source": [
    "From the pvalue of 0.964 (0.964 > 0.01) we can see that there is NOT a significant difference in the data. The percentage of 3P shots made has stayed fairly consistent the past two decades."
   ]
  }
 ],
 "metadata": {
  "kernelspec": {
   "display_name": "Python 3",
   "language": "python",
   "name": "python3"
  },
  "language_info": {
   "codemirror_mode": {
    "name": "ipython",
    "version": 3
   },
   "file_extension": ".py",
   "mimetype": "text/x-python",
   "name": "python",
   "nbconvert_exporter": "python",
   "pygments_lexer": "ipython3",
   "version": "3.6.7"
  }
 },
 "nbformat": 4,
 "nbformat_minor": 2
}
