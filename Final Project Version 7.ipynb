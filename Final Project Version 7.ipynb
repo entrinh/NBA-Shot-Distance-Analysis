{
 "cells": [
  {
   "cell_type": "markdown",
   "metadata": {},
   "source": [
    "# COGS 108 Final Project"
   ]
  },
  {
   "cell_type": "markdown",
   "metadata": {},
   "source": [
    "## Overview"
   ]
  },
  {
   "cell_type": "markdown",
   "metadata": {},
   "source": [
    "Throughout this project, we tested our data science question by splitting it up into three smaller questions. In our first analysis, we compared the average shot distance for the winning team of each season over the past two decades. In our second analysis, we followed the trend of shot distances for 2-pointers, mid-range, and 3-pointer shots over time. In our last analysis, we looked at the relationships between both the percentages and the raw number of three-pointers when compared to the amount of three-pointers attempted, made, and all shots attempted."
   ]
  },
  {
   "cell_type": "markdown",
   "metadata": {},
   "source": [
    "## Group Members\n",
    "- Eric Yang: Background Research, Exploratory, Conclusions\n",
    "- David Gallardo: Analysis: Part I, Data Wrangling, Conclusions\n",
    "- Alvin Wong: Question & Hypothesis, Analysis - Part II, Conclusions\n",
    "- Vincent Tran: Ethical Considerations, Analysis - Part III, Conclusions\n",
    "- Eric Trinh: Dataset, Data Wrangling, Descriptive, Conclusions"
   ]
  },
  {
   "cell_type": "markdown",
   "metadata": {},
   "source": [
    "## Group Members IDs"
   ]
  },
  {
   "cell_type": "markdown",
   "metadata": {},
   "source": [
    "- Eric Yang (A13828349)\n",
    "- David Gallardo (A13964082)\n",
    "- Alvin Wong (A14633089)\n",
    "- Vincent Tran (A15535418)\n",
    "- Eric Trinh (A15341308)"
   ]
  },
  {
   "cell_type": "markdown",
   "metadata": {},
   "source": [
    "## Research Question:\n",
    "How has the average NBA shot distance changed over the last two decades, specifically the percentage of three-point shots attempted and made, and how has this affected average shot distance?"
   ]
  },
  {
   "cell_type": "markdown",
   "metadata": {},
   "source": [
    "## Background Research"
   ]
  },
  {
   "cell_type": "markdown",
   "metadata": {},
   "source": [
    "One of the most popular sports in the United States is basketball. Within the game of basketball, the three-point shot has increased in popularity and has greatly impacted the game ever since the introduction of the three-point line. Many basketball players today have the three-point shot as part of their skillset and it is an important skill to have for guards. Even centers today, who traditionally are not known for shooting, are beginning to pick up the three-point shot. Additionally, college athletes today are shooting more three-point shots than ever before (1). However, the three-point line is a relatively new creation as it was added to basketball in 1979 while basketball was first invented in 1891 and the National Basketball Association (NBA) created in 1946 (2). \n",
    "\n",
    "Looking at previous projects, students have looked into the impact of the three-point shot and also the practicality or effectiveness of the three-point shot. But, none have explored and analyzed the change in shot distance because of the three-point line. We believe that the amount of shots taken at longer distances have increased ever since the introduction of the three-point line, especially as teams place more and more weight on three-point shots in their game plans.\n",
    "\n",
    "References:\n",
    "- 1) https://bleacherreport.com/articles/2762158-the-3-point-revolution-has-taken-over-college-basketball-too\n",
    "- 2) https://www.usab.com/youth/news/2011/06/the-history-of-the-3-pointer.aspx\n"
   ]
  },
  {
   "cell_type": "markdown",
   "metadata": {},
   "source": [
    "## Hypothesis:\n",
    "The average NBA shot distance will have increased due to the addition of the three-point line. \n",
    "\n",
    "With the introduction of the three-point line, as players become better shooters and more familiar with the three-point line, players will take their shots from a farther distance to have a chance at making three-point shots, as statistically, a three-point shot contributes more to a game victory than a two-point shot. Additionally, the average NBA shot distance is directly proportional to the distance of the three-point line from the hoop, so as more players begin to take more and more three-point shots, and the three-point line gets pushed further out, the average shot distance of the NBA will consequently increase."
   ]
  },
  {
   "cell_type": "markdown",
   "metadata": {},
   "source": [
    "## Data Set\n",
    "https://www.basketball-reference.com/ will be our primary resource to gather data from. It has nearly everything one would want regarding basketball statistics from statistics for current and past players, teams, and coaches, meaning we are able to collect concise empirical data for absolutely any and all specific data points we would want to extrapolate from just this one resource. This website also allows us to export data through CSV files, which we can easily import into Python. This also means that data wrangling on the datasets coming from this website should be very simple and straightforward.\n",
    "\n",
    "- Data Set Name: Basketball Reference\n",
    "- Link to the Data Set: https://www.basketball-reference.com/\n",
    "- Number of Observations: All basketball teams participating in the NBA from 2000 to 2018"
   ]
  },
  {
   "cell_type": "markdown",
   "metadata": {},
   "source": [
    "### Importing Packages\n",
    "\n",
    "First we need to read import packages in order to analyze our data and begin to answer our data science question. Pandas and numpy are used to create and manipulate the dataframes that hold our data from our datasets. Matplotlib.pyplot is used to plot the data we will acquire from the datasets. Finally, scipy.stats is imported to run statistical analysis on our data."
   ]
  },
  {
   "cell_type": "code",
   "execution_count": 1,
   "metadata": {},
   "outputs": [],
   "source": [
    "#Imports important libraries\n",
    "%matplotlib inline\n",
    "import pandas as pd\n",
    "import seaborn as sns\n",
    "import matplotlib.pyplot as plt\n",
    "import numpy as np\n",
    "import pylab as pl\n",
    "import os\n",
    "from IPython.display import Markdown\n",
    "from scipy.stats import ttest_ind"
   ]
  },
  {
   "cell_type": "markdown",
   "metadata": {},
   "source": [
    "### Importing Data\n",
    "This imports all the csv files needed for our data analysis. For each year, we import a csv that contains statistics about the average performance per game for each team, the team's shooting, and each team's stats."
   ]
  },
  {
   "cell_type": "code",
   "execution_count": 2,
   "metadata": {},
   "outputs": [],
   "source": [
    "#NBA Season 2000-2001\n",
    "df_00_01PG = pd.read_csv('00-01_team_per_game_stats.csv')\n",
    "df_00_01TS = pd.read_csv('00-01_team_shooting.csv')\n",
    "df_00_01S = pd.read_csv('00-01_team_stats.csv')\n",
    "\n",
    "#NBA Season 2001-2002\n",
    "df_01_02PG = pd.read_csv('01-02_team_per_game_stats.csv')\n",
    "df_01_02TS = pd.read_csv('01-02_team_shooting.csv')\n",
    "df_01_02S = pd.read_csv('01-02_team_stats.csv')\n",
    "\n",
    "#NBA Season 2002-2003\n",
    "df_02_03PG = pd.read_csv('02-03_team_per_game_stats.csv')\n",
    "df_02_03TS = pd.read_csv('02-03_team_shooting.csv')\n",
    "df_02_03S = pd.read_csv('02-03_team_stats.csv')\n",
    "\n",
    "#NBA Season 2003-2004\n",
    "df_03_04PG = pd.read_csv('03-04_team_per_game_stats.csv')\n",
    "df_03_04TS = pd.read_csv('03-04_team_shooting.csv')\n",
    "df_03_04S = pd.read_csv('03-04_team_stats.csv')\n",
    "\n",
    "#NBA Season 2004-2005\n",
    "df_04_05PG = pd.read_csv('04-05_team_per_game_stats.csv')\n",
    "df_04_05TS = pd.read_csv('04-05_team_shooting.csv')\n",
    "df_04_05S = pd.read_csv('04-05_team_stats.csv')\n",
    "\n",
    "#NBA Season 2005-2006\n",
    "df_05_06PG = pd.read_csv('05-06_team_per_game_stats.csv')\n",
    "df_05_06TS = pd.read_csv('05-06_team_shooting.csv')\n",
    "df_05_06S = pd.read_csv('05-06_team_stats.csv')\n",
    "\n",
    "#NBA Season 2006-2007\n",
    "df_06_07PG = pd.read_csv('06-07_team_per_game_stats.csv')\n",
    "df_06_07TS = pd.read_csv('06-07_team_shooting.csv')\n",
    "df_06_07S = pd.read_csv('06-07_team_stats.csv')\n",
    "\n",
    "#NBA Season 2007-2008\n",
    "df_07_08PG = pd.read_csv('07-08_team_per_game_stats.csv')\n",
    "df_07_08TS = pd.read_csv('07-08_team_shooting.csv')\n",
    "df_07_08S = pd.read_csv('07-08_team_stats.csv')\n",
    "\n",
    "#NBA Season 2008-2009\n",
    "df_08_09PG = pd.read_csv('08-09_team_per_game_stats.csv')\n",
    "df_08_09TS = pd.read_csv('08-09_team_shooting.csv')\n",
    "df_08_09S = pd.read_csv('08-09_team_stats.csv')\n",
    "\n",
    "#NBA Season 2009-2010\n",
    "df_09_10PG = pd.read_csv('09-10_team_per_game_stats.csv')\n",
    "df_09_10TS = pd.read_csv('09-10_team_shooting.csv')\n",
    "df_09_10S = pd.read_csv('09-10_team_stats.csv')\n",
    "\n",
    "#NBA Season 2010-2011\n",
    "df_10_11PG = pd.read_csv('10-11_team_per_game_stats.csv')\n",
    "df_10_11TS = pd.read_csv('10-11_team_shooting.csv')\n",
    "df_10_11S = pd.read_csv('10-11_team_stats.csv')\n",
    "\n",
    "#NBA Season 2011-2012\n",
    "df_11_12PG = pd.read_csv('11-12_team_per_game_stats.csv')\n",
    "df_11_12TS = pd.read_csv('11-12_team_shooting.csv')\n",
    "df_11_12S = pd.read_csv('11-12_team_stats.csv')\n",
    "\n",
    "#NBA Season 2012-2013\n",
    "df_12_13PG = pd.read_csv('12-13_team_per_game_stats.csv')\n",
    "df_12_13TS = pd.read_csv('12-13_team_shooting.csv')\n",
    "df_12_13S = pd.read_csv('12-13_team_stats.csv')\n",
    "\n",
    "#NBA Season 2013-2014\n",
    "df_13_14PG = pd.read_csv('13-14_team_per_game_stats.csv')\n",
    "df_13_14TS = pd.read_csv('13-14_team_shooting.csv')\n",
    "df_13_14S = pd.read_csv('13-14_team_stats.csv')\n",
    "\n",
    "#NBA Season 2014-2015\n",
    "df_14_15PG = pd.read_csv('14-15_team_per_game_stats.csv')\n",
    "df_14_15TS = pd.read_csv('14-15_team_shooting.csv')\n",
    "df_14_15S = pd.read_csv('14-15_team_stats.csv')\n",
    "\n",
    "#NBA Season 2015-2016\n",
    "df_15_16PG = pd.read_csv('15-16_team_per_game_stats.csv')\n",
    "df_15_16TS = pd.read_csv('15-16_team_shooting.csv')\n",
    "df_15_16S = pd.read_csv('15-16_team_stats.csv')\n",
    "\n",
    "#NBA Season 2016-2017\n",
    "df_16_17PG = pd.read_csv('16-17_team_per_game_stats.csv')\n",
    "df_16_17TS = pd.read_csv('16-17_team_shooting.csv')\n",
    "df_16_17S = pd.read_csv('16-17_team_stats.csv')\n",
    "\n",
    "#NBA Season 2017-2018\n",
    "df_17_18PG = pd.read_csv('17-18_team_per_game_stats.csv')\n",
    "df_17_18TS = pd.read_csv('17-18_team_shooting.csv')\n",
    "df_17_18S = pd.read_csv('17-18_team_stats.csv')\n",
    "\n",
    "#NBA Season 2018-2019\n",
    "df_18_19PG = pd.read_csv('18-19_team_per_game_stats.csv')\n",
    "df_18_19TS = pd.read_csv('18-19_team_shooting.csv')\n",
    "df_18_19S = pd.read_csv('18-19_team_stats.csv')"
   ]
  },
  {
   "cell_type": "markdown",
   "metadata": {},
   "source": [
    "Once the CSVs have been read into DataFrames, the data is ready to be used for analysis. However, due to the expansive nature of the data, each DataFrame will be modified in each individual analysis to only keep the columns that are pertinent to the analysis at hand."
   ]
  },
  {
   "cell_type": "markdown",
   "metadata": {},
   "source": [
    "## Descriptive Analysis"
   ]
  },
  {
   "cell_type": "markdown",
   "metadata": {},
   "source": [
    "<b>References:</b><br>\n",
    "https://github.com/COGS108/FinalProjects-Wi18/blob/master/001-FinalProject.ipynb<br>\n",
    "https://github.com/COGS108/Lectures-Sp19/blob/master/08_descriptive/08_descriptive.ipynb"
   ]
  },
  {
   "cell_type": "markdown",
   "metadata": {},
   "source": [
    "First things first, we need to set up some pandas options so we do not get overwhelmed with too much data at one time, as well as set up a proper precision for our decimals."
   ]
  },
  {
   "cell_type": "code",
   "execution_count": 3,
   "metadata": {},
   "outputs": [],
   "source": [
    "# Configure libraries\n",
    "# Don't display too many rows/cols of DataFrames\n",
    "pd.options.display.max_rows = 11\n",
    "pd.options.display.max_columns = 26\n",
    "\n",
    "# Round decimals when displaying DataFrames\n",
    "pd.set_option('precision', 3)"
   ]
  },
  {
   "cell_type": "markdown",
   "metadata": {},
   "source": [
    "Each dataset will be held in dictionaries, as that allows us to reference each file by its name, rather than its index."
   ]
  },
  {
   "cell_type": "code",
   "execution_count": 4,
   "metadata": {},
   "outputs": [],
   "source": [
    "folder_path   = './'\n",
    "t_per_game = {}\n",
    "t_shooting = {}\n",
    "t_stats    = {}"
   ]
  },
  {
   "cell_type": "markdown",
   "metadata": {},
   "source": [
    "Each dataset has columns that bear no relation to our research question, such as assists, steals, blocks, minutes played, etc. We will begin our cleaning of the data by removing these columns. After doing so, we will place the files into their respective dictionaries, one for each data set.\n",
    "\n",
    "One thing to note: since we are analyzing so many seasons and have multiple datasets, for this section, only one season, namely the 2018-2019 season's data will be shown to prevent unnecessarily extending the length of this document to extreme levels."
   ]
  },
  {
   "cell_type": "code",
   "execution_count": 5,
   "metadata": {},
   "outputs": [
    {
     "data": {
      "text/markdown": [
       "**'Team Per Game' Filtered Table**"
      ],
      "text/plain": [
       "<IPython.core.display.Markdown object>"
      ]
     },
     "metadata": {},
     "output_type": "display_data"
    },
    {
     "name": "stderr",
     "output_type": "stream",
     "text": [
      "C:\\Users\\Eric\\Anaconda3\\lib\\site-packages\\ipykernel_launcher.py:3: ParserWarning: Falling back to the 'python' engine because the 'c' engine does not support skipfooter; you can avoid this warning by specifying engine='python'.\n",
      "  This is separate from the ipykernel package so we can avoid doing imports until\n"
     ]
    },
    {
     "data": {
      "text/markdown": [
       "**2018-2019 Season**"
      ],
      "text/plain": [
       "<IPython.core.display.Markdown object>"
      ]
     },
     "metadata": {},
     "output_type": "display_data"
    },
    {
     "data": {
      "text/html": [
       "<div>\n",
       "<style scoped>\n",
       "    .dataframe tbody tr th:only-of-type {\n",
       "        vertical-align: middle;\n",
       "    }\n",
       "\n",
       "    .dataframe tbody tr th {\n",
       "        vertical-align: top;\n",
       "    }\n",
       "\n",
       "    .dataframe thead th {\n",
       "        text-align: right;\n",
       "    }\n",
       "</style>\n",
       "<table border=\"1\" class=\"dataframe\">\n",
       "  <thead>\n",
       "    <tr style=\"text-align: right;\">\n",
       "      <th></th>\n",
       "      <th>Team</th>\n",
       "      <th>FG</th>\n",
       "      <th>FGA</th>\n",
       "      <th>FG%</th>\n",
       "      <th>3P</th>\n",
       "      <th>3PA</th>\n",
       "      <th>3P%</th>\n",
       "      <th>2P</th>\n",
       "      <th>2PA</th>\n",
       "      <th>2P%</th>\n",
       "    </tr>\n",
       "  </thead>\n",
       "  <tbody>\n",
       "    <tr>\n",
       "      <th>0</th>\n",
       "      <td>Milwaukee Bucks*</td>\n",
       "      <td>43.4</td>\n",
       "      <td>91.1</td>\n",
       "      <td>0.476</td>\n",
       "      <td>13.5</td>\n",
       "      <td>38.2</td>\n",
       "      <td>0.353</td>\n",
       "      <td>29.9</td>\n",
       "      <td>52.9</td>\n",
       "      <td>0.565</td>\n",
       "    </tr>\n",
       "    <tr>\n",
       "      <th>1</th>\n",
       "      <td>Golden State Warriors*</td>\n",
       "      <td>44.0</td>\n",
       "      <td>89.8</td>\n",
       "      <td>0.491</td>\n",
       "      <td>13.3</td>\n",
       "      <td>34.4</td>\n",
       "      <td>0.385</td>\n",
       "      <td>30.8</td>\n",
       "      <td>55.3</td>\n",
       "      <td>0.557</td>\n",
       "    </tr>\n",
       "    <tr>\n",
       "      <th>2</th>\n",
       "      <td>New Orleans Pelicans</td>\n",
       "      <td>43.7</td>\n",
       "      <td>92.2</td>\n",
       "      <td>0.473</td>\n",
       "      <td>10.3</td>\n",
       "      <td>29.9</td>\n",
       "      <td>0.344</td>\n",
       "      <td>33.4</td>\n",
       "      <td>62.4</td>\n",
       "      <td>0.536</td>\n",
       "    </tr>\n",
       "    <tr>\n",
       "      <th>3</th>\n",
       "      <td>Philadelphia 76ers*</td>\n",
       "      <td>41.5</td>\n",
       "      <td>88.2</td>\n",
       "      <td>0.471</td>\n",
       "      <td>10.8</td>\n",
       "      <td>30.2</td>\n",
       "      <td>0.359</td>\n",
       "      <td>30.7</td>\n",
       "      <td>58.0</td>\n",
       "      <td>0.529</td>\n",
       "    </tr>\n",
       "    <tr>\n",
       "      <th>4</th>\n",
       "      <td>Los Angeles Clippers*</td>\n",
       "      <td>41.3</td>\n",
       "      <td>87.5</td>\n",
       "      <td>0.471</td>\n",
       "      <td>10.0</td>\n",
       "      <td>25.8</td>\n",
       "      <td>0.388</td>\n",
       "      <td>31.3</td>\n",
       "      <td>61.7</td>\n",
       "      <td>0.507</td>\n",
       "    </tr>\n",
       "    <tr>\n",
       "      <th>...</th>\n",
       "      <td>...</td>\n",
       "      <td>...</td>\n",
       "      <td>...</td>\n",
       "      <td>...</td>\n",
       "      <td>...</td>\n",
       "      <td>...</td>\n",
       "      <td>...</td>\n",
       "      <td>...</td>\n",
       "      <td>...</td>\n",
       "      <td>...</td>\n",
       "    </tr>\n",
       "    <tr>\n",
       "      <th>25</th>\n",
       "      <td>Miami Heat</td>\n",
       "      <td>39.6</td>\n",
       "      <td>88.0</td>\n",
       "      <td>0.450</td>\n",
       "      <td>11.3</td>\n",
       "      <td>32.4</td>\n",
       "      <td>0.349</td>\n",
       "      <td>28.3</td>\n",
       "      <td>55.6</td>\n",
       "      <td>0.509</td>\n",
       "    </tr>\n",
       "    <tr>\n",
       "      <th>26</th>\n",
       "      <td>Chicago Bulls</td>\n",
       "      <td>39.8</td>\n",
       "      <td>87.9</td>\n",
       "      <td>0.453</td>\n",
       "      <td>9.1</td>\n",
       "      <td>25.9</td>\n",
       "      <td>0.351</td>\n",
       "      <td>30.7</td>\n",
       "      <td>62.0</td>\n",
       "      <td>0.496</td>\n",
       "    </tr>\n",
       "    <tr>\n",
       "      <th>27</th>\n",
       "      <td>New York Knicks</td>\n",
       "      <td>38.2</td>\n",
       "      <td>88.3</td>\n",
       "      <td>0.433</td>\n",
       "      <td>10.0</td>\n",
       "      <td>29.5</td>\n",
       "      <td>0.340</td>\n",
       "      <td>28.2</td>\n",
       "      <td>58.8</td>\n",
       "      <td>0.479</td>\n",
       "    </tr>\n",
       "    <tr>\n",
       "      <th>28</th>\n",
       "      <td>Cleveland Cavaliers</td>\n",
       "      <td>38.9</td>\n",
       "      <td>87.6</td>\n",
       "      <td>0.444</td>\n",
       "      <td>10.3</td>\n",
       "      <td>29.1</td>\n",
       "      <td>0.355</td>\n",
       "      <td>28.6</td>\n",
       "      <td>58.5</td>\n",
       "      <td>0.488</td>\n",
       "    </tr>\n",
       "    <tr>\n",
       "      <th>29</th>\n",
       "      <td>Memphis Grizzlies</td>\n",
       "      <td>38.0</td>\n",
       "      <td>84.4</td>\n",
       "      <td>0.450</td>\n",
       "      <td>9.9</td>\n",
       "      <td>28.9</td>\n",
       "      <td>0.342</td>\n",
       "      <td>28.1</td>\n",
       "      <td>55.6</td>\n",
       "      <td>0.505</td>\n",
       "    </tr>\n",
       "  </tbody>\n",
       "</table>\n",
       "<p>30 rows × 10 columns</p>\n",
       "</div>"
      ],
      "text/plain": [
       "                      Team    FG   FGA    FG%    3P   3PA    3P%    2P   2PA  \\\n",
       "0         Milwaukee Bucks*  43.4  91.1  0.476  13.5  38.2  0.353  29.9  52.9   \n",
       "1   Golden State Warriors*  44.0  89.8  0.491  13.3  34.4  0.385  30.8  55.3   \n",
       "2     New Orleans Pelicans  43.7  92.2  0.473  10.3  29.9  0.344  33.4  62.4   \n",
       "3      Philadelphia 76ers*  41.5  88.2  0.471  10.8  30.2  0.359  30.7  58.0   \n",
       "4    Los Angeles Clippers*  41.3  87.5  0.471  10.0  25.8  0.388  31.3  61.7   \n",
       "..                     ...   ...   ...    ...   ...   ...    ...   ...   ...   \n",
       "25              Miami Heat  39.6  88.0  0.450  11.3  32.4  0.349  28.3  55.6   \n",
       "26           Chicago Bulls  39.8  87.9  0.453   9.1  25.9  0.351  30.7  62.0   \n",
       "27         New York Knicks  38.2  88.3  0.433  10.0  29.5  0.340  28.2  58.8   \n",
       "28     Cleveland Cavaliers  38.9  87.6  0.444  10.3  29.1  0.355  28.6  58.5   \n",
       "29       Memphis Grizzlies  38.0  84.4  0.450   9.9  28.9  0.342  28.1  55.6   \n",
       "\n",
       "      2P%  \n",
       "0   0.565  \n",
       "1   0.557  \n",
       "2   0.536  \n",
       "3   0.529  \n",
       "4   0.507  \n",
       "..    ...  \n",
       "25  0.509  \n",
       "26  0.496  \n",
       "27  0.479  \n",
       "28  0.488  \n",
       "29  0.505  \n",
       "\n",
       "[30 rows x 10 columns]"
      ]
     },
     "metadata": {},
     "output_type": "display_data"
    }
   ],
   "source": [
    "display(Markdown('**\\'Team Per Game\\' Filtered Table**'))\n",
    "for file in sorted(x for x in os.listdir(folder_path) if x.endswith(\"_team_per_game_stats.csv\")):\n",
    "    t_per_game[file] = pd.read_csv(folder_path + file, header=0, skipfooter=1).drop(['Rk','G','MP','FT','FTA','FT%','ORB','DRB','TRB'\n",
    "                                                                       ,'AST','STL','BLK','TOV','PF','PTS'], axis=1)\n",
    "display(Markdown('**2018-2019 Season**'))\n",
    "display(t_per_game['18-19_team_per_game_stats.csv'])"
   ]
  },
  {
   "cell_type": "code",
   "execution_count": 6,
   "metadata": {},
   "outputs": [
    {
     "data": {
      "text/markdown": [
       "**'Team Shooting' Filtered Table**"
      ],
      "text/plain": [
       "<IPython.core.display.Markdown object>"
      ]
     },
     "metadata": {},
     "output_type": "display_data"
    },
    {
     "name": "stderr",
     "output_type": "stream",
     "text": [
      "C:\\Users\\Eric\\Anaconda3\\lib\\site-packages\\ipykernel_launcher.py:5: ParserWarning: Falling back to the 'python' engine because the 'c' engine does not support skipfooter; you can avoid this warning by specifying engine='python'.\n",
      "  \"\"\"\n",
      "C:\\Users\\Eric\\Anaconda3\\lib\\site-packages\\ipykernel_launcher.py:9: ParserWarning: Falling back to the 'python' engine because the 'c' engine does not support skipfooter; you can avoid this warning by specifying engine='python'.\n",
      "  if __name__ == '__main__':\n"
     ]
    },
    {
     "data": {
      "text/markdown": [
       "**2018-2019 Season**"
      ],
      "text/plain": [
       "<IPython.core.display.Markdown object>"
      ]
     },
     "metadata": {},
     "output_type": "display_data"
    },
    {
     "data": {
      "text/html": [
       "<div>\n",
       "<style scoped>\n",
       "    .dataframe tbody tr th:only-of-type {\n",
       "        vertical-align: middle;\n",
       "    }\n",
       "\n",
       "    .dataframe tbody tr th {\n",
       "        vertical-align: top;\n",
       "    }\n",
       "\n",
       "    .dataframe thead th {\n",
       "        text-align: right;\n",
       "    }\n",
       "</style>\n",
       "<table border=\"1\" class=\"dataframe\">\n",
       "  <thead>\n",
       "    <tr style=\"text-align: right;\">\n",
       "      <th></th>\n",
       "      <th>Team</th>\n",
       "      <th>FG%</th>\n",
       "      <th>Distance</th>\n",
       "      <th>2P Freq.</th>\n",
       "      <th>0-3ft</th>\n",
       "      <th>3-10ft</th>\n",
       "      <th>10-16ft</th>\n",
       "      <th>16-3pt</th>\n",
       "      <th>3P Freq.</th>\n",
       "      <th>2P FG%</th>\n",
       "      <th>0-3ft FG%</th>\n",
       "      <th>3-10ft FG%</th>\n",
       "      <th>10-16ft FG%</th>\n",
       "      <th>16-3P FG%</th>\n",
       "      <th>3P FG%</th>\n",
       "    </tr>\n",
       "  </thead>\n",
       "  <tbody>\n",
       "    <tr>\n",
       "      <th>0</th>\n",
       "      <td>Atlanta Hawks</td>\n",
       "      <td>0.431</td>\n",
       "      <td>11.4</td>\n",
       "      <td>0.860</td>\n",
       "      <td>0.258</td>\n",
       "      <td>0.190</td>\n",
       "      <td>0.214</td>\n",
       "      <td>0.198</td>\n",
       "      <td>0.140</td>\n",
       "      <td>0.443</td>\n",
       "      <td>0.612</td>\n",
       "      <td>0.320</td>\n",
       "      <td>0.387</td>\n",
       "      <td>0.403</td>\n",
       "      <td>0.357</td>\n",
       "    </tr>\n",
       "    <tr>\n",
       "      <th>1</th>\n",
       "      <td>Boston Celtics</td>\n",
       "      <td>0.428</td>\n",
       "      <td>12.5</td>\n",
       "      <td>0.748</td>\n",
       "      <td>0.287</td>\n",
       "      <td>0.161</td>\n",
       "      <td>0.121</td>\n",
       "      <td>0.180</td>\n",
       "      <td>0.252</td>\n",
       "      <td>0.450</td>\n",
       "      <td>0.571</td>\n",
       "      <td>0.344</td>\n",
       "      <td>0.385</td>\n",
       "      <td>0.393</td>\n",
       "      <td>0.363</td>\n",
       "    </tr>\n",
       "    <tr>\n",
       "      <th>2</th>\n",
       "      <td>Charlotte Hornets*</td>\n",
       "      <td>0.431</td>\n",
       "      <td>12.2</td>\n",
       "      <td>0.849</td>\n",
       "      <td>0.270</td>\n",
       "      <td>0.134</td>\n",
       "      <td>0.180</td>\n",
       "      <td>0.265</td>\n",
       "      <td>0.151</td>\n",
       "      <td>0.446</td>\n",
       "      <td>0.595</td>\n",
       "      <td>0.386</td>\n",
       "      <td>0.363</td>\n",
       "      <td>0.381</td>\n",
       "      <td>0.346</td>\n",
       "    </tr>\n",
       "    <tr>\n",
       "      <th>3</th>\n",
       "      <td>Chicago Bulls</td>\n",
       "      <td>0.424</td>\n",
       "      <td>12.0</td>\n",
       "      <td>0.852</td>\n",
       "      <td>0.275</td>\n",
       "      <td>0.151</td>\n",
       "      <td>0.175</td>\n",
       "      <td>0.251</td>\n",
       "      <td>0.148</td>\n",
       "      <td>0.438</td>\n",
       "      <td>0.569</td>\n",
       "      <td>0.360</td>\n",
       "      <td>0.390</td>\n",
       "      <td>0.375</td>\n",
       "      <td>0.346</td>\n",
       "    </tr>\n",
       "    <tr>\n",
       "      <th>4</th>\n",
       "      <td>Cleveland Cavaliers</td>\n",
       "      <td>0.442</td>\n",
       "      <td>10.9</td>\n",
       "      <td>0.899</td>\n",
       "      <td>0.280</td>\n",
       "      <td>0.201</td>\n",
       "      <td>0.190</td>\n",
       "      <td>0.228</td>\n",
       "      <td>0.101</td>\n",
       "      <td>0.455</td>\n",
       "      <td>0.622</td>\n",
       "      <td>0.335</td>\n",
       "      <td>0.410</td>\n",
       "      <td>0.392</td>\n",
       "      <td>0.334</td>\n",
       "    </tr>\n",
       "    <tr>\n",
       "      <th>...</th>\n",
       "      <td>...</td>\n",
       "      <td>...</td>\n",
       "      <td>...</td>\n",
       "      <td>...</td>\n",
       "      <td>...</td>\n",
       "      <td>...</td>\n",
       "      <td>...</td>\n",
       "      <td>...</td>\n",
       "      <td>...</td>\n",
       "      <td>...</td>\n",
       "      <td>...</td>\n",
       "      <td>...</td>\n",
       "      <td>...</td>\n",
       "      <td>...</td>\n",
       "      <td>...</td>\n",
       "    </tr>\n",
       "    <tr>\n",
       "      <th>24</th>\n",
       "      <td>Seattle SuperSonics</td>\n",
       "      <td>0.456</td>\n",
       "      <td>10.7</td>\n",
       "      <td>0.824</td>\n",
       "      <td>0.305</td>\n",
       "      <td>0.226</td>\n",
       "      <td>0.129</td>\n",
       "      <td>0.164</td>\n",
       "      <td>0.176</td>\n",
       "      <td>0.468</td>\n",
       "      <td>0.643</td>\n",
       "      <td>0.356</td>\n",
       "      <td>0.363</td>\n",
       "      <td>0.377</td>\n",
       "      <td>0.399</td>\n",
       "    </tr>\n",
       "    <tr>\n",
       "      <th>25</th>\n",
       "      <td>Toronto Raptors*</td>\n",
       "      <td>0.437</td>\n",
       "      <td>12.8</td>\n",
       "      <td>0.833</td>\n",
       "      <td>0.264</td>\n",
       "      <td>0.124</td>\n",
       "      <td>0.145</td>\n",
       "      <td>0.300</td>\n",
       "      <td>0.167</td>\n",
       "      <td>0.451</td>\n",
       "      <td>0.602</td>\n",
       "      <td>0.350</td>\n",
       "      <td>0.373</td>\n",
       "      <td>0.397</td>\n",
       "      <td>0.369</td>\n",
       "    </tr>\n",
       "    <tr>\n",
       "      <th>26</th>\n",
       "      <td>Utah Jazz*</td>\n",
       "      <td>0.471</td>\n",
       "      <td>10.9</td>\n",
       "      <td>0.865</td>\n",
       "      <td>0.348</td>\n",
       "      <td>0.134</td>\n",
       "      <td>0.124</td>\n",
       "      <td>0.259</td>\n",
       "      <td>0.135</td>\n",
       "      <td>0.485</td>\n",
       "      <td>0.625</td>\n",
       "      <td>0.369</td>\n",
       "      <td>0.382</td>\n",
       "      <td>0.404</td>\n",
       "      <td>0.381</td>\n",
       "    </tr>\n",
       "    <tr>\n",
       "      <th>27</th>\n",
       "      <td>Vancouver Grizzlies</td>\n",
       "      <td>0.439</td>\n",
       "      <td>12.9</td>\n",
       "      <td>0.855</td>\n",
       "      <td>0.217</td>\n",
       "      <td>0.184</td>\n",
       "      <td>0.130</td>\n",
       "      <td>0.323</td>\n",
       "      <td>0.145</td>\n",
       "      <td>0.455</td>\n",
       "      <td>0.630</td>\n",
       "      <td>0.359</td>\n",
       "      <td>0.375</td>\n",
       "      <td>0.424</td>\n",
       "      <td>0.343</td>\n",
       "    </tr>\n",
       "    <tr>\n",
       "      <th>28</th>\n",
       "      <td>Washington Wizards</td>\n",
       "      <td>0.439</td>\n",
       "      <td>11.3</td>\n",
       "      <td>0.869</td>\n",
       "      <td>0.249</td>\n",
       "      <td>0.219</td>\n",
       "      <td>0.199</td>\n",
       "      <td>0.202</td>\n",
       "      <td>0.131</td>\n",
       "      <td>0.456</td>\n",
       "      <td>0.625</td>\n",
       "      <td>0.356</td>\n",
       "      <td>0.397</td>\n",
       "      <td>0.415</td>\n",
       "      <td>0.324</td>\n",
       "    </tr>\n",
       "  </tbody>\n",
       "</table>\n",
       "<p>29 rows × 15 columns</p>\n",
       "</div>"
      ],
      "text/plain": [
       "                   Team    FG%  Distance  2P Freq.  0-3ft  3-10ft  10-16ft  \\\n",
       "0         Atlanta Hawks  0.431      11.4     0.860  0.258   0.190    0.214   \n",
       "1        Boston Celtics  0.428      12.5     0.748  0.287   0.161    0.121   \n",
       "2    Charlotte Hornets*  0.431      12.2     0.849  0.270   0.134    0.180   \n",
       "3         Chicago Bulls  0.424      12.0     0.852  0.275   0.151    0.175   \n",
       "4   Cleveland Cavaliers  0.442      10.9     0.899  0.280   0.201    0.190   \n",
       "..                  ...    ...       ...       ...    ...     ...      ...   \n",
       "24  Seattle SuperSonics  0.456      10.7     0.824  0.305   0.226    0.129   \n",
       "25     Toronto Raptors*  0.437      12.8     0.833  0.264   0.124    0.145   \n",
       "26           Utah Jazz*  0.471      10.9     0.865  0.348   0.134    0.124   \n",
       "27  Vancouver Grizzlies  0.439      12.9     0.855  0.217   0.184    0.130   \n",
       "28   Washington Wizards  0.439      11.3     0.869  0.249   0.219    0.199   \n",
       "\n",
       "    16-3pt  3P Freq.  2P FG%  0-3ft FG%  3-10ft FG%  10-16ft FG%  16-3P FG%  \\\n",
       "0    0.198     0.140   0.443      0.612       0.320        0.387      0.403   \n",
       "1    0.180     0.252   0.450      0.571       0.344        0.385      0.393   \n",
       "2    0.265     0.151   0.446      0.595       0.386        0.363      0.381   \n",
       "3    0.251     0.148   0.438      0.569       0.360        0.390      0.375   \n",
       "4    0.228     0.101   0.455      0.622       0.335        0.410      0.392   \n",
       "..     ...       ...     ...        ...         ...          ...        ...   \n",
       "24   0.164     0.176   0.468      0.643       0.356        0.363      0.377   \n",
       "25   0.300     0.167   0.451      0.602       0.350        0.373      0.397   \n",
       "26   0.259     0.135   0.485      0.625       0.369        0.382      0.404   \n",
       "27   0.323     0.145   0.455      0.630       0.359        0.375      0.424   \n",
       "28   0.202     0.131   0.456      0.625       0.356        0.397      0.415   \n",
       "\n",
       "    3P FG%  \n",
       "0    0.357  \n",
       "1    0.363  \n",
       "2    0.346  \n",
       "3    0.346  \n",
       "4    0.334  \n",
       "..     ...  \n",
       "24   0.399  \n",
       "25   0.369  \n",
       "26   0.381  \n",
       "27   0.343  \n",
       "28   0.324  \n",
       "\n",
       "[29 rows x 15 columns]"
      ]
     },
     "metadata": {},
     "output_type": "display_data"
    }
   ],
   "source": [
    "display(Markdown('**\\'Team Shooting\\' Filtered Table**'))\n",
    "for file in sorted(x for x in os.listdir(folder_path) if x.endswith(\"_team_shooting.csv\")):\n",
    "    # Note: removed the heaves attempted and made columns as those are outlier shots\n",
    "    if(file == '00-01_team_shooting.csv'):\n",
    "        t_shooting[file] = pd.read_csv(folder_path + file, header=2, skipfooter=1).drop(['Rk','G','MP','%Ast\\'d','%Ast\\'d.1'\n",
    "                                                                                         ,'Att.','Md..1','%FGA','Md.'\n",
    "                                                                                         ,'%3PA','3P%'], axis=1)\n",
    "    else:  \n",
    "        t_shooting[file] = pd.read_csv(folder_path + file, header=2, skipfooter=1).drop(['Rk','G','MP','%Ast\\'d','%Ast\\'d.1'\n",
    "                                                                                         ,'Att.','Md..2','%FGA','Md.'\n",
    "                                                                                         ,'%FGA.1','Md..1','%3PA','3P%']\n",
    "                                                                                         , axis=1)\n",
    "    t_shooting[file].columns = ['Team','FG%','Distance','2P Freq.','0-3ft','3-10ft','10-16ft','16-3pt','3P Freq.','2P FG%'\n",
    "                                ,'0-3ft FG%','3-10ft FG%','10-16ft FG%','16-3P FG%','3P FG%']\n",
    "display(Markdown('**2018-2019 Season**'))\n",
    "display(t_shooting['00-01_team_shooting.csv'])"
   ]
  },
  {
   "cell_type": "code",
   "execution_count": 7,
   "metadata": {},
   "outputs": [
    {
     "data": {
      "text/markdown": [
       "**'Team Stats' Filtered Table**"
      ],
      "text/plain": [
       "<IPython.core.display.Markdown object>"
      ]
     },
     "metadata": {},
     "output_type": "display_data"
    },
    {
     "name": "stderr",
     "output_type": "stream",
     "text": [
      "C:\\Users\\Eric\\Anaconda3\\lib\\site-packages\\ipykernel_launcher.py:3: ParserWarning: Falling back to the 'python' engine because the 'c' engine does not support skipfooter; you can avoid this warning by specifying engine='python'.\n",
      "  This is separate from the ipykernel package so we can avoid doing imports until\n"
     ]
    },
    {
     "data": {
      "text/markdown": [
       "**2018-2019 Season**"
      ],
      "text/plain": [
       "<IPython.core.display.Markdown object>"
      ]
     },
     "metadata": {},
     "output_type": "display_data"
    },
    {
     "data": {
      "text/html": [
       "<div>\n",
       "<style scoped>\n",
       "    .dataframe tbody tr th:only-of-type {\n",
       "        vertical-align: middle;\n",
       "    }\n",
       "\n",
       "    .dataframe tbody tr th {\n",
       "        vertical-align: top;\n",
       "    }\n",
       "\n",
       "    .dataframe thead th {\n",
       "        text-align: right;\n",
       "    }\n",
       "</style>\n",
       "<table border=\"1\" class=\"dataframe\">\n",
       "  <thead>\n",
       "    <tr style=\"text-align: right;\">\n",
       "      <th></th>\n",
       "      <th>Team</th>\n",
       "      <th>FG</th>\n",
       "      <th>FGA</th>\n",
       "      <th>FG%</th>\n",
       "      <th>3P</th>\n",
       "      <th>3PA</th>\n",
       "      <th>3P%</th>\n",
       "      <th>2P</th>\n",
       "      <th>2PA</th>\n",
       "      <th>2P%</th>\n",
       "    </tr>\n",
       "  </thead>\n",
       "  <tbody>\n",
       "    <tr>\n",
       "      <th>0</th>\n",
       "      <td>Milwaukee Bucks*</td>\n",
       "      <td>3555</td>\n",
       "      <td>7471</td>\n",
       "      <td>0.476</td>\n",
       "      <td>1105</td>\n",
       "      <td>3134</td>\n",
       "      <td>0.353</td>\n",
       "      <td>2450</td>\n",
       "      <td>4337</td>\n",
       "      <td>0.565</td>\n",
       "    </tr>\n",
       "    <tr>\n",
       "      <th>1</th>\n",
       "      <td>Golden State Warriors*</td>\n",
       "      <td>3612</td>\n",
       "      <td>7361</td>\n",
       "      <td>0.491</td>\n",
       "      <td>1087</td>\n",
       "      <td>2824</td>\n",
       "      <td>0.385</td>\n",
       "      <td>2525</td>\n",
       "      <td>4537</td>\n",
       "      <td>0.557</td>\n",
       "    </tr>\n",
       "    <tr>\n",
       "      <th>2</th>\n",
       "      <td>New Orleans Pelicans</td>\n",
       "      <td>3581</td>\n",
       "      <td>7563</td>\n",
       "      <td>0.473</td>\n",
       "      <td>842</td>\n",
       "      <td>2449</td>\n",
       "      <td>0.344</td>\n",
       "      <td>2739</td>\n",
       "      <td>5114</td>\n",
       "      <td>0.536</td>\n",
       "    </tr>\n",
       "    <tr>\n",
       "      <th>3</th>\n",
       "      <td>Philadelphia 76ers*</td>\n",
       "      <td>3407</td>\n",
       "      <td>7233</td>\n",
       "      <td>0.471</td>\n",
       "      <td>889</td>\n",
       "      <td>2474</td>\n",
       "      <td>0.359</td>\n",
       "      <td>2518</td>\n",
       "      <td>4759</td>\n",
       "      <td>0.529</td>\n",
       "    </tr>\n",
       "    <tr>\n",
       "      <th>4</th>\n",
       "      <td>Los Angeles Clippers*</td>\n",
       "      <td>3384</td>\n",
       "      <td>7178</td>\n",
       "      <td>0.471</td>\n",
       "      <td>821</td>\n",
       "      <td>2118</td>\n",
       "      <td>0.388</td>\n",
       "      <td>2563</td>\n",
       "      <td>5060</td>\n",
       "      <td>0.507</td>\n",
       "    </tr>\n",
       "    <tr>\n",
       "      <th>...</th>\n",
       "      <td>...</td>\n",
       "      <td>...</td>\n",
       "      <td>...</td>\n",
       "      <td>...</td>\n",
       "      <td>...</td>\n",
       "      <td>...</td>\n",
       "      <td>...</td>\n",
       "      <td>...</td>\n",
       "      <td>...</td>\n",
       "      <td>...</td>\n",
       "    </tr>\n",
       "    <tr>\n",
       "      <th>25</th>\n",
       "      <td>Miami Heat</td>\n",
       "      <td>3251</td>\n",
       "      <td>7218</td>\n",
       "      <td>0.450</td>\n",
       "      <td>928</td>\n",
       "      <td>2658</td>\n",
       "      <td>0.349</td>\n",
       "      <td>2323</td>\n",
       "      <td>4560</td>\n",
       "      <td>0.509</td>\n",
       "    </tr>\n",
       "    <tr>\n",
       "      <th>26</th>\n",
       "      <td>Chicago Bulls</td>\n",
       "      <td>3266</td>\n",
       "      <td>7205</td>\n",
       "      <td>0.453</td>\n",
       "      <td>745</td>\n",
       "      <td>2123</td>\n",
       "      <td>0.351</td>\n",
       "      <td>2521</td>\n",
       "      <td>5082</td>\n",
       "      <td>0.496</td>\n",
       "    </tr>\n",
       "    <tr>\n",
       "      <th>27</th>\n",
       "      <td>New York Knicks</td>\n",
       "      <td>3134</td>\n",
       "      <td>7241</td>\n",
       "      <td>0.433</td>\n",
       "      <td>823</td>\n",
       "      <td>2421</td>\n",
       "      <td>0.340</td>\n",
       "      <td>2311</td>\n",
       "      <td>4820</td>\n",
       "      <td>0.479</td>\n",
       "    </tr>\n",
       "    <tr>\n",
       "      <th>28</th>\n",
       "      <td>Cleveland Cavaliers</td>\n",
       "      <td>3189</td>\n",
       "      <td>7184</td>\n",
       "      <td>0.444</td>\n",
       "      <td>847</td>\n",
       "      <td>2388</td>\n",
       "      <td>0.355</td>\n",
       "      <td>2342</td>\n",
       "      <td>4796</td>\n",
       "      <td>0.488</td>\n",
       "    </tr>\n",
       "    <tr>\n",
       "      <th>29</th>\n",
       "      <td>Memphis Grizzlies</td>\n",
       "      <td>3113</td>\n",
       "      <td>6924</td>\n",
       "      <td>0.450</td>\n",
       "      <td>811</td>\n",
       "      <td>2368</td>\n",
       "      <td>0.342</td>\n",
       "      <td>2302</td>\n",
       "      <td>4556</td>\n",
       "      <td>0.505</td>\n",
       "    </tr>\n",
       "  </tbody>\n",
       "</table>\n",
       "<p>30 rows × 10 columns</p>\n",
       "</div>"
      ],
      "text/plain": [
       "                      Team    FG   FGA    FG%    3P   3PA    3P%    2P   2PA  \\\n",
       "0         Milwaukee Bucks*  3555  7471  0.476  1105  3134  0.353  2450  4337   \n",
       "1   Golden State Warriors*  3612  7361  0.491  1087  2824  0.385  2525  4537   \n",
       "2     New Orleans Pelicans  3581  7563  0.473   842  2449  0.344  2739  5114   \n",
       "3      Philadelphia 76ers*  3407  7233  0.471   889  2474  0.359  2518  4759   \n",
       "4    Los Angeles Clippers*  3384  7178  0.471   821  2118  0.388  2563  5060   \n",
       "..                     ...   ...   ...    ...   ...   ...    ...   ...   ...   \n",
       "25              Miami Heat  3251  7218  0.450   928  2658  0.349  2323  4560   \n",
       "26           Chicago Bulls  3266  7205  0.453   745  2123  0.351  2521  5082   \n",
       "27         New York Knicks  3134  7241  0.433   823  2421  0.340  2311  4820   \n",
       "28     Cleveland Cavaliers  3189  7184  0.444   847  2388  0.355  2342  4796   \n",
       "29       Memphis Grizzlies  3113  6924  0.450   811  2368  0.342  2302  4556   \n",
       "\n",
       "      2P%  \n",
       "0   0.565  \n",
       "1   0.557  \n",
       "2   0.536  \n",
       "3   0.529  \n",
       "4   0.507  \n",
       "..    ...  \n",
       "25  0.509  \n",
       "26  0.496  \n",
       "27  0.479  \n",
       "28  0.488  \n",
       "29  0.505  \n",
       "\n",
       "[30 rows x 10 columns]"
      ]
     },
     "metadata": {},
     "output_type": "display_data"
    }
   ],
   "source": [
    "display(Markdown('**\\'Team Stats\\' Filtered Table**'))\n",
    "for file in sorted(x for x in os.listdir(folder_path) if x.endswith(\"_team_stats.csv\")):\n",
    "    t_stats[file] = pd.read_csv(folder_path + file, header=0,skipfooter=1).drop(['Rk','G','MP','FT','FTA','FT%','ORB','DRB','TRB'\n",
    "                                                                    ,'AST','STL','BLK','TOV','PF','PTS'], axis=1)\n",
    "display(Markdown('**2018-2019 Season**'))\n",
    "display(t_stats['18-19_team_stats.csv'])"
   ]
  },
  {
   "cell_type": "markdown",
   "metadata": {},
   "source": [
    "In the 2011-2012 season, there were only 66 games played, whereas every other season that we use in our project contains 82 played games. As a result, this season becomes an outlier and will skew our results. We do not want that so we decided to remove this season."
   ]
  },
  {
   "cell_type": "code",
   "execution_count": 8,
   "metadata": {
    "collapsed": true
   },
   "outputs": [
    {
     "data": {
      "text/html": [
       "<div>\n",
       "<style scoped>\n",
       "    .dataframe tbody tr th:only-of-type {\n",
       "        vertical-align: middle;\n",
       "    }\n",
       "\n",
       "    .dataframe tbody tr th {\n",
       "        vertical-align: top;\n",
       "    }\n",
       "\n",
       "    .dataframe thead th {\n",
       "        text-align: right;\n",
       "    }\n",
       "</style>\n",
       "<table border=\"1\" class=\"dataframe\">\n",
       "  <thead>\n",
       "    <tr style=\"text-align: right;\">\n",
       "      <th></th>\n",
       "      <th>Team</th>\n",
       "      <th>FG</th>\n",
       "      <th>FGA</th>\n",
       "      <th>FG%</th>\n",
       "      <th>3P</th>\n",
       "      <th>3PA</th>\n",
       "      <th>3P%</th>\n",
       "      <th>2P</th>\n",
       "      <th>2PA</th>\n",
       "      <th>2P%</th>\n",
       "    </tr>\n",
       "  </thead>\n",
       "  <tbody>\n",
       "    <tr>\n",
       "      <th>0</th>\n",
       "      <td>Denver Nuggets*</td>\n",
       "      <td>2572</td>\n",
       "      <td>5404</td>\n",
       "      <td>0.476</td>\n",
       "      <td>435</td>\n",
       "      <td>1311</td>\n",
       "      <td>0.332</td>\n",
       "      <td>2137</td>\n",
       "      <td>4093</td>\n",
       "      <td>0.522</td>\n",
       "    </tr>\n",
       "    <tr>\n",
       "      <th>1</th>\n",
       "      <td>San Antonio Spurs*</td>\n",
       "      <td>2611</td>\n",
       "      <td>5463</td>\n",
       "      <td>0.478</td>\n",
       "      <td>552</td>\n",
       "      <td>1405</td>\n",
       "      <td>0.393</td>\n",
       "      <td>2059</td>\n",
       "      <td>4058</td>\n",
       "      <td>0.507</td>\n",
       "    </tr>\n",
       "    <tr>\n",
       "      <th>2</th>\n",
       "      <td>Oklahoma City Thunder*</td>\n",
       "      <td>2462</td>\n",
       "      <td>5229</td>\n",
       "      <td>0.471</td>\n",
       "      <td>472</td>\n",
       "      <td>1317</td>\n",
       "      <td>0.358</td>\n",
       "      <td>1990</td>\n",
       "      <td>3912</td>\n",
       "      <td>0.509</td>\n",
       "    </tr>\n",
       "    <tr>\n",
       "      <th>3</th>\n",
       "      <td>Utah Jazz*</td>\n",
       "      <td>2523</td>\n",
       "      <td>5531</td>\n",
       "      <td>0.456</td>\n",
       "      <td>273</td>\n",
       "      <td>845</td>\n",
       "      <td>0.323</td>\n",
       "      <td>2250</td>\n",
       "      <td>4686</td>\n",
       "      <td>0.480</td>\n",
       "    </tr>\n",
       "    <tr>\n",
       "      <th>4</th>\n",
       "      <td>Milwaukee Bucks</td>\n",
       "      <td>2502</td>\n",
       "      <td>5652</td>\n",
       "      <td>0.443</td>\n",
       "      <td>436</td>\n",
       "      <td>1265</td>\n",
       "      <td>0.345</td>\n",
       "      <td>2066</td>\n",
       "      <td>4387</td>\n",
       "      <td>0.471</td>\n",
       "    </tr>\n",
       "    <tr>\n",
       "      <th>...</th>\n",
       "      <td>...</td>\n",
       "      <td>...</td>\n",
       "      <td>...</td>\n",
       "      <td>...</td>\n",
       "      <td>...</td>\n",
       "      <td>...</td>\n",
       "      <td>...</td>\n",
       "      <td>...</td>\n",
       "      <td>...</td>\n",
       "      <td>...</td>\n",
       "    </tr>\n",
       "    <tr>\n",
       "      <th>25</th>\n",
       "      <td>Boston Celtics*</td>\n",
       "      <td>2341</td>\n",
       "      <td>5086</td>\n",
       "      <td>0.460</td>\n",
       "      <td>363</td>\n",
       "      <td>988</td>\n",
       "      <td>0.367</td>\n",
       "      <td>1978</td>\n",
       "      <td>4098</td>\n",
       "      <td>0.483</td>\n",
       "    </tr>\n",
       "    <tr>\n",
       "      <th>26</th>\n",
       "      <td>Detroit Pistons</td>\n",
       "      <td>2291</td>\n",
       "      <td>5232</td>\n",
       "      <td>0.438</td>\n",
       "      <td>317</td>\n",
       "      <td>916</td>\n",
       "      <td>0.346</td>\n",
       "      <td>1974</td>\n",
       "      <td>4316</td>\n",
       "      <td>0.457</td>\n",
       "    </tr>\n",
       "    <tr>\n",
       "      <th>27</th>\n",
       "      <td>Toronto Raptors</td>\n",
       "      <td>2268</td>\n",
       "      <td>5154</td>\n",
       "      <td>0.440</td>\n",
       "      <td>365</td>\n",
       "      <td>1075</td>\n",
       "      <td>0.340</td>\n",
       "      <td>1903</td>\n",
       "      <td>4079</td>\n",
       "      <td>0.467</td>\n",
       "    </tr>\n",
       "    <tr>\n",
       "      <th>28</th>\n",
       "      <td>New Orleans Hornets</td>\n",
       "      <td>2300</td>\n",
       "      <td>5103</td>\n",
       "      <td>0.451</td>\n",
       "      <td>259</td>\n",
       "      <td>777</td>\n",
       "      <td>0.333</td>\n",
       "      <td>2041</td>\n",
       "      <td>4326</td>\n",
       "      <td>0.472</td>\n",
       "    </tr>\n",
       "    <tr>\n",
       "      <th>29</th>\n",
       "      <td>Charlotte Bobcats</td>\n",
       "      <td>2193</td>\n",
       "      <td>5293</td>\n",
       "      <td>0.414</td>\n",
       "      <td>263</td>\n",
       "      <td>892</td>\n",
       "      <td>0.295</td>\n",
       "      <td>1930</td>\n",
       "      <td>4401</td>\n",
       "      <td>0.439</td>\n",
       "    </tr>\n",
       "  </tbody>\n",
       "</table>\n",
       "<p>30 rows × 10 columns</p>\n",
       "</div>"
      ],
      "text/plain": [
       "                      Team    FG   FGA    FG%   3P   3PA    3P%    2P   2PA  \\\n",
       "0          Denver Nuggets*  2572  5404  0.476  435  1311  0.332  2137  4093   \n",
       "1       San Antonio Spurs*  2611  5463  0.478  552  1405  0.393  2059  4058   \n",
       "2   Oklahoma City Thunder*  2462  5229  0.471  472  1317  0.358  1990  3912   \n",
       "3               Utah Jazz*  2523  5531  0.456  273   845  0.323  2250  4686   \n",
       "4          Milwaukee Bucks  2502  5652  0.443  436  1265  0.345  2066  4387   \n",
       "..                     ...   ...   ...    ...  ...   ...    ...   ...   ...   \n",
       "25         Boston Celtics*  2341  5086  0.460  363   988  0.367  1978  4098   \n",
       "26         Detroit Pistons  2291  5232  0.438  317   916  0.346  1974  4316   \n",
       "27         Toronto Raptors  2268  5154  0.440  365  1075  0.340  1903  4079   \n",
       "28     New Orleans Hornets  2300  5103  0.451  259   777  0.333  2041  4326   \n",
       "29       Charlotte Bobcats  2193  5293  0.414  263   892  0.295  1930  4401   \n",
       "\n",
       "      2P%  \n",
       "0   0.522  \n",
       "1   0.507  \n",
       "2   0.509  \n",
       "3   0.480  \n",
       "4   0.471  \n",
       "..    ...  \n",
       "25  0.483  \n",
       "26  0.457  \n",
       "27  0.467  \n",
       "28  0.472  \n",
       "29  0.439  \n",
       "\n",
       "[30 rows x 10 columns]"
      ]
     },
     "execution_count": 8,
     "metadata": {},
     "output_type": "execute_result"
    }
   ],
   "source": [
    "t_per_game.pop('11-12_team_per_game_stats.csv')\n",
    "t_shooting.pop('11-12_team_shooting.csv')\n",
    "t_stats.pop('11-12_team_stats.csv')"
   ]
  },
  {
   "cell_type": "code",
   "execution_count": 9,
   "metadata": {},
   "outputs": [
    {
     "name": "stdout",
     "output_type": "stream",
     "text": [
      "Data from 2011-2012 season 'Team Per Game' dataset:\t None\n",
      "Data from 2011-2012 season 'Team Shooting' dataset:\t None\n",
      "Data from 2011-2012 season 'Team Stats' dataset:\t None\n"
     ]
    }
   ],
   "source": [
    "# Checking to see if the 2011-2012 datasets still exist\n",
    "print('Data from 2011-2012 season \\'Team Per Game\\' dataset:\\t',t_per_game.get('11-12_team_per_game_stats.csv'))\n",
    "print('Data from 2011-2012 season \\'Team Shooting\\' dataset:\\t',t_shooting.get('11-12_team_shooting.csv'))\n",
    "print('Data from 2011-2012 season \\'Team Stats\\' dataset:\\t',t_stats.get('11-12_team_stats.csv'))"
   ]
  },
  {
   "cell_type": "code",
   "execution_count": 10,
   "metadata": {},
   "outputs": [
    {
     "name": "stdout",
     "output_type": "stream",
     "text": [
      "Size of 'Team Per Game' dataset of one season after cleaning:\t (29, 10)\n",
      "Size of 'Team Shooting' dataset of one season after cleaning:\t (29, 15)\n",
      "Size of 'Team Stats' dataset of one season after cleaning:\t (29, 10)\n"
     ]
    }
   ],
   "source": [
    "print('Size of \\'Team Per Game\\' dataset of one season after cleaning:\\t', t_per_game['00-01_team_per_game_stats.csv']\n",
    "                                                                                                              .shape)\n",
    "print('Size of \\'Team Shooting\\' dataset of one season after cleaning:\\t', t_shooting['00-01_team_shooting.csv'].shape)\n",
    "print('Size of \\'Team Stats\\' dataset of one season after cleaning:\\t', t_stats['00-01_team_stats.csv'].shape)"
   ]
  },
  {
   "cell_type": "code",
   "execution_count": 11,
   "metadata": {},
   "outputs": [],
   "source": [
    "pd.options.display.max_rows = 11"
   ]
  },
  {
   "cell_type": "markdown",
   "metadata": {},
   "source": [
    "Now that we have finished cleaning the data, we can first begin to get some descriptive overview of our datasets."
   ]
  },
  {
   "cell_type": "code",
   "execution_count": 12,
   "metadata": {},
   "outputs": [
    {
     "data": {
      "text/markdown": [
       "**'Team Per Game' Descriptive Table**"
      ],
      "text/plain": [
       "<IPython.core.display.Markdown object>"
      ]
     },
     "metadata": {},
     "output_type": "display_data"
    },
    {
     "data": {
      "text/markdown": [
       "**2018-2019 Season**"
      ],
      "text/plain": [
       "<IPython.core.display.Markdown object>"
      ]
     },
     "metadata": {},
     "output_type": "display_data"
    },
    {
     "data": {
      "text/html": [
       "<div>\n",
       "<style scoped>\n",
       "    .dataframe tbody tr th:only-of-type {\n",
       "        vertical-align: middle;\n",
       "    }\n",
       "\n",
       "    .dataframe tbody tr th {\n",
       "        vertical-align: top;\n",
       "    }\n",
       "\n",
       "    .dataframe thead th {\n",
       "        text-align: right;\n",
       "    }\n",
       "</style>\n",
       "<table border=\"1\" class=\"dataframe\">\n",
       "  <thead>\n",
       "    <tr style=\"text-align: right;\">\n",
       "      <th></th>\n",
       "      <th>FG</th>\n",
       "      <th>FGA</th>\n",
       "      <th>FG%</th>\n",
       "      <th>3P</th>\n",
       "      <th>3PA</th>\n",
       "      <th>3P%</th>\n",
       "      <th>2P</th>\n",
       "      <th>2PA</th>\n",
       "      <th>2P%</th>\n",
       "    </tr>\n",
       "  </thead>\n",
       "  <tbody>\n",
       "    <tr>\n",
       "      <th>count</th>\n",
       "      <td>30.000</td>\n",
       "      <td>30.000</td>\n",
       "      <td>30.000</td>\n",
       "      <td>30.000</td>\n",
       "      <td>30.000</td>\n",
       "      <td>30.000</td>\n",
       "      <td>30.000</td>\n",
       "      <td>30.000</td>\n",
       "      <td>30.000</td>\n",
       "    </tr>\n",
       "    <tr>\n",
       "      <th>mean</th>\n",
       "      <td>41.073</td>\n",
       "      <td>89.213</td>\n",
       "      <td>0.460</td>\n",
       "      <td>11.360</td>\n",
       "      <td>32.007</td>\n",
       "      <td>0.356</td>\n",
       "      <td>29.717</td>\n",
       "      <td>57.203</td>\n",
       "      <td>0.520</td>\n",
       "    </tr>\n",
       "    <tr>\n",
       "      <th>std</th>\n",
       "      <td>1.672</td>\n",
       "      <td>2.110</td>\n",
       "      <td>0.013</td>\n",
       "      <td>1.509</td>\n",
       "      <td>4.301</td>\n",
       "      <td>0.015</td>\n",
       "      <td>2.174</td>\n",
       "      <td>4.533</td>\n",
       "      <td>0.020</td>\n",
       "    </tr>\n",
       "    <tr>\n",
       "      <th>min</th>\n",
       "      <td>38.000</td>\n",
       "      <td>84.400</td>\n",
       "      <td>0.433</td>\n",
       "      <td>9.100</td>\n",
       "      <td>25.300</td>\n",
       "      <td>0.329</td>\n",
       "      <td>23.100</td>\n",
       "      <td>42.000</td>\n",
       "      <td>0.479</td>\n",
       "    </tr>\n",
       "    <tr>\n",
       "      <th>25%</th>\n",
       "      <td>39.875</td>\n",
       "      <td>87.675</td>\n",
       "      <td>0.450</td>\n",
       "      <td>10.150</td>\n",
       "      <td>29.350</td>\n",
       "      <td>0.348</td>\n",
       "      <td>28.300</td>\n",
       "      <td>55.300</td>\n",
       "      <td>0.507</td>\n",
       "    </tr>\n",
       "    <tr>\n",
       "      <th>50%</th>\n",
       "      <td>41.350</td>\n",
       "      <td>89.100</td>\n",
       "      <td>0.461</td>\n",
       "      <td>11.300</td>\n",
       "      <td>31.750</td>\n",
       "      <td>0.353</td>\n",
       "      <td>30.200</td>\n",
       "      <td>57.500</td>\n",
       "      <td>0.518</td>\n",
       "    </tr>\n",
       "    <tr>\n",
       "      <th>75%</th>\n",
       "      <td>42.275</td>\n",
       "      <td>90.500</td>\n",
       "      <td>0.471</td>\n",
       "      <td>12.325</td>\n",
       "      <td>34.300</td>\n",
       "      <td>0.359</td>\n",
       "      <td>31.300</td>\n",
       "      <td>60.925</td>\n",
       "      <td>0.534</td>\n",
       "    </tr>\n",
       "    <tr>\n",
       "      <th>max</th>\n",
       "      <td>44.000</td>\n",
       "      <td>94.000</td>\n",
       "      <td>0.491</td>\n",
       "      <td>16.100</td>\n",
       "      <td>45.400</td>\n",
       "      <td>0.392</td>\n",
       "      <td>33.400</td>\n",
       "      <td>63.200</td>\n",
       "      <td>0.565</td>\n",
       "    </tr>\n",
       "  </tbody>\n",
       "</table>\n",
       "</div>"
      ],
      "text/plain": [
       "           FG     FGA     FG%      3P     3PA     3P%      2P     2PA     2P%\n",
       "count  30.000  30.000  30.000  30.000  30.000  30.000  30.000  30.000  30.000\n",
       "mean   41.073  89.213   0.460  11.360  32.007   0.356  29.717  57.203   0.520\n",
       "std     1.672   2.110   0.013   1.509   4.301   0.015   2.174   4.533   0.020\n",
       "min    38.000  84.400   0.433   9.100  25.300   0.329  23.100  42.000   0.479\n",
       "25%    39.875  87.675   0.450  10.150  29.350   0.348  28.300  55.300   0.507\n",
       "50%    41.350  89.100   0.461  11.300  31.750   0.353  30.200  57.500   0.518\n",
       "75%    42.275  90.500   0.471  12.325  34.300   0.359  31.300  60.925   0.534\n",
       "max    44.000  94.000   0.491  16.100  45.400   0.392  33.400  63.200   0.565"
      ]
     },
     "metadata": {},
     "output_type": "display_data"
    }
   ],
   "source": [
    "des_t_per_game = {}\n",
    "display(Markdown('**\\'Team Per Game\\' Descriptive Table**'))\n",
    "for file in t_per_game:\n",
    "    des_t_per_game[file] = t_per_game[file].describe()\n",
    "display(Markdown('**2018-2019 Season**'))\n",
    "display(des_t_per_game['18-19_team_per_game_stats.csv'])"
   ]
  },
  {
   "cell_type": "code",
   "execution_count": 13,
   "metadata": {},
   "outputs": [
    {
     "data": {
      "text/markdown": [
       "**'Team Shooting' Descriptive Table**"
      ],
      "text/plain": [
       "<IPython.core.display.Markdown object>"
      ]
     },
     "metadata": {},
     "output_type": "display_data"
    },
    {
     "data": {
      "text/markdown": [
       "**2018-2019 Season**"
      ],
      "text/plain": [
       "<IPython.core.display.Markdown object>"
      ]
     },
     "metadata": {},
     "output_type": "display_data"
    },
    {
     "data": {
      "text/html": [
       "<div>\n",
       "<style scoped>\n",
       "    .dataframe tbody tr th:only-of-type {\n",
       "        vertical-align: middle;\n",
       "    }\n",
       "\n",
       "    .dataframe tbody tr th {\n",
       "        vertical-align: top;\n",
       "    }\n",
       "\n",
       "    .dataframe thead th {\n",
       "        text-align: right;\n",
       "    }\n",
       "</style>\n",
       "<table border=\"1\" class=\"dataframe\">\n",
       "  <thead>\n",
       "    <tr style=\"text-align: right;\">\n",
       "      <th></th>\n",
       "      <th>FG%</th>\n",
       "      <th>Distance</th>\n",
       "      <th>2P Freq.</th>\n",
       "      <th>0-3ft</th>\n",
       "      <th>3-10ft</th>\n",
       "      <th>10-16ft</th>\n",
       "      <th>16-3pt</th>\n",
       "      <th>3P Freq.</th>\n",
       "      <th>2P FG%</th>\n",
       "      <th>0-3ft FG%</th>\n",
       "      <th>3-10ft FG%</th>\n",
       "      <th>10-16ft FG%</th>\n",
       "      <th>16-3P FG%</th>\n",
       "      <th>3P FG%</th>\n",
       "    </tr>\n",
       "  </thead>\n",
       "  <tbody>\n",
       "    <tr>\n",
       "      <th>count</th>\n",
       "      <td>30.000</td>\n",
       "      <td>30.000</td>\n",
       "      <td>30.000</td>\n",
       "      <td>30.000</td>\n",
       "      <td>30.000</td>\n",
       "      <td>30.000</td>\n",
       "      <td>30.000</td>\n",
       "      <td>30.000</td>\n",
       "      <td>30.000</td>\n",
       "      <td>30.000</td>\n",
       "      <td>30.000</td>\n",
       "      <td>30.000</td>\n",
       "      <td>30.000</td>\n",
       "      <td>30.000</td>\n",
       "    </tr>\n",
       "    <tr>\n",
       "      <th>mean</th>\n",
       "      <td>0.460</td>\n",
       "      <td>13.557</td>\n",
       "      <td>0.641</td>\n",
       "      <td>0.292</td>\n",
       "      <td>0.162</td>\n",
       "      <td>0.096</td>\n",
       "      <td>0.092</td>\n",
       "      <td>0.359</td>\n",
       "      <td>0.520</td>\n",
       "      <td>0.658</td>\n",
       "      <td>0.399</td>\n",
       "      <td>0.411</td>\n",
       "      <td>0.399</td>\n",
       "      <td>0.355</td>\n",
       "    </tr>\n",
       "    <tr>\n",
       "      <th>std</th>\n",
       "      <td>0.013</td>\n",
       "      <td>0.756</td>\n",
       "      <td>0.048</td>\n",
       "      <td>0.031</td>\n",
       "      <td>0.025</td>\n",
       "      <td>0.020</td>\n",
       "      <td>0.032</td>\n",
       "      <td>0.048</td>\n",
       "      <td>0.020</td>\n",
       "      <td>0.027</td>\n",
       "      <td>0.027</td>\n",
       "      <td>0.030</td>\n",
       "      <td>0.026</td>\n",
       "      <td>0.015</td>\n",
       "    </tr>\n",
       "    <tr>\n",
       "      <th>min</th>\n",
       "      <td>0.433</td>\n",
       "      <td>12.400</td>\n",
       "      <td>0.481</td>\n",
       "      <td>0.214</td>\n",
       "      <td>0.107</td>\n",
       "      <td>0.050</td>\n",
       "      <td>0.025</td>\n",
       "      <td>0.286</td>\n",
       "      <td>0.479</td>\n",
       "      <td>0.603</td>\n",
       "      <td>0.345</td>\n",
       "      <td>0.365</td>\n",
       "      <td>0.344</td>\n",
       "      <td>0.329</td>\n",
       "    </tr>\n",
       "    <tr>\n",
       "      <th>25%</th>\n",
       "      <td>0.450</td>\n",
       "      <td>13.100</td>\n",
       "      <td>0.617</td>\n",
       "      <td>0.277</td>\n",
       "      <td>0.145</td>\n",
       "      <td>0.084</td>\n",
       "      <td>0.069</td>\n",
       "      <td>0.333</td>\n",
       "      <td>0.507</td>\n",
       "      <td>0.638</td>\n",
       "      <td>0.387</td>\n",
       "      <td>0.387</td>\n",
       "      <td>0.386</td>\n",
       "      <td>0.348</td>\n",
       "    </tr>\n",
       "    <tr>\n",
       "      <th>50%</th>\n",
       "      <td>0.461</td>\n",
       "      <td>13.500</td>\n",
       "      <td>0.653</td>\n",
       "      <td>0.290</td>\n",
       "      <td>0.163</td>\n",
       "      <td>0.098</td>\n",
       "      <td>0.094</td>\n",
       "      <td>0.348</td>\n",
       "      <td>0.518</td>\n",
       "      <td>0.659</td>\n",
       "      <td>0.401</td>\n",
       "      <td>0.407</td>\n",
       "      <td>0.394</td>\n",
       "      <td>0.353</td>\n",
       "    </tr>\n",
       "    <tr>\n",
       "      <th>75%</th>\n",
       "      <td>0.471</td>\n",
       "      <td>13.900</td>\n",
       "      <td>0.667</td>\n",
       "      <td>0.312</td>\n",
       "      <td>0.178</td>\n",
       "      <td>0.104</td>\n",
       "      <td>0.108</td>\n",
       "      <td>0.383</td>\n",
       "      <td>0.534</td>\n",
       "      <td>0.677</td>\n",
       "      <td>0.416</td>\n",
       "      <td>0.435</td>\n",
       "      <td>0.413</td>\n",
       "      <td>0.359</td>\n",
       "    </tr>\n",
       "    <tr>\n",
       "      <th>max</th>\n",
       "      <td>0.491</td>\n",
       "      <td>15.600</td>\n",
       "      <td>0.714</td>\n",
       "      <td>0.345</td>\n",
       "      <td>0.203</td>\n",
       "      <td>0.156</td>\n",
       "      <td>0.165</td>\n",
       "      <td>0.519</td>\n",
       "      <td>0.565</td>\n",
       "      <td>0.703</td>\n",
       "      <td>0.457</td>\n",
       "      <td>0.477</td>\n",
       "      <td>0.458</td>\n",
       "      <td>0.392</td>\n",
       "    </tr>\n",
       "  </tbody>\n",
       "</table>\n",
       "</div>"
      ],
      "text/plain": [
       "          FG%  Distance  2P Freq.   0-3ft  3-10ft  10-16ft  16-3pt  3P Freq.  \\\n",
       "count  30.000    30.000    30.000  30.000  30.000   30.000  30.000    30.000   \n",
       "mean    0.460    13.557     0.641   0.292   0.162    0.096   0.092     0.359   \n",
       "std     0.013     0.756     0.048   0.031   0.025    0.020   0.032     0.048   \n",
       "min     0.433    12.400     0.481   0.214   0.107    0.050   0.025     0.286   \n",
       "25%     0.450    13.100     0.617   0.277   0.145    0.084   0.069     0.333   \n",
       "50%     0.461    13.500     0.653   0.290   0.163    0.098   0.094     0.348   \n",
       "75%     0.471    13.900     0.667   0.312   0.178    0.104   0.108     0.383   \n",
       "max     0.491    15.600     0.714   0.345   0.203    0.156   0.165     0.519   \n",
       "\n",
       "       2P FG%  0-3ft FG%  3-10ft FG%  10-16ft FG%  16-3P FG%  3P FG%  \n",
       "count  30.000     30.000      30.000       30.000     30.000  30.000  \n",
       "mean    0.520      0.658       0.399        0.411      0.399   0.355  \n",
       "std     0.020      0.027       0.027        0.030      0.026   0.015  \n",
       "min     0.479      0.603       0.345        0.365      0.344   0.329  \n",
       "25%     0.507      0.638       0.387        0.387      0.386   0.348  \n",
       "50%     0.518      0.659       0.401        0.407      0.394   0.353  \n",
       "75%     0.534      0.677       0.416        0.435      0.413   0.359  \n",
       "max     0.565      0.703       0.457        0.477      0.458   0.392  "
      ]
     },
     "metadata": {},
     "output_type": "display_data"
    }
   ],
   "source": [
    "des_t_shooting = {}\n",
    "display(Markdown('**\\'Team Shooting\\' Descriptive Table**'))\n",
    "for file in t_shooting:\n",
    "    des_t_shooting[file] = t_shooting[file].describe()\n",
    "display(Markdown('**2018-2019 Season**'))\n",
    "display(des_t_shooting['18-19_team_shooting.csv'])"
   ]
  },
  {
   "cell_type": "code",
   "execution_count": 14,
   "metadata": {},
   "outputs": [
    {
     "data": {
      "text/markdown": [
       "**'Team Stats' Descriptive Table**"
      ],
      "text/plain": [
       "<IPython.core.display.Markdown object>"
      ]
     },
     "metadata": {},
     "output_type": "display_data"
    },
    {
     "data": {
      "text/markdown": [
       "**2018-2019 Season**"
      ],
      "text/plain": [
       "<IPython.core.display.Markdown object>"
      ]
     },
     "metadata": {},
     "output_type": "display_data"
    },
    {
     "data": {
      "text/html": [
       "<div>\n",
       "<style scoped>\n",
       "    .dataframe tbody tr th:only-of-type {\n",
       "        vertical-align: middle;\n",
       "    }\n",
       "\n",
       "    .dataframe tbody tr th {\n",
       "        vertical-align: top;\n",
       "    }\n",
       "\n",
       "    .dataframe thead th {\n",
       "        text-align: right;\n",
       "    }\n",
       "</style>\n",
       "<table border=\"1\" class=\"dataframe\">\n",
       "  <thead>\n",
       "    <tr style=\"text-align: right;\">\n",
       "      <th></th>\n",
       "      <th>FG</th>\n",
       "      <th>FGA</th>\n",
       "      <th>FG%</th>\n",
       "      <th>3P</th>\n",
       "      <th>3PA</th>\n",
       "      <th>3P%</th>\n",
       "      <th>2P</th>\n",
       "      <th>2PA</th>\n",
       "      <th>2P%</th>\n",
       "    </tr>\n",
       "  </thead>\n",
       "  <tbody>\n",
       "    <tr>\n",
       "      <th>count</th>\n",
       "      <td>30.000</td>\n",
       "      <td>30.000</td>\n",
       "      <td>30.000</td>\n",
       "      <td>30.000</td>\n",
       "      <td>30.000</td>\n",
       "      <td>30.000</td>\n",
       "      <td>30.000</td>\n",
       "      <td>30.000</td>\n",
       "      <td>30.000</td>\n",
       "    </tr>\n",
       "    <tr>\n",
       "      <th>mean</th>\n",
       "      <td>3368.733</td>\n",
       "      <td>7315.267</td>\n",
       "      <td>0.460</td>\n",
       "      <td>931.833</td>\n",
       "      <td>2624.733</td>\n",
       "      <td>0.356</td>\n",
       "      <td>2436.900</td>\n",
       "      <td>4690.533</td>\n",
       "      <td>0.520</td>\n",
       "    </tr>\n",
       "    <tr>\n",
       "      <th>std</th>\n",
       "      <td>136.818</td>\n",
       "      <td>173.173</td>\n",
       "      <td>0.013</td>\n",
       "      <td>123.406</td>\n",
       "      <td>352.777</td>\n",
       "      <td>0.015</td>\n",
       "      <td>178.247</td>\n",
       "      <td>372.194</td>\n",
       "      <td>0.020</td>\n",
       "    </tr>\n",
       "    <tr>\n",
       "      <th>min</th>\n",
       "      <td>3113.000</td>\n",
       "      <td>6924.000</td>\n",
       "      <td>0.433</td>\n",
       "      <td>745.000</td>\n",
       "      <td>2071.000</td>\n",
       "      <td>0.329</td>\n",
       "      <td>1895.000</td>\n",
       "      <td>3442.000</td>\n",
       "      <td>0.479</td>\n",
       "    </tr>\n",
       "    <tr>\n",
       "      <th>25%</th>\n",
       "      <td>3271.750</td>\n",
       "      <td>7189.250</td>\n",
       "      <td>0.450</td>\n",
       "      <td>830.750</td>\n",
       "      <td>2405.250</td>\n",
       "      <td>0.348</td>\n",
       "      <td>2321.500</td>\n",
       "      <td>4534.750</td>\n",
       "      <td>0.507</td>\n",
       "    </tr>\n",
       "    <tr>\n",
       "      <th>50%</th>\n",
       "      <td>3391.000</td>\n",
       "      <td>7306.000</td>\n",
       "      <td>0.461</td>\n",
       "      <td>927.500</td>\n",
       "      <td>2602.000</td>\n",
       "      <td>0.353</td>\n",
       "      <td>2474.500</td>\n",
       "      <td>4716.500</td>\n",
       "      <td>0.518</td>\n",
       "    </tr>\n",
       "    <tr>\n",
       "      <th>75%</th>\n",
       "      <td>3466.000</td>\n",
       "      <td>7424.500</td>\n",
       "      <td>0.471</td>\n",
       "      <td>1009.500</td>\n",
       "      <td>2815.250</td>\n",
       "      <td>0.359</td>\n",
       "      <td>2564.500</td>\n",
       "      <td>4998.500</td>\n",
       "      <td>0.534</td>\n",
       "    </tr>\n",
       "    <tr>\n",
       "      <th>max</th>\n",
       "      <td>3612.000</td>\n",
       "      <td>7706.000</td>\n",
       "      <td>0.491</td>\n",
       "      <td>1323.000</td>\n",
       "      <td>3721.000</td>\n",
       "      <td>0.392</td>\n",
       "      <td>2739.000</td>\n",
       "      <td>5182.000</td>\n",
       "      <td>0.565</td>\n",
       "    </tr>\n",
       "  </tbody>\n",
       "</table>\n",
       "</div>"
      ],
      "text/plain": [
       "             FG       FGA     FG%        3P       3PA     3P%        2P  \\\n",
       "count    30.000    30.000  30.000    30.000    30.000  30.000    30.000   \n",
       "mean   3368.733  7315.267   0.460   931.833  2624.733   0.356  2436.900   \n",
       "std     136.818   173.173   0.013   123.406   352.777   0.015   178.247   \n",
       "min    3113.000  6924.000   0.433   745.000  2071.000   0.329  1895.000   \n",
       "25%    3271.750  7189.250   0.450   830.750  2405.250   0.348  2321.500   \n",
       "50%    3391.000  7306.000   0.461   927.500  2602.000   0.353  2474.500   \n",
       "75%    3466.000  7424.500   0.471  1009.500  2815.250   0.359  2564.500   \n",
       "max    3612.000  7706.000   0.491  1323.000  3721.000   0.392  2739.000   \n",
       "\n",
       "            2PA     2P%  \n",
       "count    30.000  30.000  \n",
       "mean   4690.533   0.520  \n",
       "std     372.194   0.020  \n",
       "min    3442.000   0.479  \n",
       "25%    4534.750   0.507  \n",
       "50%    4716.500   0.518  \n",
       "75%    4998.500   0.534  \n",
       "max    5182.000   0.565  "
      ]
     },
     "metadata": {},
     "output_type": "display_data"
    }
   ],
   "source": [
    "des_t_stats = {}\n",
    "display(Markdown('**\\'Team Stats\\' Descriptive Table**'))\n",
    "\n",
    "for file in t_stats:\n",
    "    des_t_stats[file] = t_stats[file].describe()\n",
    "display(Markdown('**2018-2019 Season**'))\n",
    "display(des_t_stats['18-19_team_stats.csv'])"
   ]
  },
  {
   "cell_type": "markdown",
   "metadata": {},
   "source": [
    "The descriptive tables do not give us any information about variance, so we can calculate that ourselves."
   ]
  },
  {
   "cell_type": "code",
   "execution_count": 15,
   "metadata": {},
   "outputs": [
    {
     "data": {
      "text/markdown": [
       "**2018-2019 Season 'Team Per Game' Variances**"
      ],
      "text/plain": [
       "<IPython.core.display.Markdown object>"
      ]
     },
     "metadata": {},
     "output_type": "display_data"
    },
    {
     "data": {
      "text/plain": [
       "FG      2.7958\n",
       "FGA     4.4529\n",
       "FG%     0.0002\n",
       "3P      2.2777\n",
       "3PA    18.4958\n",
       "3P%     0.0002\n",
       "2P      4.7249\n",
       "2PA    20.5445\n",
       "2P%     0.0004\n",
       "dtype: float64"
      ]
     },
     "execution_count": 15,
     "metadata": {},
     "output_type": "execute_result"
    }
   ],
   "source": [
    "pd.set_option('precision', 4)\n",
    "display(Markdown('**2018-2019 Season \\'Team Per Game\\' Variances**'))\n",
    "t_per_game['18-19_team_per_game_stats.csv'].var()"
   ]
  },
  {
   "cell_type": "code",
   "execution_count": 16,
   "metadata": {},
   "outputs": [
    {
     "data": {
      "text/markdown": [
       "**2018-2019 Season 'Team Shooting' Variances**"
      ],
      "text/plain": [
       "<IPython.core.display.Markdown object>"
      ]
     },
     "metadata": {},
     "output_type": "display_data"
    },
    {
     "data": {
      "text/plain": [
       "FG%            0.00018\n",
       "Distance       0.57151\n",
       "2P Freq.       0.00233\n",
       "0-3ft          0.00098\n",
       "3-10ft         0.00061\n",
       "                ...   \n",
       "0-3ft FG%      0.00071\n",
       "3-10ft FG%     0.00076\n",
       "10-16ft FG%    0.00088\n",
       "16-3P FG%      0.00066\n",
       "3P FG%         0.00023\n",
       "Length: 14, dtype: float64"
      ]
     },
     "execution_count": 16,
     "metadata": {},
     "output_type": "execute_result"
    }
   ],
   "source": [
    "pd.set_option('precision', 5)\n",
    "display(Markdown('**2018-2019 Season \\'Team Shooting\\' Variances**'))\n",
    "t_shooting['18-19_team_shooting.csv'].var()"
   ]
  },
  {
   "cell_type": "code",
   "execution_count": 17,
   "metadata": {},
   "outputs": [
    {
     "data": {
      "text/markdown": [
       "**2018-2019 Season 'Team Stats' Variances**"
      ],
      "text/plain": [
       "<IPython.core.display.Markdown object>"
      ]
     },
     "metadata": {},
     "output_type": "display_data"
    },
    {
     "data": {
      "text/plain": [
       "FG      18719.0299\n",
       "FGA     29988.9609\n",
       "FG%         0.0002\n",
       "3P      15229.1092\n",
       "3PA    124451.5126\n",
       "3P%         0.0002\n",
       "2P      31771.9552\n",
       "2PA    138528.3264\n",
       "2P%         0.0004\n",
       "dtype: float64"
      ]
     },
     "execution_count": 17,
     "metadata": {},
     "output_type": "execute_result"
    }
   ],
   "source": [
    "pd.set_option('precision', 4)\n",
    "display(Markdown('**2018-2019 Season \\'Team Stats\\' Variances**'))\n",
    "t_stats['18-19_team_stats.csv'].var()"
   ]
  },
  {
   "cell_type": "code",
   "execution_count": 18,
   "metadata": {},
   "outputs": [],
   "source": [
    "pd.set_option('precision', 3)"
   ]
  },
  {
   "cell_type": "markdown",
   "metadata": {},
   "source": [
    "We will now begin to check if our dataset contains any missing data."
   ]
  },
  {
   "cell_type": "code",
   "execution_count": 19,
   "metadata": {},
   "outputs": [
    {
     "data": {
      "text/markdown": [
       "**Total number of missing values by column for entire 'Team Per Game' dataset:**"
      ],
      "text/plain": [
       "<IPython.core.display.Markdown object>"
      ]
     },
     "metadata": {},
     "output_type": "display_data"
    },
    {
     "data": {
      "text/plain": [
       "Team    0\n",
       "FG      0\n",
       "FGA     0\n",
       "FG%     0\n",
       "3P      0\n",
       "3PA     0\n",
       "3P%     0\n",
       "2P      0\n",
       "2PA     0\n",
       "2P%     0\n",
       "dtype: int64"
      ]
     },
     "execution_count": 19,
     "metadata": {},
     "output_type": "execute_result"
    }
   ],
   "source": [
    "display(Markdown('**Total number of missing values by column for entire \\'Team Per Game\\' dataset:**'))\n",
    "tpg_null_total = 0\n",
    "for file in t_per_game:\n",
    "    tpg_null_total += t_per_game[file].isnull().sum()\n",
    "tpg_null_total"
   ]
  },
  {
   "cell_type": "code",
   "execution_count": 20,
   "metadata": {},
   "outputs": [
    {
     "data": {
      "text/markdown": [
       "**Total number of missing values by column for entire 'Team Shooting' dataset:**"
      ],
      "text/plain": [
       "<IPython.core.display.Markdown object>"
      ]
     },
     "metadata": {},
     "output_type": "display_data"
    },
    {
     "data": {
      "text/plain": [
       "Team           0\n",
       "FG%            0\n",
       "Distance       0\n",
       "2P Freq.       0\n",
       "0-3ft          0\n",
       "3-10ft         0\n",
       "10-16ft        0\n",
       "16-3pt         0\n",
       "3P Freq.       0\n",
       "2P FG%         0\n",
       "0-3ft FG%      0\n",
       "3-10ft FG%     0\n",
       "10-16ft FG%    0\n",
       "16-3P FG%      0\n",
       "3P FG%         0\n",
       "dtype: int64"
      ]
     },
     "execution_count": 20,
     "metadata": {},
     "output_type": "execute_result"
    }
   ],
   "source": [
    "pd.options.display.max_rows = 20\n",
    "\n",
    "display(Markdown('**Total number of missing values by column for entire \\'Team Shooting\\' dataset:**'))\n",
    "tshooting_null_total = 0\n",
    "for file in t_shooting:\n",
    "    tshooting_null_total += t_shooting[file].isnull().sum()\n",
    "tshooting_null_total"
   ]
  },
  {
   "cell_type": "code",
   "execution_count": 21,
   "metadata": {},
   "outputs": [
    {
     "data": {
      "text/markdown": [
       "**Total number of missing values by column for entire 'Team Stats' dataset:**"
      ],
      "text/plain": [
       "<IPython.core.display.Markdown object>"
      ]
     },
     "metadata": {},
     "output_type": "display_data"
    },
    {
     "data": {
      "text/plain": [
       "Team    0\n",
       "FG      0\n",
       "FGA     0\n",
       "FG%     0\n",
       "3P      0\n",
       "3PA     0\n",
       "3P%     0\n",
       "2P      0\n",
       "2PA     0\n",
       "2P%     0\n",
       "dtype: int64"
      ]
     },
     "execution_count": 21,
     "metadata": {},
     "output_type": "execute_result"
    }
   ],
   "source": [
    "pd.options.display.max_rows = 11\n",
    "\n",
    "display(Markdown('**Total number of missing values by column for entire \\'Team Stats\\' dataset:**'))\n",
    "tstats_null_total = 0\n",
    "for file in t_stats:\n",
    "    tstats_null_total += t_stats[file].isnull().sum()\n",
    "tstats_null_total"
   ]
  },
  {
   "cell_type": "markdown",
   "metadata": {},
   "source": [
    "As one may notice, our datasets do not contain any missing data, and that can be attributed to due diligence from the NBA and its analytical/statistics team. Props to the NBA analytics and statistics team!\n",
    "\n",
    "With that worry out of the way, we can now look at the distributions for each of the columns in each of the datasets."
   ]
  },
  {
   "cell_type": "code",
   "execution_count": 22,
   "metadata": {},
   "outputs": [
    {
     "data": {
      "text/markdown": [
       "**Raw distributions for 'Team Per Game' for the 2018-2019 season**"
      ],
      "text/plain": [
       "<IPython.core.display.Markdown object>"
      ]
     },
     "metadata": {},
     "output_type": "display_data"
    },
    {
     "data": {
      "text/plain": [
       "Text(0.5, 0.98, '\\n2018-2019 Season')"
      ]
     },
     "execution_count": 22,
     "metadata": {},
     "output_type": "execute_result"
    },
    {
     "data": {
      "image/png": "[encoded data removed]",
      "text/plain": [
       "<Figure size 504x504 with 9 Axes>"
      ]
     },
     "metadata": {
      "needs_background": "light"
     },
     "output_type": "display_data"
    }
   ],
   "source": [
    "display(Markdown('**Raw distributions for \\'Team Per Game\\' for the 2018-2019 season**'))\n",
    "        \n",
    "t_per_game['18-19_team_per_game_stats.csv'].hist(figsize=(7,7), bins=15)\n",
    "pl.suptitle('\\n2018-2019 Season', fontsize=14)"
   ]
  },
  {
   "cell_type": "code",
   "execution_count": 23,
   "metadata": {},
   "outputs": [
    {
     "data": {
      "text/markdown": [
       "**Raw distributions for 'Team Shooting' for the 2018-2019 season**"
      ],
      "text/plain": [
       "<IPython.core.display.Markdown object>"
      ]
     },
     "metadata": {},
     "output_type": "display_data"
    },
    {
     "data": {
      "text/plain": [
       "Text(0.5, 0.98, '\\n2018-2019 Season')"
      ]
     },
     "execution_count": 23,
     "metadata": {},
     "output_type": "execute_result"
    },
    {
     "data": {
      "image/png": "[encoded data removed]",
      "text/plain": [
       "<Figure size 864x864 with 16 Axes>"
      ]
     },
     "metadata": {
      "needs_background": "light"
     },
     "output_type": "display_data"
    }
   ],
   "source": [
    "display(Markdown('**Raw distributions for \\'Team Shooting\\' for the 2018-2019 season**'))\n",
    "\n",
    "t_shooting['18-19_team_shooting.csv'].hist(figsize=(12,12), bins=15)\n",
    "pl.suptitle('\\n2018-2019 Season', fontsize=14)"
   ]
  },
  {
   "cell_type": "code",
   "execution_count": 24,
   "metadata": {},
   "outputs": [
    {
     "data": {
      "text/markdown": [
       "**Raw distributions for 'Team Stats' for the 2018-2019 season**"
      ],
      "text/plain": [
       "<IPython.core.display.Markdown object>"
      ]
     },
     "metadata": {},
     "output_type": "display_data"
    },
    {
     "data": {
      "text/plain": [
       "Text(0.5, 0.98, '\\n2018-2019 Season')"
      ]
     },
     "execution_count": 24,
     "metadata": {},
     "output_type": "execute_result"
    },
    {
     "data": {
      "image/png": "[encoded data removed]",
      "text/plain": [
       "<Figure size 504x504 with 9 Axes>"
      ]
     },
     "metadata": {
      "needs_background": "light"
     },
     "output_type": "display_data"
    }
   ],
   "source": [
    "display(Markdown('**Raw distributions for \\'Team Stats\\' for the 2018-2019 season**'))\n",
    "\n",
    "t_stats['18-19_team_stats.csv'].hist(figsize=(7,7), bins=15)\n",
    "pl.suptitle('\\n2018-2019 Season', fontsize=14)"
   ]
  },
  {
   "cell_type": "markdown",
   "metadata": {},
   "source": [
    "Distributions for each category in each dataset run the gamut from normal distributions such as for the 16ft - 3P shooting percentage, bimodal distributions such as for the Field Goal Percentage (FG%), and even Poisson distributions such as for 3PA under the 'Team Per Game' dataset.\n",
    "\n",
    "Now, let's calculate the means for both a single season and over the entirety of each of our datasets."
   ]
  },
  {
   "cell_type": "code",
   "execution_count": 25,
   "metadata": {},
   "outputs": [
    {
     "data": {
      "text/markdown": [
       "**2018-2019 Season 'Team Per Game' Means**"
      ],
      "text/plain": [
       "<IPython.core.display.Markdown object>"
      ]
     },
     "metadata": {},
     "output_type": "display_data"
    },
    {
     "data": {
      "text/plain": [
       "FG     41.073\n",
       "FGA    89.213\n",
       "FG%     0.460\n",
       "3P     11.360\n",
       "3PA    32.007\n",
       "3P%     0.356\n",
       "2P     29.717\n",
       "2PA    57.203\n",
       "2P%     0.520\n",
       "dtype: float64"
      ]
     },
     "metadata": {},
     "output_type": "display_data"
    },
    {
     "data": {
      "text/markdown": [
       "**2018-2019 Season 'Team Shooting' Means**"
      ],
      "text/plain": [
       "<IPython.core.display.Markdown object>"
      ]
     },
     "metadata": {},
     "output_type": "display_data"
    },
    {
     "data": {
      "text/plain": [
       "FG%             0.460\n",
       "Distance       13.557\n",
       "2P Freq.        0.641\n",
       "0-3ft           0.292\n",
       "3-10ft          0.162\n",
       "10-16ft         0.096\n",
       "16-3pt          0.092\n",
       "3P Freq.        0.359\n",
       "2P FG%          0.520\n",
       "0-3ft FG%       0.658\n",
       "3-10ft FG%      0.399\n",
       "10-16ft FG%     0.411\n",
       "16-3P FG%       0.399\n",
       "3P FG%          0.355\n",
       "dtype: float64"
      ]
     },
     "metadata": {},
     "output_type": "display_data"
    },
    {
     "data": {
      "text/markdown": [
       "**2018-2019 Season 'Team Stats' Mean**"
      ],
      "text/plain": [
       "<IPython.core.display.Markdown object>"
      ]
     },
     "metadata": {},
     "output_type": "display_data"
    },
    {
     "data": {
      "text/plain": [
       "FG     3368.733\n",
       "FGA    7315.267\n",
       "FG%       0.460\n",
       "3P      931.833\n",
       "3PA    2624.733\n",
       "3P%       0.356\n",
       "2P     2436.900\n",
       "2PA    4690.533\n",
       "2P%       0.520\n",
       "dtype: float64"
      ]
     },
     "metadata": {},
     "output_type": "display_data"
    }
   ],
   "source": [
    "# Means of the 2018-2019 Season Datasets\n",
    "pd.options.display.max_rows = 20\n",
    "\n",
    "display(Markdown('**2018-2019 Season \\'Team Per Game\\' Means**'))\n",
    "display(t_per_game['18-19_team_per_game_stats.csv'].mean())\n",
    "display(Markdown('**2018-2019 Season \\'Team Shooting\\' Means**'))\n",
    "display(t_shooting['18-19_team_shooting.csv'].mean())\n",
    "display(Markdown('**2018-2019 Season \\'Team Stats\\' Mean**'))\n",
    "display(t_stats['18-19_team_stats.csv'].mean())"
   ]
  },
  {
   "cell_type": "code",
   "execution_count": 26,
   "metadata": {},
   "outputs": [
    {
     "data": {
      "text/markdown": [
       "**Means for entire 'Team Per Game' dataset across 18 seasons**"
      ],
      "text/plain": [
       "<IPython.core.display.Markdown object>"
      ]
     },
     "metadata": {},
     "output_type": "display_data"
    },
    {
     "data": {
      "text/plain": [
       "FG     37.251\n",
       "FGA    82.261\n",
       "FG%     0.453\n",
       "3P      7.036\n",
       "3PA    19.729\n",
       "3P%     0.355\n",
       "2P     30.221\n",
       "2PA    62.530\n",
       "2P%     0.484\n",
       "dtype: float64"
      ]
     },
     "execution_count": 26,
     "metadata": {},
     "output_type": "execute_result"
    }
   ],
   "source": [
    "# Total team per game dataset mean\n",
    "total_tpg_mean = 0\n",
    "for file in t_per_game:\n",
    "    total_tpg_mean += t_per_game[file].mean()/len(t_per_game)\n",
    "display(Markdown('**Means for entire \\'Team Per Game\\' dataset across 18 seasons**'))\n",
    "total_tpg_mean"
   ]
  },
  {
   "cell_type": "code",
   "execution_count": 27,
   "metadata": {},
   "outputs": [
    {
     "data": {
      "text/markdown": [
       "**Means for entire 'Team Shooting' dataset across 18 seasons**"
      ],
      "text/plain": [
       "<IPython.core.display.Markdown object>"
      ]
     },
     "metadata": {},
     "output_type": "display_data"
    },
    {
     "data": {
      "text/plain": [
       "FG%             0.453\n",
       "Distance       12.499\n",
       "2P Freq.        0.762\n",
       "0-3ft           0.295\n",
       "3-10ft          0.150\n",
       "10-16ft         0.118\n",
       "16-3pt          0.199\n",
       "3P Freq.        0.238\n",
       "2P FG%          0.484\n",
       "0-3ft FG%       0.621\n",
       "3-10ft FG%      0.394\n",
       "10-16ft FG%     0.394\n",
       "16-3P FG%       0.398\n",
       "3P FG%          0.355\n",
       "dtype: float64"
      ]
     },
     "execution_count": 27,
     "metadata": {},
     "output_type": "execute_result"
    }
   ],
   "source": [
    "# Total team shooting dataset mean\n",
    "total_tshooting_mean = 0\n",
    "for file in t_shooting:\n",
    "    total_tshooting_mean += t_shooting[file].mean()/len(t_shooting)\n",
    "display(Markdown('**Means for entire \\'Team Shooting\\' dataset across 18 seasons**'))\n",
    "total_tshooting_mean"
   ]
  },
  {
   "cell_type": "code",
   "execution_count": 28,
   "metadata": {},
   "outputs": [
    {
     "data": {
      "text/markdown": [
       "**Means for entire 'Team Stats' dataset across 18 seasons**"
      ],
      "text/plain": [
       "<IPython.core.display.Markdown object>"
      ]
     },
     "metadata": {},
     "output_type": "display_data"
    },
    {
     "data": {
      "text/plain": [
       "FG     3054.674\n",
       "FGA    6745.020\n",
       "FG%       0.453\n",
       "3P      576.871\n",
       "3PA    1617.693\n",
       "3P%       0.355\n",
       "2P     2477.803\n",
       "2PA    5127.327\n",
       "2P%       0.484\n",
       "dtype: float64"
      ]
     },
     "execution_count": 28,
     "metadata": {},
     "output_type": "execute_result"
    }
   ],
   "source": [
    "# Total team per game dataset mean\n",
    "total_tstats_mean = 0\n",
    "for file in t_stats:\n",
    "    total_tstats_mean += t_stats[file].mean()/len(t_stats)\n",
    "display(Markdown('**Means for entire \\'Team Stats\\' dataset across 18 seasons**'))\n",
    "total_tstats_mean"
   ]
  },
  {
   "cell_type": "markdown",
   "metadata": {},
   "source": [
    "We shall do the same with medians. However, looking at a median across seasons is impractical and we will avoid doing so."
   ]
  },
  {
   "cell_type": "code",
   "execution_count": 29,
   "metadata": {},
   "outputs": [
    {
     "data": {
      "text/markdown": [
       "**2018-2019 Season 'Team Per Game' Medians**"
      ],
      "text/plain": [
       "<IPython.core.display.Markdown object>"
      ]
     },
     "metadata": {},
     "output_type": "display_data"
    },
    {
     "data": {
      "text/plain": [
       "FG     41.350\n",
       "FGA    89.100\n",
       "FG%     0.461\n",
       "3P     11.300\n",
       "3PA    31.750\n",
       "3P%     0.353\n",
       "2P     30.200\n",
       "2PA    57.500\n",
       "2P%     0.518\n",
       "dtype: float64"
      ]
     },
     "metadata": {},
     "output_type": "display_data"
    },
    {
     "data": {
      "text/markdown": [
       "**2018-2019 Season 'Team Shooting' Medians**"
      ],
      "text/plain": [
       "<IPython.core.display.Markdown object>"
      ]
     },
     "metadata": {},
     "output_type": "display_data"
    },
    {
     "data": {
      "text/plain": [
       "FG%             0.461\n",
       "Distance       13.500\n",
       "2P Freq.        0.653\n",
       "0-3ft           0.290\n",
       "3-10ft          0.163\n",
       "10-16ft         0.098\n",
       "16-3pt          0.094\n",
       "3P Freq.        0.348\n",
       "2P FG%          0.518\n",
       "0-3ft FG%       0.659\n",
       "3-10ft FG%      0.401\n",
       "10-16ft FG%     0.407\n",
       "16-3P FG%       0.394\n",
       "3P FG%          0.353\n",
       "dtype: float64"
      ]
     },
     "metadata": {},
     "output_type": "display_data"
    },
    {
     "data": {
      "text/markdown": [
       "**2018-2019 Season 'Team Stats' Medians**"
      ],
      "text/plain": [
       "<IPython.core.display.Markdown object>"
      ]
     },
     "metadata": {},
     "output_type": "display_data"
    },
    {
     "data": {
      "text/plain": [
       "FG     3391.000\n",
       "FGA    7306.000\n",
       "FG%       0.461\n",
       "3P      927.500\n",
       "3PA    2602.000\n",
       "3P%       0.353\n",
       "2P     2474.500\n",
       "2PA    4716.500\n",
       "2P%       0.518\n",
       "dtype: float64"
      ]
     },
     "metadata": {},
     "output_type": "display_data"
    }
   ],
   "source": [
    "# Medians of the 2018-2019 Season Datasets\n",
    "display(Markdown('**2018-2019 Season \\'Team Per Game\\' Medians**'))\n",
    "display(t_per_game['18-19_team_per_game_stats.csv'].median())\n",
    "display(Markdown('**2018-2019 Season \\'Team Shooting\\' Medians**'))\n",
    "display(t_shooting['18-19_team_shooting.csv'].median())\n",
    "display(Markdown('**2018-2019 Season \\'Team Stats\\' Medians**'))\n",
    "display(t_stats['18-19_team_stats.csv'].median())"
   ]
  },
  {
   "cell_type": "markdown",
   "metadata": {},
   "source": [
    "Time to look at the range, and more importantly IQR of a season. We separate the data into two categories: one for percentages and frequencies, and the other for counts. This way, we prevent one category of skewing the axis heavily in the direction of one statistic, such as for example Average Shot Distance in the 'Team Shooting' dataset relative to the others."
   ]
  },
  {
   "cell_type": "code",
   "execution_count": 30,
   "metadata": {},
   "outputs": [
    {
     "data": {
      "text/markdown": [
       "**2018-2019 Season 'Team Per Game' IQR**"
      ],
      "text/plain": [
       "<IPython.core.display.Markdown object>"
      ]
     },
     "metadata": {},
     "output_type": "display_data"
    },
    {
     "data": {
      "text/plain": [
       "Text(0.5, 0.98, \"'Team Per Game' Shot Percentages IQR (%)\")"
      ]
     },
     "execution_count": 30,
     "metadata": {},
     "output_type": "execute_result"
    },
    {
     "data": {
      "image/png": "[encoded data removed]",
      "text/plain": [
       "<Figure size 432x288 with 1 Axes>"
      ]
     },
     "metadata": {
      "needs_background": "light"
     },
     "output_type": "display_data"
    }
   ],
   "source": [
    "display(Markdown('**2018-2019 Season \\'Team Per Game\\' IQR**'))\n",
    "t_per_game['18-19_team_per_game_stats.csv'].boxplot(column=['FG%','3P%','2P%'])\n",
    "pl.suptitle('\\'Team Per Game\\' Shot Percentages IQR (%)')"
   ]
  },
  {
   "cell_type": "code",
   "execution_count": 31,
   "metadata": {},
   "outputs": [
    {
     "data": {
      "text/plain": [
       "Text(0.5, 0.98, \"'Team Per Game' Shot Attempts IQR (Count)\")"
      ]
     },
     "execution_count": 31,
     "metadata": {},
     "output_type": "execute_result"
    },
    {
     "data": {
      "image/png": "[encoded data removed]",
      "text/plain": [
       "<Figure size 432x288 with 1 Axes>"
      ]
     },
     "metadata": {
      "needs_background": "light"
     },
     "output_type": "display_data"
    }
   ],
   "source": [
    "t_per_game['18-19_team_per_game_stats.csv'].boxplot(column=['FG','FGA','3P','3PA','2P','2PA'])\n",
    "pl.suptitle('\\'Team Per Game\\' Shot Attempts IQR (Count)')"
   ]
  },
  {
   "cell_type": "code",
   "execution_count": 32,
   "metadata": {},
   "outputs": [
    {
     "data": {
      "text/markdown": [
       "**2018-2019 Season 'Team Shooting' IQR**"
      ],
      "text/plain": [
       "<IPython.core.display.Markdown object>"
      ]
     },
     "metadata": {},
     "output_type": "display_data"
    },
    {
     "data": {
      "text/plain": [
       "Text(0.5, 0.98, \"'Team Shooting' Percentages IQR (%)\")"
      ]
     },
     "execution_count": 32,
     "metadata": {},
     "output_type": "execute_result"
    },
    {
     "data": {
      "image/png": "[encoded data removed]",
      "text/plain": [
       "<Figure size 1152x360 with 1 Axes>"
      ]
     },
     "metadata": {
      "needs_background": "light"
     },
     "output_type": "display_data"
    }
   ],
   "source": [
    "display(Markdown('**2018-2019 Season \\'Team Shooting\\' IQR**'))\n",
    "t_shooting['18-19_team_shooting.csv'].boxplot(figsize=(16,5), column=['FG%','2P Freq.','0-3ft','3-10ft','10-16ft'\n",
    "                                                                      ,'16-3pt','3P Freq.','2P FG%','0-3ft FG%','3-10ft FG%'\n",
    "                                                                      ,'10-16ft FG%','16-3P FG%','3P FG%'])\n",
    "pl.suptitle('\\'Team Shooting\\' Percentages IQR (%)')"
   ]
  },
  {
   "cell_type": "code",
   "execution_count": 33,
   "metadata": {},
   "outputs": [
    {
     "data": {
      "text/plain": [
       "Text(0.5, 0.98, \"'Team Shooting' Average Shot Distance IQR (ft)\")"
      ]
     },
     "execution_count": 33,
     "metadata": {},
     "output_type": "execute_result"
    },
    {
     "data": {
      "image/png": "[encoded data removed]",
      "text/plain": [
       "<Figure size 432x288 with 1 Axes>"
      ]
     },
     "metadata": {
      "needs_background": "light"
     },
     "output_type": "display_data"
    }
   ],
   "source": [
    "t_shooting['18-19_team_shooting.csv'].boxplot(column=['Distance'])\n",
    "pl.suptitle('\\'Team Shooting\\' Average Shot Distance IQR (ft)')"
   ]
  },
  {
   "cell_type": "code",
   "execution_count": 34,
   "metadata": {},
   "outputs": [
    {
     "data": {
      "text/markdown": [
       "**2018-2019 Season 'Team Stats' IQR**"
      ],
      "text/plain": [
       "<IPython.core.display.Markdown object>"
      ]
     },
     "metadata": {},
     "output_type": "display_data"
    },
    {
     "data": {
      "text/plain": [
       "Text(0.5, 0.98, \"'Team Stats' Shot Percentages IQR (%)\")"
      ]
     },
     "execution_count": 34,
     "metadata": {},
     "output_type": "execute_result"
    },
    {
     "data": {
      "image/png": "[encoded data removed]",
      "text/plain": [
       "<Figure size 432x288 with 1 Axes>"
      ]
     },
     "metadata": {
      "needs_background": "light"
     },
     "output_type": "display_data"
    }
   ],
   "source": [
    "display(Markdown('**2018-2019 Season \\'Team Stats\\' IQR**'))\n",
    "t_stats['18-19_team_stats.csv'].boxplot(column=['FG%','3P%','2P%'])\n",
    "pl.suptitle('\\'Team Stats\\' Shot Percentages IQR (%)')"
   ]
  },
  {
   "cell_type": "code",
   "execution_count": 35,
   "metadata": {},
   "outputs": [
    {
     "data": {
      "text/plain": [
       "Text(0.5, 0.98, \"'Team Stats' Shot Attempts IQR (count)\")"
      ]
     },
     "execution_count": 35,
     "metadata": {},
     "output_type": "execute_result"
    },
    {
     "data": {
      "image/png": "[encoded data removed]",
      "text/plain": [
       "<Figure size 432x288 with 1 Axes>"
      ]
     },
     "metadata": {
      "needs_background": "light"
     },
     "output_type": "display_data"
    }
   ],
   "source": [
    "t_stats['18-19_team_stats.csv'].boxplot(column=['FG','FGA','3P','3PA','2P','2PA'])\n",
    "pl.suptitle('\\'Team Stats\\' Shot Attempts IQR (count)')"
   ]
  },
  {
   "cell_type": "markdown",
   "metadata": {},
   "source": [
    "## Exploratory Analysis"
   ]
  },
  {
   "cell_type": "markdown",
   "metadata": {},
   "source": [
    "In order to make sure that the data is consistent and reliable, we explored the data through graphs. "
   ]
  },
  {
   "cell_type": "code",
   "execution_count": 36,
   "metadata": {},
   "outputs": [],
   "source": [
    "# Configure libraries\n",
    "# The seaborn library makes plots look nicer\n",
    "sns.set()\n",
    "sns.set_context('talk')\n",
    "\n",
    "# Don't display too many rows/cols of DataFrames\n",
    "pd.options.display.max_rows = 7\n",
    "pd.options.display.max_columns = 8\n",
    "\n",
    "# Round decimals when displaying DataFrames\n",
    "pd.set_option('precision', 2)"
   ]
  },
  {
   "cell_type": "code",
   "execution_count": 37,
   "metadata": {},
   "outputs": [],
   "source": [
    "# Read all csv\n",
    "stats_game_2000 = pd.read_csv(\"00-01_team_per_game_stats.csv\")\n",
    "stats_shooting_2000 = pd.read_csv(\"00-01_team_shooting.csv\")\n",
    "\n",
    "# All team stats for all years\n",
    "df_stats_team_stats_2000 = pd.read_csv(\"00-01_team_stats.csv\")\n",
    "df_stats_team_stats_2001 = pd.read_csv(\"01-02_team_stats.csv\")\n",
    "df_stats_team_stats_2002 = pd.read_csv(\"02-03_team_stats.csv\")\n",
    "df_stats_team_stats_2003 = pd.read_csv(\"03-04_team_stats.csv\")\n",
    "df_stats_team_stats_2004 = pd.read_csv(\"04-05_team_stats.csv\")\n",
    "df_stats_team_stats_2005 = pd.read_csv(\"05-06_team_stats.csv\")\n",
    "df_stats_team_stats_2006 = pd.read_csv(\"06-07_team_stats.csv\")\n",
    "df_stats_team_stats_2007 = pd.read_csv(\"07-08_team_stats.csv\")\n",
    "df_stats_team_stats_2008 = pd.read_csv(\"08-09_team_stats.csv\")\n",
    "df_stats_team_stats_2009 = pd.read_csv(\"09-10_team_stats.csv\")\n",
    "df_stats_team_stats_2010 = pd.read_csv(\"10-11_team_stats.csv\")\n",
    "df_stats_team_stats_2011 = pd.read_csv(\"11-12_team_stats.csv\")\n",
    "df_stats_team_stats_2012 = pd.read_csv(\"12-13_team_stats.csv\")\n",
    "df_stats_team_stats_2013 = pd.read_csv(\"13-14_team_stats.csv\")\n",
    "df_stats_team_stats_2014 = pd.read_csv(\"14-15_team_stats.csv\")\n",
    "df_stats_team_stats_2015 = pd.read_csv(\"15-16_team_stats.csv\")\n",
    "df_stats_team_stats_2016 = pd.read_csv(\"16-17_team_stats.csv\")\n",
    "df_stats_team_stats_2017 = pd.read_csv(\"17-18_team_stats.csv\")\n",
    "df_stats_team_stats_2018 = pd.read_csv(\"18-19_team_stats.csv\")\n",
    "\n",
    "# Create new dataframe with all team stats with 3PA\n",
    "df_all_team_stats = pd.DataFrame()\n",
    "\n",
    "years = ['2000', '2001', '2002', '2003', '2004', '2005', '2006', '2007', '2008','2009', '2010', '2011', '2012', \n",
    "         '2013', '2014', '2015', '2016', '2017', '2018'] \n",
    "df_all_team_stats['Year'] = years\n",
    "\n",
    "# Get sum of all 3PA for team each for all years\n",
    "three_attempts = [df_stats_team_stats_2000['3PA'].sum(), df_stats_team_stats_2001['3PA'].sum(), \n",
    "                  df_stats_team_stats_2002['3PA'].sum(), df_stats_team_stats_2003['3PA'].sum(),\n",
    "                  df_stats_team_stats_2004['3PA'].sum(), df_stats_team_stats_2005['3PA'].sum(),\n",
    "                  df_stats_team_stats_2006['3PA'].sum(), df_stats_team_stats_2007['3PA'].sum(),\n",
    "                  df_stats_team_stats_2008['3PA'].sum(), df_stats_team_stats_2009['3PA'].sum(), \n",
    "                  df_stats_team_stats_2010['3PA'].sum(), df_stats_team_stats_2011['3PA'].sum(), \n",
    "                  df_stats_team_stats_2012['3PA'].sum(),\n",
    "                  df_stats_team_stats_2013['3PA'].sum(), df_stats_team_stats_2014['3PA'].sum(),\n",
    "                  df_stats_team_stats_2015['3PA'].sum(), df_stats_team_stats_2016['3PA'].sum(),\n",
    "                  df_stats_team_stats_2017['3PA'].sum(), df_stats_team_stats_2018['3PA'].sum()]\n",
    "df_all_team_stats['3PA'] = three_attempts\n",
    "\n",
    "# Get sum of all 2PA for team each for all years\n",
    "two_attempts = [df_stats_team_stats_2000['2PA'].sum(), df_stats_team_stats_2001['2PA'].sum(), \n",
    "                  df_stats_team_stats_2002['2PA'].sum(), df_stats_team_stats_2003['2PA'].sum(),\n",
    "                  df_stats_team_stats_2004['2PA'].sum(), df_stats_team_stats_2005['2PA'].sum(),\n",
    "                  df_stats_team_stats_2006['2PA'].sum(), df_stats_team_stats_2007['2PA'].sum(),\n",
    "                  df_stats_team_stats_2008['2PA'].sum(), df_stats_team_stats_2009['2PA'].sum(), \n",
    "                  df_stats_team_stats_2010['2PA'].sum(), df_stats_team_stats_2011['2PA'].sum(), \n",
    "                  df_stats_team_stats_2012['2PA'].sum(),\n",
    "                  df_stats_team_stats_2013['2PA'].sum(), df_stats_team_stats_2014['2PA'].sum(),\n",
    "                  df_stats_team_stats_2015['2PA'].sum(), df_stats_team_stats_2016['2PA'].sum(),\n",
    "                  df_stats_team_stats_2017['2PA'].sum(), df_stats_team_stats_2018['2PA'].sum()]\n",
    "df_all_team_stats['2PA'] = two_attempts\n"
   ]
  },
  {
   "cell_type": "code",
   "execution_count": 38,
   "metadata": {},
   "outputs": [
    {
     "data": {
      "image/png": "[encoded data removed]",
      "text/plain": [
       "<Figure size 727.05x288 with 1 Axes>"
      ]
     },
     "metadata": {},
     "output_type": "display_data"
    }
   ],
   "source": [
    "# Shows all 3PA for all teams in each year\n",
    "df_all_team_stats.plot(x='Year', y='3PA', xticks=range(19), title=\"3PA Over Past Two Decades\")\n",
    "\n",
    "f4 = plt.gcf()\n",
    "plt.gca().margins(x=0)\n",
    "f4.canvas.draw()\n",
    "tl = plt.gca().get_xticklabels()\n",
    "maxsize = max([t.get_window_extent().width for t in tl])\n",
    "m = 0.2 # inch margin\n",
    "s = maxsize/plt.gcf().dpi*19+2*m\n",
    "margin = m/plt.gcf().get_size_inches()[0]\n",
    "\n",
    "plt.gcf().subplots_adjust(left=margin, right=1.-margin)\n",
    "plt.gcf().set_size_inches(s, plt.gcf().get_size_inches()[1])"
   ]
  },
  {
   "cell_type": "code",
   "execution_count": 39,
   "metadata": {},
   "outputs": [
    {
     "data": {
      "image/png": "[encoded data removed]",
      "text/plain": [
       "<Figure size 727.05x288 with 1 Axes>"
      ]
     },
     "metadata": {},
     "output_type": "display_data"
    }
   ],
   "source": [
    "# Shows all 2PA vs 3PA\n",
    "df_all_team_stats.plot(x='Year', y='2PA', xticks=range(19), title=\"2PA Over Past Two Decades\")\n",
    "\n",
    "f4 = plt.gcf()\n",
    "plt.gca().margins(x=0)\n",
    "f4.canvas.draw()\n",
    "tl = plt.gca().get_xticklabels()\n",
    "maxsize = max([t.get_window_extent().width for t in tl])\n",
    "m = 0.2 # inch margin\n",
    "s = maxsize/plt.gcf().dpi*19+2*m\n",
    "margin = m/plt.gcf().get_size_inches()[0]\n",
    "\n",
    "plt.gcf().subplots_adjust(left=margin, right=1.-margin)\n",
    "plt.gcf().set_size_inches(s, plt.gcf().get_size_inches()[1])"
   ]
  },
  {
   "cell_type": "code",
   "execution_count": 40,
   "metadata": {},
   "outputs": [],
   "source": [
    "# https://en.m.wikipedia.org/wiki/2011%E2%80%9312_NBA_season\n",
    "# 2011-2012 --> season was shortened from 82 games to 66 games"
   ]
  },
  {
   "cell_type": "markdown",
   "metadata": {},
   "source": [
    "While exploring the data and creating graphs of the shot attempts over time, we found that the shot attempts tended to rise over time for three-pointers, while the number of shot attempts for two-pointers decreased over time. Between the years 2000 and 2010, the number of shot attempts for three-point shots increased steadily, but starting from 2012, the number of three-point attempts skyrocketed and increased heavily. For the number of two-point attempts, between the years 2000 and 2010 the number of attempts stayed relatively the same. However, starting in 2012, the number of two-point attempts began to decrease steadily as three-point attempts started to greatly rise. Furthermore, we found that in the year 2011, the number of two-point and three-point attempts decreased greatly, creating a dip in both graphs. After researching about the basketball season in 2011-2012, we found that the number of games decreased from 82 to 66 that year because of a new deal that was enacted.  "
   ]
  },
  {
   "cell_type": "markdown",
   "metadata": {},
   "source": [
    "## Data Analysis I"
   ]
  },
  {
   "cell_type": "markdown",
   "metadata": {},
   "source": [
    "#### Winning Team: FGA% by Distance\n",
    "\n",
    "While investigating the relation between the shooting average between each distance, we also wanted to analyze each winning team's field goal attempts sorted by distance. In order to further analyze this relation, we extracted data from all the team shooting csv files. Each team shooting csv file contains information about how well each team performed while shooting in that specific season. We first extracted the winning team for each specific season. We then extracted the field goal attempts (FGA) for different distances. These distance categories include 0 to 3 feet, 3 to 10 feet, 10 to 16 feet, 16 feet to the 3 pt line, and anything that would be categorized as a 3pt shot."
   ]
  },
  {
   "cell_type": "code",
   "execution_count": 41,
   "metadata": {},
   "outputs": [],
   "source": [
    "#2000-2001 Winning Team: Los Angeles Lakers\n",
    "winning_team_00_01 = df_00_01TS.loc[df_00_01TS['Unnamed: 1'] == 'Los Angeles Lakers*']\n",
    "lakers_00_01_FGADistance_0_3 = float(df_00_01TS['Unnamed: 7'][14])\n",
    "lakers_00_01_FGADistance_3_10 = float(df_00_01TS['Unnamed: 8'][14])\n",
    "lakers_00_01_FGADistance_10_16 = float(df_00_01TS['Unnamed: 9'][14])\n",
    "lakers_00_01_FGADistance_16_3pt = float(df_00_01TS['Unnamed: 16'][14])\n",
    "lakers_00_01_FGADistance_3pt = float(df_00_01TS['Unnamed: 17'][14])\n",
    "\n",
    "\n",
    "#2001-2002 Winning Team: Los Angeles Lakers\n",
    "winning_team_01_02 = df_01_02TS.loc[df_01_02TS['Unnamed: 1'] == 'Los Angeles Lakers*']\n",
    "lakers_01_02_FGADistance_0_3 = float(df_01_02TS['Unnamed: 7'][14])\n",
    "lakers_01_02_FGADistance_3_10 = float(df_01_02TS['Unnamed: 8'][14])\n",
    "lakers_01_02_FGADistance_10_16 = float(df_01_02TS['Unnamed: 9'][14])\n",
    "lakers_01_02_FGADistance_16_3pt = float(df_01_02TS['Unnamed: 16'][14])\n",
    "lakers_01_02_FGADistance_3pt = float(df_01_02TS['Unnamed: 17'][14])\n",
    "\n",
    "#2002-2003 Winning Team: Los Angeles Lakers\n",
    "winning_team_02_03 = df_02_03TS.loc[df_02_03TS['Unnamed: 1'] == 'Los Angeles Lakers*']\n",
    "lakers_02_03_FGADistance_0_3 = float(df_02_03TS['Unnamed: 7'][14])\n",
    "lakers_02_03_FGADistance_3_10 = float(df_02_03TS['Unnamed: 8'][14])\n",
    "lakers_02_03_FGADistance_10_16 = float(df_02_03TS['Unnamed: 9'][14])\n",
    "lakers_02_03_FGADistance_16_3pt = float(df_02_03TS['Unnamed: 16'][14])\n",
    "lakers_02_03_FGADistance_3pt = float(df_02_03TS['Unnamed: 17'][14])\n",
    "\n",
    "#2003-2004 Winning Team: San Antonio Spurs\n",
    "winning_team_03_04 = df_03_04TS.loc[df_03_04TS['Unnamed: 1'] == 'San Antonio Spurs*']\n",
    "spurs_03_04_FGADistance_0_3 = float(df_03_04TS['Unnamed: 7'][26])\n",
    "spurs_03_04_FGADistance_3_10 = float(df_03_04TS['Unnamed: 8'][26])\n",
    "spurs_03_04_FGADistance_10_16 = float(df_03_04TS['Unnamed: 9'][26])\n",
    "spurs_03_04_FGADistance_16_3pt = float(df_03_04TS['Unnamed: 16'][26])\n",
    "spurs_03_04_FGADistance_3pt = float(df_03_04TS['Unnamed: 17'][26])\n",
    "\n",
    "#2004-2005 Winning Team: Detroit Pistons\n",
    "winning_team_04_05 = df_04_05TS.loc[df_04_05TS['Unnamed: 1'] == 'Detroit Pistons*']\n",
    "pistons_04_05_FGADistance_0_3 = float(df_04_05TS['Unnamed: 7'][9])\n",
    "pistons_04_05_FGADistance_3_10 = float(df_04_05TS['Unnamed: 8'][9])\n",
    "pistons_04_05_FGADistance_10_16 = float(df_04_05TS['Unnamed: 9'][9])\n",
    "pistons_04_05_FGADistance_16_3pt = float(df_04_05TS['Unnamed: 16'][9])\n",
    "pistons_04_05_FGADistance_3pt = float(df_04_05TS['Unnamed: 17'][9])\n",
    "\n",
    "#2005-2006 Winning Team: San Antonio Spurs\n",
    "winning_team_05_06 = df_05_06TS.loc[df_05_06TS['Unnamed: 1'] == 'San Antonio Spurs*']\n",
    "spurs_05_06_FGADistance_0_3 = float(df_05_06TS['Unnamed: 7'][27])\n",
    "spurs_05_06_FGADistance_3_10 = float(df_05_06TS['Unnamed: 8'][27])\n",
    "spurs_05_06_FGADistance_10_16 = float(df_05_06TS['Unnamed: 9'][27])\n",
    "spurs_05_06_FGADistance_16_3pt = float(df_05_06TS['Unnamed: 16'][27])\n",
    "spurs_05_06_FGADistance_3pt = float(df_05_06TS['Unnamed: 17'][27])\n",
    "\n",
    "#2006-2007 Winning Team: Miami Heat\n",
    "winning_team_06_07 = df_06_07TS.loc[df_06_07TS['Unnamed: 1'] == 'Miami Heat*']\n",
    "heat_06_07_FGADistance_0_3 = float(df_06_07TS['Unnamed: 7'][16])\n",
    "heat_06_07_FGADistance_3_10 = float(df_06_07TS['Unnamed: 8'][16])\n",
    "heat_06_07_FGADistance_10_16 = float(df_06_07TS['Unnamed: 9'][16])\n",
    "heat_06_07_FGADistance_16_3pt = float(df_06_07TS['Unnamed: 16'][16])\n",
    "heat_06_07_FGADistance_3pt = float(df_06_07TS['Unnamed: 17'][16])\n",
    "\n",
    "#2007-2008 Winning Team: San Antonio Spurs\n",
    "winning_team_07_08 = df_07_08TS.loc[df_07_08TS['Unnamed: 1'] == 'San Antonio Spurs*']\n",
    "spurs_07_08_FGADistance_0_3 = float(df_07_08TS['Unnamed: 7'][27])\n",
    "spurs_07_08_FGADistance_3_10 = float(df_07_08TS['Unnamed: 8'][27])\n",
    "spurs_07_08_FGADistance_10_16 = float(df_07_08TS['Unnamed: 9'][27])\n",
    "spurs_07_08_FGADistance_16_3pt = float(df_07_08TS['Unnamed: 16'][27])\n",
    "spurs_07_08_FGADistance_3pt = float(df_07_08TS['Unnamed: 17'][27])\n",
    "\n",
    "#2008-2009 Winning Team: Boston Celtics\n",
    "winning_team_08_09 = df_08_09TS.loc[df_08_09TS['Unnamed: 1'] == 'Boston Celtics*']\n",
    "celtics_08_09_FGADistance_0_3 = float(df_08_09TS['Unnamed: 7'][3])\n",
    "celtics_08_09_FGADistance_3_10 = float(df_08_09TS['Unnamed: 8'][3])\n",
    "celtics_08_09_FGADistance_10_16 = float(df_08_09TS['Unnamed: 9'][3])\n",
    "celtics_08_09_FGADistance_16_3pt = float(df_08_09TS['Unnamed: 16'][3])\n",
    "celtics_08_09_FGADistance_3pt = float(df_08_09TS['Unnamed: 17'][3])\n",
    "\n",
    "#2009-2010 Winning Team: Los Angeles Lakers\n",
    "winning_team_09_10 = df_09_10TS.loc[df_09_10TS['Unnamed: 1'] == 'Los Angeles Lakers*']\n",
    "lakers_09_10_FGADistance_0_3 = float(df_09_10TS['Unnamed: 7'][14])\n",
    "lakers_09_10_FGADistance_3_10 = float(df_09_10TS['Unnamed: 8'][14])\n",
    "lakers_09_10_FGADistance_10_16 = float(df_09_10TS['Unnamed: 9'][14])\n",
    "lakers_09_10_FGADistance_16_3pt = float(df_09_10TS['Unnamed: 16'][14])\n",
    "lakers_09_10_FGADistance_3pt = float(df_09_10TS['Unnamed: 17'][14])\n",
    "\n",
    "#2010-2011 Winning Team: Los Angeles Lakers\n",
    "winning_team_10_11 = df_10_11TS.loc[df_10_11TS['Unnamed: 1'] == 'Los Angeles Lakers*']\n",
    "lakers_10_11_FGADistance_0_3 = float(df_10_11TS['Unnamed: 7'][14])\n",
    "lakers_10_11_FGADistance_3_10 = float(df_10_11TS['Unnamed: 8'][14])\n",
    "lakers_10_11_FGADistance_10_16 = float(df_10_11TS['Unnamed: 9'][14])\n",
    "lakers_10_11_FGADistance_16_3pt = float(df_10_11TS['Unnamed: 16'][14])\n",
    "lakers_10_11_FGADistance_3pt = float(df_10_11TS['Unnamed: 17'][14])\n",
    "\n",
    "#2011-2012 Winning Team: Dallas Mavericks\n",
    "winning_team_11_12 = df_11_12TS.loc[df_11_12TS['Unnamed: 1'] == 'Dallas Mavericks*']\n",
    "mavericks_11_12_FGADistance_0_3 = float(df_11_12TS['Unnamed: 7'][7])\n",
    "mavericks_11_12_FGADistance_3_10 = float(df_11_12TS['Unnamed: 8'][7])\n",
    "mavericks_11_12_FGADistance_10_16 = float(df_11_12TS['Unnamed: 9'][7])\n",
    "mavericks_11_12_FGADistance_16_3pt = float(df_11_12TS['Unnamed: 16'][7])\n",
    "mavericks_11_12_FGADistance_3pt = float(df_11_12TS['Unnamed: 17'][7])\n",
    "\n",
    "#2012-2013 Winning Team: Miami Heat\n",
    "winning_team_12_13 = df_12_13TS.loc[df_12_13TS['Unnamed: 1'] == 'Miami Heat*']\n",
    "heat_12_13_FGADistance_0_3 = float(df_12_13TS['Unnamed: 7'][17])\n",
    "heat_12_13_FGADistance_3_10 = float(df_12_13TS['Unnamed: 8'][17])\n",
    "heat_12_13_FGADistance_10_16 = float(df_12_13TS['Unnamed: 9'][17])\n",
    "heat_12_13_FGADistance_16_3pt = float(df_12_13TS['Unnamed: 16'][17])\n",
    "heat_12_13_FGADistance_3pt = float(df_12_13TS['Unnamed: 17'][17])\n",
    "\n",
    "#2013-2014 Winning Team: Miami Heat\n",
    "winning_team_13_14 = df_13_14TS.loc[df_13_14TS['Unnamed: 1'] == 'Miami Heat*']\n",
    "heat_13_14_FGADistance_0_3 = float(df_13_14TS['Unnamed: 7'][17])\n",
    "heat_13_14_FGADistance_3_10 = float(df_13_14TS['Unnamed: 8'][17])\n",
    "heat_13_14_FGADistance_10_16 = float(df_13_14TS['Unnamed: 9'][17])\n",
    "heat_13_14_FGADistance_16_3pt = float(df_13_14TS['Unnamed: 16'][17])\n",
    "heat_13_14_FGADistance_3pt = float(df_13_14TS['Unnamed: 17'][17])\n",
    "\n",
    "#2014-2015 Winning Team: San Antonio Spurs\n",
    "winning_team_14_15 = df_14_15TS.loc[df_14_15TS['Unnamed: 1'] == 'San Antonio Spurs*']\n",
    "spurs_14_15_FGADistance_0_3 = float(df_14_15TS['Unnamed: 7'][28])\n",
    "spurs_14_15_FGADistance_3_10 = float(df_14_15TS['Unnamed: 8'][28])\n",
    "spurs_14_15_FGADistance_10_16 = float(df_14_15TS['Unnamed: 9'][28])\n",
    "spurs_14_15_FGADistance_16_3pt = float(df_14_15TS['Unnamed: 16'][28])\n",
    "spurs_14_15_FGADistance_3pt = float(df_14_15TS['Unnamed: 17'][28])\n",
    "\n",
    "#2015-2016 Winning Team: Golder State Warriors\n",
    "winning_team_15_16 = df_15_16TS.loc[df_15_16TS['Unnamed: 1'] == 'Golden State Warriors*']\n",
    "warriors_15_16_FGADistance_0_3 = float(df_15_16TS['Unnamed: 7'][11])\n",
    "warriors_15_16_FGADistance_3_10 = float(df_15_16TS['Unnamed: 8'][11])\n",
    "warriors_15_16_FGADistance_10_16 = float(df_15_16TS['Unnamed: 9'][11])\n",
    "warriors_15_16_FGADistance_16_3pt = float(df_15_16TS['Unnamed: 16'][11])\n",
    "warriors_15_16_FGADistance_3pt = float(df_15_16TS['Unnamed: 17'][11])\n",
    "\n",
    "#2016-2017 Winning Team: Cleveland Cavaliers\n",
    "winning_team_16_17 = df_16_17TS.loc[df_16_17TS['Unnamed: 1'] == 'Cleveland Cavaliers*']\n",
    "cavaliers_16_17_FGADistance_0_3 = float(df_16_17TS['Unnamed: 7'][7])\n",
    "cavaliers_16_17_FGADistance_3_10 = float(df_16_17TS['Unnamed: 8'][7])\n",
    "cavaliers_16_17_FGADistance_10_16 = float(df_16_17TS['Unnamed: 9'][7])\n",
    "cavaliers_16_17_FGADistance_16_3pt = float(df_16_17TS['Unnamed: 16'][7])\n",
    "cavaliers_16_17_FGADistance_3pt = float(df_16_17TS['Unnamed: 17'][7])\n",
    "\n",
    "#2017-2018 Winning Team: Golder State Warriors\n",
    "winning_team_17_18 = df_17_18TS.loc[df_17_18TS['Unnamed: 1'] == 'Golden State Warriors*']\n",
    "warriors_17_18_FGADistance_0_3 = float(df_17_18TS['Unnamed: 7'][11])\n",
    "warriors_17_18_FGADistance_3_10 = float(df_17_18TS['Unnamed: 8'][11])\n",
    "warriors_17_18_FGADistance_10_16 = float(df_17_18TS['Unnamed: 9'][11])\n",
    "warriors_17_18_FGADistance_16_3pt = float(df_17_18TS['Unnamed: 16'][11])\n",
    "warriors_17_18_FGADistance_3pt = float(df_17_18TS['Unnamed: 17'][11])\n",
    "\n",
    "#2018-2019 Winning Team: Golder State Warriors\n",
    "winning_team_18_19 = df_18_19TS.loc[df_18_19TS['Unnamed: 1'] == 'Golden State Warriors*']\n",
    "warriors_18_19_FGADistance_0_3 = float(df_18_19TS['Unnamed: 7'][11])\n",
    "warriors_18_19_FGADistance_3_10 = float(df_18_19TS['Unnamed: 8'][11])\n",
    "warriors_18_19_FGADistance_10_16 = float(df_18_19TS['Unnamed: 9'][11])\n",
    "warriors_18_19_FGADistance_16_3pt = float(df_18_19TS['Unnamed: 16'][11])\n",
    "warriors_18_19_FGADistance_3pt = float(df_18_19TS['Unnamed: 17'][11])"
   ]
  },
  {
   "cell_type": "markdown",
   "metadata": {},
   "source": [
    "After extracting the data from each of the individual csv files for each season, we then organized the data into a new dataframe that holds all the field goal attempts (FGA) sorted by distance for each winning team."
   ]
  },
  {
   "cell_type": "code",
   "execution_count": 42,
   "metadata": {},
   "outputs": [],
   "source": [
    "winning_FG_Distance = {'Season':['2000-2001','2001-2002','2002-2003','2003-2004','2004-2005','2005-2006','2006-2007','2007-2008','2008-2009','2009-2010','2010-2011','2011-2012','2012-2013','2013-2014','2014-2015','2015-2016','2016-2017','2017-2018','2018-2019'],\n",
    "                       'Winning Team':['Los Angeles Lakers','Los Angeles Lakers','Los Angeles Lakers','San Antonio Spurs','Detroit Pistons','San Antonio Spurs','Miami Heat','San Antonio Spurs','Boston Celtics','Los Angeles Lakers','Los Angeles Lakers','Dallas Mavericks','Miami Heat','Miami Heat','San Antonio Spurs','Golden State Warriors','Cleveland Cavaliers','Golden State Warriors','Golden State Warriors'],\n",
    "                       'FG% Distance 0-3':[lakers_00_01_FGADistance_0_3,lakers_01_02_FGADistance_0_3,lakers_02_03_FGADistance_0_3,spurs_03_04_FGADistance_0_3,pistons_04_05_FGADistance_0_3,spurs_05_06_FGADistance_0_3,heat_06_07_FGADistance_0_3,spurs_07_08_FGADistance_0_3,celtics_08_09_FGADistance_0_3,lakers_09_10_FGADistance_0_3,lakers_10_11_FGADistance_0_3,mavericks_11_12_FGADistance_0_3,heat_12_13_FGADistance_0_3,heat_13_14_FGADistance_0_3,spurs_14_15_FGADistance_0_3,warriors_15_16_FGADistance_0_3,cavaliers_16_17_FGADistance_0_3,warriors_17_18_FGADistance_0_3,warriors_18_19_FGADistance_0_3],\n",
    "                       'FG% Distance 3-10':[lakers_00_01_FGADistance_3_10,lakers_01_02_FGADistance_3_10,lakers_02_03_FGADistance_3_10,spurs_03_04_FGADistance_3_10,pistons_04_05_FGADistance_3_10,spurs_05_06_FGADistance_3_10,heat_06_07_FGADistance_3_10,spurs_07_08_FGADistance_3_10,celtics_08_09_FGADistance_3_10,lakers_09_10_FGADistance_3_10,lakers_10_11_FGADistance_3_10,mavericks_11_12_FGADistance_3_10,heat_12_13_FGADistance_3_10,heat_13_14_FGADistance_3_10,spurs_14_15_FGADistance_3_10,warriors_15_16_FGADistance_3_10,cavaliers_16_17_FGADistance_3_10,warriors_17_18_FGADistance_3_10,warriors_18_19_FGADistance_3_10],\n",
    "                       'FG% Distance 10-16':[lakers_00_01_FGADistance_10_16,lakers_01_02_FGADistance_10_16,lakers_02_03_FGADistance_10_16,spurs_03_04_FGADistance_10_16,pistons_04_05_FGADistance_10_16,spurs_05_06_FGADistance_10_16,heat_06_07_FGADistance_10_16,spurs_07_08_FGADistance_10_16,celtics_08_09_FGADistance_10_16,lakers_09_10_FGADistance_10_16,lakers_10_11_FGADistance_10_16,mavericks_11_12_FGADistance_10_16,heat_12_13_FGADistance_10_16,heat_13_14_FGADistance_10_16,spurs_14_15_FGADistance_10_16,warriors_15_16_FGADistance_10_16,cavaliers_16_17_FGADistance_10_16,warriors_17_18_FGADistance_10_16,warriors_18_19_FGADistance_10_16],\n",
    "                       'FG% Distance 16-3pt':[lakers_00_01_FGADistance_16_3pt,lakers_01_02_FGADistance_16_3pt,lakers_02_03_FGADistance_16_3pt,spurs_03_04_FGADistance_16_3pt,pistons_04_05_FGADistance_16_3pt,spurs_05_06_FGADistance_16_3pt,heat_06_07_FGADistance_16_3pt,spurs_07_08_FGADistance_16_3pt,celtics_08_09_FGADistance_16_3pt,lakers_09_10_FGADistance_16_3pt,lakers_10_11_FGADistance_16_3pt,mavericks_11_12_FGADistance_16_3pt,heat_12_13_FGADistance_16_3pt,heat_13_14_FGADistance_16_3pt,spurs_14_15_FGADistance_16_3pt,warriors_15_16_FGADistance_16_3pt,cavaliers_16_17_FGADistance_16_3pt,warriors_17_18_FGADistance_16_3pt,warriors_18_19_FGADistance_16_3pt],\n",
    "                       'FG% Distance 3pt':[lakers_00_01_FGADistance_3pt,lakers_01_02_FGADistance_3pt,lakers_02_03_FGADistance_3pt,spurs_03_04_FGADistance_3pt,pistons_04_05_FGADistance_3pt,spurs_05_06_FGADistance_3pt,heat_06_07_FGADistance_3pt,spurs_07_08_FGADistance_3pt,celtics_08_09_FGADistance_3pt,lakers_09_10_FGADistance_3pt,lakers_10_11_FGADistance_3pt,mavericks_11_12_FGADistance_3pt,heat_12_13_FGADistance_3pt,heat_13_14_FGADistance_3pt,spurs_14_15_FGADistance_3pt,warriors_15_16_FGADistance_3pt,cavaliers_16_17_FGADistance_3pt,warriors_17_18_FGADistance_3pt,warriors_18_19_FGADistance_3pt]}\n",
    "winning_avg_FG = pd.DataFrame(winning_FG_Distance)"
   ]
  },
  {
   "cell_type": "code",
   "execution_count": 43,
   "metadata": {},
   "outputs": [
    {
     "data": {
      "text/html": [
       "<div>\n",
       "<style scoped>\n",
       "    .dataframe tbody tr th:only-of-type {\n",
       "        vertical-align: middle;\n",
       "    }\n",
       "\n",
       "    .dataframe tbody tr th {\n",
       "        vertical-align: top;\n",
       "    }\n",
       "\n",
       "    .dataframe thead th {\n",
       "        text-align: right;\n",
       "    }\n",
       "</style>\n",
       "<table border=\"1\" class=\"dataframe\">\n",
       "  <thead>\n",
       "    <tr style=\"text-align: right;\">\n",
       "      <th></th>\n",
       "      <th>Season</th>\n",
       "      <th>Winning Team</th>\n",
       "      <th>FG% Distance 0-3</th>\n",
       "      <th>FG% Distance 3-10</th>\n",
       "      <th>FG% Distance 10-16</th>\n",
       "      <th>FG% Distance 16-3pt</th>\n",
       "      <th>FG% Distance 3pt</th>\n",
       "    </tr>\n",
       "  </thead>\n",
       "  <tbody>\n",
       "    <tr>\n",
       "      <th>0</th>\n",
       "      <td>2000-2001</td>\n",
       "      <td>Los Angeles Lakers</td>\n",
       "      <td>0.28</td>\n",
       "      <td>0.19</td>\n",
       "      <td>0.14</td>\n",
       "      <td>0.41</td>\n",
       "      <td>0.34</td>\n",
       "    </tr>\n",
       "    <tr>\n",
       "      <th>1</th>\n",
       "      <td>2001-2002</td>\n",
       "      <td>Los Angeles Lakers</td>\n",
       "      <td>0.28</td>\n",
       "      <td>0.17</td>\n",
       "      <td>0.14</td>\n",
       "      <td>0.38</td>\n",
       "      <td>0.35</td>\n",
       "    </tr>\n",
       "    <tr>\n",
       "      <th>2</th>\n",
       "      <td>2002-2003</td>\n",
       "      <td>Los Angeles Lakers</td>\n",
       "      <td>0.29</td>\n",
       "      <td>0.17</td>\n",
       "      <td>0.13</td>\n",
       "      <td>0.40</td>\n",
       "      <td>0.36</td>\n",
       "    </tr>\n",
       "    <tr>\n",
       "      <th>...</th>\n",
       "      <td>...</td>\n",
       "      <td>...</td>\n",
       "      <td>...</td>\n",
       "      <td>...</td>\n",
       "      <td>...</td>\n",
       "      <td>...</td>\n",
       "      <td>...</td>\n",
       "    </tr>\n",
       "    <tr>\n",
       "      <th>16</th>\n",
       "      <td>2016-2017</td>\n",
       "      <td>Cleveland Cavaliers</td>\n",
       "      <td>0.28</td>\n",
       "      <td>0.11</td>\n",
       "      <td>0.09</td>\n",
       "      <td>0.42</td>\n",
       "      <td>0.38</td>\n",
       "    </tr>\n",
       "    <tr>\n",
       "      <th>17</th>\n",
       "      <td>2017-2018</td>\n",
       "      <td>Golden State Warriors</td>\n",
       "      <td>0.27</td>\n",
       "      <td>0.11</td>\n",
       "      <td>0.14</td>\n",
       "      <td>0.46</td>\n",
       "      <td>0.39</td>\n",
       "    </tr>\n",
       "    <tr>\n",
       "      <th>18</th>\n",
       "      <td>2018-2019</td>\n",
       "      <td>Golden State Warriors</td>\n",
       "      <td>0.25</td>\n",
       "      <td>0.11</td>\n",
       "      <td>0.12</td>\n",
       "      <td>0.46</td>\n",
       "      <td>0.39</td>\n",
       "    </tr>\n",
       "  </tbody>\n",
       "</table>\n",
       "<p>19 rows × 7 columns</p>\n",
       "</div>"
      ],
      "text/plain": [
       "       Season           Winning Team  FG% Distance 0-3  FG% Distance 3-10  \\\n",
       "0   2000-2001     Los Angeles Lakers              0.28               0.19   \n",
       "1   2001-2002     Los Angeles Lakers              0.28               0.17   \n",
       "2   2002-2003     Los Angeles Lakers              0.29               0.17   \n",
       "..        ...                    ...               ...                ...   \n",
       "16  2016-2017    Cleveland Cavaliers              0.28               0.11   \n",
       "17  2017-2018  Golden State Warriors              0.27               0.11   \n",
       "18  2018-2019  Golden State Warriors              0.25               0.11   \n",
       "\n",
       "    FG% Distance 10-16  FG% Distance 16-3pt  FG% Distance 3pt  \n",
       "0                 0.14                 0.41              0.34  \n",
       "1                 0.14                 0.38              0.35  \n",
       "2                 0.13                 0.40              0.36  \n",
       "..                 ...                  ...               ...  \n",
       "16                0.09                 0.42              0.38  \n",
       "17                0.14                 0.46              0.39  \n",
       "18                0.12                 0.46              0.39  \n",
       "\n",
       "[19 rows x 7 columns]"
      ]
     },
     "execution_count": 43,
     "metadata": {},
     "output_type": "execute_result"
    }
   ],
   "source": [
    "winning_avg_FG"
   ]
  },
  {
   "cell_type": "markdown",
   "metadata": {},
   "source": [
    "After creating the data frame, we then created a time series plot that represents how the field goal attempt percentage fluctuated from 2000 to 2018. On the x-axis, there exists a label that shows each NBA season from 2000 to 2018. The y-axis measures the field goal attempt percentage.  "
   ]
  },
  {
   "cell_type": "code",
   "execution_count": 44,
   "metadata": {},
   "outputs": [
    {
     "data": {
      "image/png": "[encoded data removed]",
      "text/plain": [
       "<Figure size 1080x360 with 1 Axes>"
      ]
     },
     "metadata": {},
     "output_type": "display_data"
    }
   ],
   "source": [
    "#Fixes the x axis label of the plot\n",
    "winning_x_axis = ['2000','2001','2002','2003','2004','2005','2006','2007','2008','2009','2010','2011','2012','2013','2014','2015','2016','2017','2018']\n",
    "\n",
    "#Creates a plot showing the field goal attempt averages in each categorized distance\n",
    "plt.figure(figsize=(15,5))\n",
    "plt.plot(winning_x_axis,winning_avg_FG['FG% Distance 0-3'],label='FG% 0-3 ft')\n",
    "plt.plot(winning_avg_FG['FG% Distance 3-10'],label='FG% 3-10 ft')\n",
    "plt.plot(winning_avg_FG['FG% Distance 10-16'], label='FG% 10-16 ft')\n",
    "plt.plot(winning_avg_FG['FG% Distance 16-3pt'], label='FG% 16 ft-3pt')\n",
    "plt.plot(winning_avg_FG['FG% Distance 3pt'], label='FG% 3pt')\n",
    "plt.title('Winning Team FGA% Average by Distance')\n",
    "plt.xlabel('Seasons')\n",
    "plt.ylabel('FG%')\n",
    "plt.legend()\n",
    "plt.show()"
   ]
  },
  {
   "cell_type": "markdown",
   "metadata": {},
   "source": [
    "By creating the plot, we are able to visualize and identify a gradual increase of field goal percentage for both shots taken within the distances of: 16 feet to the 3pt line and 3pt shots. We also find a noticeable decrease of field goal attempts for shots taken within the range of 3-10 feet. This visualization depicts the possibility that over the last 20 decades, NBA winning teams may have shifted their field goal attempts to further distances and decreased their likelihood of shooting at shorter distances."
   ]
  },
  {
   "cell_type": "markdown",
   "metadata": {},
   "source": [
    "#### Winning Team: Average Distance\n",
    "\n",
    "In order to determine the distinct differences in terms of distances for every shot made, we have to look at the average distance for every team. However, we are only going to be specifically looking at each winning team's average distance per shot made. By analyzing this data, we are able to determine whether the average distance increases over time. To obtain this data, we extracted the average distance for each winning team located in the team shooting csv file."
   ]
  },
  {
   "cell_type": "code",
   "execution_count": 45,
   "metadata": {},
   "outputs": [],
   "source": [
    "#Calculates the average distance for every winnning team from NBA Seasons: 2000 to 2018\n",
    "lakers_00_01_avg_distance = float(df_00_01TS['Unnamed: 5'][14])\n",
    "lakers_01_02_avg_distance = float(df_01_02TS['Unnamed: 5'][14])\n",
    "lakers_02_03_avg_distance = float(df_02_03TS['Unnamed: 5'][14])\n",
    "spurs_03_04_avg_distance = float(df_03_04TS['Unnamed: 5'][26])\n",
    "pistons_04_05_avg_distance = float(df_04_05TS['Unnamed: 5'][9])\n",
    "spurs_05_06_avg_distance = float(df_05_06TS['Unnamed: 5'][27])\n",
    "heat_06_07_avg_distance = float(df_06_07TS['Unnamed: 5'][16])\n",
    "spurs_07_08_avg_distance = float(df_07_08TS['Unnamed: 5'][27])\n",
    "celtics_08_09_avg_distance = float(df_08_09TS['Unnamed: 5'][3])\n",
    "lakers_09_10_avg_distance = float(df_09_10TS['Unnamed: 5'][14])\n",
    "lakers_10_11_avg_distance = float(df_10_11TS['Unnamed: 5'][14])\n",
    "mavericks_11_12_avg_distance = float(df_11_12TS['Unnamed: 5'][7])\n",
    "heat_12_13_avg_distance = float(df_12_13TS['Unnamed: 5'][17])\n",
    "heat_13_14_avg_distance = float(df_13_14TS['Unnamed: 5'][17])\n",
    "spurs_14_15_avg_distance = float(df_14_15TS['Unnamed: 5'][28])\n",
    "warriors_15_16_avg_distance = float(df_15_16TS['Unnamed: 5'][11])\n",
    "cavaliers_16_17_avg_distance = float(df_16_17TS['Unnamed: 5'][7])\n",
    "warriors_17_18_avg_distance = float(df_17_18TS['Unnamed: 5'][11])\n",
    "warriors_18_19_avg_distance = float(df_18_19TS['Unnamed: 5'][11])"
   ]
  },
  {
   "cell_type": "markdown",
   "metadata": {},
   "source": [
    "After gathering the average distance for every winning team, we organized the data into a new dataframe. This dataframe contains information about each winning team for every NBA season and contains the average distance for every winning team."
   ]
  },
  {
   "cell_type": "code",
   "execution_count": 46,
   "metadata": {},
   "outputs": [],
   "source": [
    "winning_avg_distance = {'Season':['2000-2001','2001-2002','2002-2003','2003-2004','2004-2005','2005-2006','2006-2007','2007-2008','2008-2009','2009-2010','2010-2011','2011-2012','2012-2013','2013-2014','2014-2015','2015-2016','2016-2017','2017-2018','2018-2019'],\n",
    "                       'Winning Team':['Los Angeles Lakers','Los Angeles Lakers','Los Angeles Lakers','San Antonio Spurs','Detroit Pistons','San Antonio Spurs','Miami Heat','San Antonio Spurs','Boston Celtics','Los Angeles Lakers','Los Angeles Lakers','Dallas Mavericks','Miami Heat','Miami Heat','San Antonio Spurs','Golden State Warriors','Cleveland Cavaliers','Golden State Warriors','Golden State Warriors'],\n",
    "                       'Average Distance':[lakers_00_01_avg_distance, lakers_01_02_avg_distance, lakers_02_03_avg_distance, spurs_03_04_avg_distance,pistons_04_05_avg_distance, spurs_05_06_avg_distance, heat_06_07_avg_distance, spurs_07_08_avg_distance, celtics_08_09_avg_distance, lakers_09_10_avg_distance, lakers_10_11_avg_distance, mavericks_11_12_avg_distance, heat_12_13_avg_distance , heat_13_14_avg_distance, spurs_14_15_avg_distance , warriors_15_16_avg_distance, cavaliers_16_17_avg_distance, warriors_17_18_avg_distance, warriors_18_19_avg_distance ]}\n",
    "winning_avg_distance = pd.DataFrame(winning_avg_distance) "
   ]
  },
  {
   "cell_type": "code",
   "execution_count": 47,
   "metadata": {},
   "outputs": [
    {
     "data": {
      "text/html": [
       "<div>\n",
       "<style scoped>\n",
       "    .dataframe tbody tr th:only-of-type {\n",
       "        vertical-align: middle;\n",
       "    }\n",
       "\n",
       "    .dataframe tbody tr th {\n",
       "        vertical-align: top;\n",
       "    }\n",
       "\n",
       "    .dataframe thead th {\n",
       "        text-align: right;\n",
       "    }\n",
       "</style>\n",
       "<table border=\"1\" class=\"dataframe\">\n",
       "  <thead>\n",
       "    <tr style=\"text-align: right;\">\n",
       "      <th></th>\n",
       "      <th>Season</th>\n",
       "      <th>Winning Team</th>\n",
       "      <th>Average Distance</th>\n",
       "    </tr>\n",
       "  </thead>\n",
       "  <tbody>\n",
       "    <tr>\n",
       "      <th>0</th>\n",
       "      <td>2000-2001</td>\n",
       "      <td>Los Angeles Lakers</td>\n",
       "      <td>11.9</td>\n",
       "    </tr>\n",
       "    <tr>\n",
       "      <th>1</th>\n",
       "      <td>2001-2002</td>\n",
       "      <td>Los Angeles Lakers</td>\n",
       "      <td>12.3</td>\n",
       "    </tr>\n",
       "    <tr>\n",
       "      <th>2</th>\n",
       "      <td>2002-2003</td>\n",
       "      <td>Los Angeles Lakers</td>\n",
       "      <td>11.9</td>\n",
       "    </tr>\n",
       "    <tr>\n",
       "      <th>...</th>\n",
       "      <td>...</td>\n",
       "      <td>...</td>\n",
       "      <td>...</td>\n",
       "    </tr>\n",
       "    <tr>\n",
       "      <th>16</th>\n",
       "      <td>2016-2017</td>\n",
       "      <td>Cleveland Cavaliers</td>\n",
       "      <td>14.4</td>\n",
       "    </tr>\n",
       "    <tr>\n",
       "      <th>17</th>\n",
       "      <td>2017-2018</td>\n",
       "      <td>Golden State Warriors</td>\n",
       "      <td>14.0</td>\n",
       "    </tr>\n",
       "    <tr>\n",
       "      <th>18</th>\n",
       "      <td>2018-2019</td>\n",
       "      <td>Golden State Warriors</td>\n",
       "      <td>15.2</td>\n",
       "    </tr>\n",
       "  </tbody>\n",
       "</table>\n",
       "<p>19 rows × 3 columns</p>\n",
       "</div>"
      ],
      "text/plain": [
       "       Season           Winning Team  Average Distance\n",
       "0   2000-2001     Los Angeles Lakers              11.9\n",
       "1   2001-2002     Los Angeles Lakers              12.3\n",
       "2   2002-2003     Los Angeles Lakers              11.9\n",
       "..        ...                    ...               ...\n",
       "16  2016-2017    Cleveland Cavaliers              14.4\n",
       "17  2017-2018  Golden State Warriors              14.0\n",
       "18  2018-2019  Golden State Warriors              15.2\n",
       "\n",
       "[19 rows x 3 columns]"
      ]
     },
     "execution_count": 47,
     "metadata": {},
     "output_type": "execute_result"
    }
   ],
   "source": [
    "winning_avg_distance"
   ]
  },
  {
   "cell_type": "markdown",
   "metadata": {},
   "source": [
    "By organizing the data, we are able to efficiently create a line plot that depicts the possible trends of how the winning team's average distance of a shot has changed over the last two decades. In the plot's x-axis, we have each season and on the y axis we have the average distance in feet."
   ]
  },
  {
   "cell_type": "code",
   "execution_count": 48,
   "metadata": {},
   "outputs": [
    {
     "data": {
      "image/png": "[encoded data removed]",
      "text/plain": [
       "<Figure size 1080x360 with 1 Axes>"
      ]
     },
     "metadata": {},
     "output_type": "display_data"
    }
   ],
   "source": [
    "plt.figure(figsize=(15,5))\n",
    "plt.plot(winning_x_axis,winning_avg_distance['Average Distance'],label='Distance (ft)')\n",
    "plt.title('Winning Team: Average Distance')\n",
    "plt.xlabel('Seasons')\n",
    "plt.ylabel('Average Distance (m)')\n",
    "plt.legend()\n",
    "plt.show()"
   ]
  },
  {
   "cell_type": "markdown",
   "metadata": {},
   "source": [
    "From the line plot we can gather that there is a cyclic behavior. Roughly every 3-5 years the winning team's average distance peaks, then decreases, and then creates a higher peak. Comparing both the 2000 season and 2018 season, you could tell that there is a significant increase in the winning team's average distance. This difference is roughly 3 feet. After analyzing this visualization, the evidence proposes that the winning team's average distance has significantly increased over the last 2 decades."
   ]
  },
  {
   "cell_type": "markdown",
   "metadata": {},
   "source": [
    "## Data Analysis II"
   ]
  },
  {
   "cell_type": "markdown",
   "metadata": {},
   "source": [
    "We then need to read in the datasets and clean the data.\n",
    "We can remove all of the columns we do not need so we are left with a dataframe that only consists of the team and the statistics of their 2P shots made, midrange shots made, and 3P shots made.\n",
    "Then, we need to rename the columns so they are readable and reset the indices in the dataframe to finish cleaning the data. The following cells read in the datasets and clean the data for the years 2000 to 2018."
   ]
  },
  {
   "cell_type": "code",
   "execution_count": 49,
   "metadata": {},
   "outputs": [],
   "source": [
    "df_2000 = pd.read_csv('00-01_team_shooting.csv')\n",
    "df_2000 = df_2000[['Unnamed: 1', 'Unnamed: 12', 'Unnamed: 15', 'Unnamed: 17']]\n",
    "df_2000.columns = ['Team', '% 2P Shots Made', '% Midrange Shots(10-16ft) Made', '% 3P Shots Made']\n",
    "df_2000 = df_2000.drop([0, 1])\n",
    "df_2000 = df_2000.reset_index(drop = True)"
   ]
  },
  {
   "cell_type": "code",
   "execution_count": 50,
   "metadata": {},
   "outputs": [],
   "source": [
    "df_2001 = pd.read_csv('01-02_team_shooting.csv')\n",
    "df_2001 = df_2001[['Unnamed: 1', 'Unnamed: 12', 'Unnamed: 15', 'Unnamed: 17']]\n",
    "df_2001.columns = ['Team', '% 2P Shots Made', '% Midrange Shots(10-16ft) Made', '% 3P Shots Made']\n",
    "df_2001 = df_2001.drop([0, 1])\n",
    "df_2001 = df_2001.reset_index(drop = True)"
   ]
  },
  {
   "cell_type": "code",
   "execution_count": 51,
   "metadata": {},
   "outputs": [],
   "source": [
    "df_2002 = pd.read_csv('02-03_team_shooting.csv')\n",
    "df_2002 = df_2002[['Unnamed: 1', 'Unnamed: 12', 'Unnamed: 15', 'Unnamed: 17']]\n",
    "df_2002.columns = ['Team', '% 2P Shots Made', '% Midrange Shots(10-16ft) Made', '% 3P Shots Made']\n",
    "df_2002 = df_2002.drop([0, 1])\n",
    "df_2002 = df_2002.reset_index(drop = True)"
   ]
  },
  {
   "cell_type": "code",
   "execution_count": 52,
   "metadata": {},
   "outputs": [],
   "source": [
    "df_2003 = pd.read_csv('03-04_team_shooting.csv')\n",
    "df_2003 = df_2003[['Unnamed: 1', 'Unnamed: 12', 'Unnamed: 15', 'Unnamed: 17']]\n",
    "df_2003.columns = ['Team', '% 2P Shots Made', '% Midrange Shots(10-16ft) Made', '% 3P Shots Made']\n",
    "df_2003 = df_2003.drop([0, 1])\n",
    "df_2003 = df_2003.reset_index(drop = True)"
   ]
  },
  {
   "cell_type": "code",
   "execution_count": 53,
   "metadata": {},
   "outputs": [],
   "source": [
    "df_2004 = pd.read_csv('04-05_team_shooting.csv')\n",
    "df_2004 = df_2004[['Unnamed: 1', 'Unnamed: 12', 'Unnamed: 15', 'Unnamed: 17']]\n",
    "df_2004.columns = ['Team', '% 2P Shots Made', '% Midrange Shots(10-16ft) Made', '% 3P Shots Made']\n",
    "df_2004 = df_2004.drop([0, 1])\n",
    "df_2004 = df_2004.reset_index(drop = True)"
   ]
  },
  {
   "cell_type": "code",
   "execution_count": 54,
   "metadata": {},
   "outputs": [],
   "source": [
    "df_2005 = pd.read_csv('05-06_team_shooting.csv')\n",
    "df_2005 = df_2005[['Unnamed: 1', 'Unnamed: 12', 'Unnamed: 15', 'Unnamed: 17']]\n",
    "df_2005.columns = ['Team', '% 2P Shots Made', '% Midrange Shots(10-16ft) Made', '% 3P Shots Made']\n",
    "df_2005 = df_2005.drop([0, 1])\n",
    "df_2005 = df_2005.reset_index(drop = True)"
   ]
  },
  {
   "cell_type": "code",
   "execution_count": 55,
   "metadata": {},
   "outputs": [],
   "source": [
    "df_2006 = pd.read_csv('06-07_team_shooting.csv')\n",
    "df_2006 = df_2006[['Unnamed: 1', 'Unnamed: 12', 'Unnamed: 15', 'Unnamed: 17']]\n",
    "df_2006.columns = ['Team', '% 2P Shots Made', '% Midrange Shots(10-16ft) Made', '% 3P Shots Made']\n",
    "df_2006 = df_2006.drop([0, 1])\n",
    "df_2006 = df_2006.reset_index(drop = True)"
   ]
  },
  {
   "cell_type": "code",
   "execution_count": 56,
   "metadata": {},
   "outputs": [],
   "source": [
    "df_2007 = pd.read_csv('07-08_team_shooting.csv')\n",
    "df_2007 = df_2007[['Unnamed: 1', 'Unnamed: 12', 'Unnamed: 15', 'Unnamed: 17']]\n",
    "df_2007.columns = ['Team', '% 2P Shots Made', '% Midrange Shots(10-16ft) Made', '% 3P Shots Made']\n",
    "df_2007 = df_2007.drop([0, 1])\n",
    "df_2007 = df_2007.reset_index(drop = True)"
   ]
  },
  {
   "cell_type": "code",
   "execution_count": 57,
   "metadata": {},
   "outputs": [],
   "source": [
    "df_2008 = pd.read_csv('08-09_team_shooting.csv')\n",
    "df_2008 = df_2008[['Unnamed: 1', 'Unnamed: 12', 'Unnamed: 15', 'Unnamed: 17']]\n",
    "df_2008.columns = ['Team', '% 2P Shots Made', '% Midrange Shots(10-16ft) Made', '% 3P Shots Made']\n",
    "df_2008 = df_2008.drop([0, 1])\n",
    "df_2008 = df_2008.reset_index(drop = True)"
   ]
  },
  {
   "cell_type": "code",
   "execution_count": 58,
   "metadata": {},
   "outputs": [],
   "source": [
    "df_2009 = pd.read_csv('09-10_team_shooting.csv')\n",
    "df_2009 = df_2009[['Unnamed: 1', 'Unnamed: 12', 'Unnamed: 15', 'Unnamed: 17']]\n",
    "df_2009.columns = ['Team', '% 2P Shots Made', '% Midrange Shots(10-16ft) Made', '% 3P Shots Made']\n",
    "df_2009 = df_2009.drop([0, 1])\n",
    "df_2009 = df_2009.reset_index(drop = True)"
   ]
  },
  {
   "cell_type": "code",
   "execution_count": 59,
   "metadata": {},
   "outputs": [],
   "source": [
    "df_2010 = pd.read_csv('10-11_team_shooting.csv')\n",
    "df_2010 = df_2010[['Unnamed: 1', 'Unnamed: 12', 'Unnamed: 15', 'Unnamed: 17']]\n",
    "df_2010.columns = ['Team', '% 2P Shots Made', '% Midrange Shots(10-16ft) Made', '% 3P Shots Made']\n",
    "df_2010 = df_2010.drop([0, 1])\n",
    "df_2010 = df_2010.reset_index(drop = True)"
   ]
  },
  {
   "cell_type": "code",
   "execution_count": 60,
   "metadata": {},
   "outputs": [],
   "source": [
    "df_2011 = pd.read_csv('11-12_team_shooting.csv')\n",
    "df_2011 = df_2011[['Unnamed: 1', 'Unnamed: 12', 'Unnamed: 15', 'Unnamed: 17']]\n",
    "df_2011.columns = ['Team', '% 2P Shots Made', '% Midrange Shots(10-16ft) Made', '% 3P Shots Made']\n",
    "df_2011 = df_2011.drop([0, 1])\n",
    "df_2011 = df_2011.reset_index(drop = True)"
   ]
  },
  {
   "cell_type": "code",
   "execution_count": 61,
   "metadata": {},
   "outputs": [],
   "source": [
    "df_2012 = pd.read_csv('12-13_team_shooting.csv')\n",
    "df_2012 = df_2012[['Unnamed: 1', 'Unnamed: 12', 'Unnamed: 15', 'Unnamed: 17']]\n",
    "df_2012.columns = ['Team', '% 2P Shots Made', '% Midrange Shots(10-16ft) Made', '% 3P Shots Made']\n",
    "df_2012 = df_2012.drop([0, 1])\n",
    "df_2012 = df_2012.reset_index(drop = True)"
   ]
  },
  {
   "cell_type": "code",
   "execution_count": 62,
   "metadata": {},
   "outputs": [],
   "source": [
    "df_2013 = pd.read_csv('13-14_team_shooting.csv')\n",
    "df_2013 = df_2013[['Unnamed: 1', 'Unnamed: 12', 'Unnamed: 15', 'Unnamed: 17']]\n",
    "df_2013.columns = ['Team', '% 2P Shots Made', '% Midrange Shots(10-16ft) Made', '% 3P Shots Made']\n",
    "df_2013 = df_2013.drop([0, 1])\n",
    "df_2013 = df_2013.reset_index(drop = True)"
   ]
  },
  {
   "cell_type": "code",
   "execution_count": 63,
   "metadata": {},
   "outputs": [],
   "source": [
    "df_2014 = pd.read_csv('14-15_team_shooting.csv')\n",
    "df_2014 = df_2014[['Unnamed: 1', 'Unnamed: 12', 'Unnamed: 15', 'Unnamed: 17']]\n",
    "df_2014.columns = ['Team', '% 2P Shots Made', '% Midrange Shots(10-16ft) Made', '% 3P Shots Made']\n",
    "df_2014 = df_2014.drop([0, 1])\n",
    "df_2014 = df_2014.reset_index(drop = True)"
   ]
  },
  {
   "cell_type": "code",
   "execution_count": 64,
   "metadata": {},
   "outputs": [],
   "source": [
    "df_2015 = pd.read_csv('15-16_team_shooting.csv')\n",
    "df_2015 = df_2015[['Unnamed: 1', 'Unnamed: 12', 'Unnamed: 15', 'Unnamed: 17']]\n",
    "df_2015.columns = ['Team', '% 2P Shots Made', '% Midrange Shots(10-16ft) Made', '% 3P Shots Made']\n",
    "df_2015 = df_2015.drop([0, 1])\n",
    "df_2015 = df_2015.reset_index(drop = True)"
   ]
  },
  {
   "cell_type": "code",
   "execution_count": 65,
   "metadata": {},
   "outputs": [],
   "source": [
    "df_2016 = pd.read_csv('16-17_team_shooting.csv')\n",
    "df_2016 = df_2016[['Unnamed: 1', 'Unnamed: 12', 'Unnamed: 15', 'Unnamed: 17']]\n",
    "df_2016.columns = ['Team', '% 2P Shots Made', '% Midrange Shots(10-16ft) Made', '% 3P Shots Made']\n",
    "df_2016 = df_2016.drop([0, 1])\n",
    "df_2016 = df_2016.reset_index(drop = True)"
   ]
  },
  {
   "cell_type": "code",
   "execution_count": 66,
   "metadata": {},
   "outputs": [],
   "source": [
    "df_2017 = pd.read_csv('17-18_team_shooting.csv')\n",
    "df_2017 = df_2017[['Unnamed: 1', 'Unnamed: 12', 'Unnamed: 15', 'Unnamed: 17']]\n",
    "df_2017.columns = ['Team', '% 2P Shots Made', '% Midrange Shots(10-16ft) Made', '% 3P Shots Made']\n",
    "df_2017 = df_2017.drop([0, 1])\n",
    "df_2017 = df_2017.reset_index(drop = True)"
   ]
  },
  {
   "cell_type": "code",
   "execution_count": 67,
   "metadata": {},
   "outputs": [],
   "source": [
    "df_2018 = pd.read_csv('18-19_team_shooting.csv')\n",
    "df_2018 = df_2018[['Unnamed: 1', 'Unnamed: 12', 'Unnamed: 15', 'Unnamed: 17']]\n",
    "df_2018.columns = ['Team', '% 2P Shots Made', '% Midrange Shots(10-16ft) Made', '% 3P Shots Made']\n",
    "df_2018 = df_2018.drop([0, 1])\n",
    "df_2018 = df_2018.reset_index(drop = True)"
   ]
  },
  {
   "cell_type": "markdown",
   "metadata": {},
   "source": [
    "An example of the dataframes is as follows (taken from the 2018 data):"
   ]
  },
  {
   "cell_type": "code",
   "execution_count": 68,
   "metadata": {},
   "outputs": [
    {
     "data": {
      "text/html": [
       "<div>\n",
       "<style scoped>\n",
       "    .dataframe tbody tr th:only-of-type {\n",
       "        vertical-align: middle;\n",
       "    }\n",
       "\n",
       "    .dataframe tbody tr th {\n",
       "        vertical-align: top;\n",
       "    }\n",
       "\n",
       "    .dataframe thead th {\n",
       "        text-align: right;\n",
       "    }\n",
       "</style>\n",
       "<table border=\"1\" class=\"dataframe\">\n",
       "  <thead>\n",
       "    <tr style=\"text-align: right;\">\n",
       "      <th></th>\n",
       "      <th>Team</th>\n",
       "      <th>% 2P Shots Made</th>\n",
       "      <th>% Midrange Shots(10-16ft) Made</th>\n",
       "      <th>% 3P Shots Made</th>\n",
       "    </tr>\n",
       "  </thead>\n",
       "  <tbody>\n",
       "    <tr>\n",
       "      <th>0</th>\n",
       "      <td>Atlanta Hawks</td>\n",
       "      <td>.518</td>\n",
       "      <td>.374</td>\n",
       "      <td>.352</td>\n",
       "    </tr>\n",
       "    <tr>\n",
       "      <th>1</th>\n",
       "      <td>Boston Celtics*</td>\n",
       "      <td>.527</td>\n",
       "      <td>.448</td>\n",
       "      <td>.365</td>\n",
       "    </tr>\n",
       "    <tr>\n",
       "      <th>2</th>\n",
       "      <td>Brooklyn Nets*</td>\n",
       "      <td>.513</td>\n",
       "      <td>.423</td>\n",
       "      <td>.353</td>\n",
       "    </tr>\n",
       "    <tr>\n",
       "      <th>...</th>\n",
       "      <td>...</td>\n",
       "      <td>...</td>\n",
       "      <td>...</td>\n",
       "      <td>...</td>\n",
       "    </tr>\n",
       "    <tr>\n",
       "      <th>28</th>\n",
       "      <td>Utah Jazz*</td>\n",
       "      <td>.541</td>\n",
       "      <td>.398</td>\n",
       "      <td>.356</td>\n",
       "    </tr>\n",
       "    <tr>\n",
       "      <th>29</th>\n",
       "      <td>Washington Wizards</td>\n",
       "      <td>.543</td>\n",
       "      <td>.386</td>\n",
       "      <td>.341</td>\n",
       "    </tr>\n",
       "    <tr>\n",
       "      <th>30</th>\n",
       "      <td>League Average</td>\n",
       "      <td>.520</td>\n",
       "      <td>.413</td>\n",
       "      <td>.355</td>\n",
       "    </tr>\n",
       "  </tbody>\n",
       "</table>\n",
       "<p>31 rows × 4 columns</p>\n",
       "</div>"
      ],
      "text/plain": [
       "                  Team % 2P Shots Made % Midrange Shots(10-16ft) Made  \\\n",
       "0        Atlanta Hawks            .518                           .374   \n",
       "1      Boston Celtics*            .527                           .448   \n",
       "2       Brooklyn Nets*            .513                           .423   \n",
       "..                 ...             ...                            ...   \n",
       "28          Utah Jazz*            .541                           .398   \n",
       "29  Washington Wizards            .543                           .386   \n",
       "30      League Average            .520                           .413   \n",
       "\n",
       "   % 3P Shots Made  \n",
       "0             .352  \n",
       "1             .365  \n",
       "2             .353  \n",
       "..             ...  \n",
       "28            .356  \n",
       "29            .341  \n",
       "30            .355  \n",
       "\n",
       "[31 rows x 4 columns]"
      ]
     },
     "execution_count": 68,
     "metadata": {},
     "output_type": "execute_result"
    }
   ],
   "source": [
    "df_2018"
   ]
  },
  {
   "cell_type": "markdown",
   "metadata": {},
   "source": [
    "Now we are ready to plot the data and run linear regressions to visually determine if there is a trend in the data over the past two decades. "
   ]
  },
  {
   "cell_type": "code",
   "execution_count": 69,
   "metadata": {},
   "outputs": [
    {
     "name": "stderr",
     "output_type": "stream",
     "text": [
      "'c' argument looks like a single numeric RGB or RGBA sequence, which should be avoided as value-mapping will have precedence in case its length matches with 'x' & 'y'.  Please use a 2-D array with a single row if you really want to specify the same RGB or RGBA value for all points.\n"
     ]
    },
    {
     "data": {
      "text/plain": [
       "[<matplotlib.lines.Line2D at 0x29666098160>]"
      ]
     },
     "execution_count": 69,
     "metadata": {},
     "output_type": "execute_result"
    },
    {
     "data": {
      "image/png": "[encoded data removed]",
      "text/plain": [
       "<Figure size 432x288 with 1 Axes>"
      ]
     },
     "metadata": {},
     "output_type": "display_data"
    }
   ],
   "source": [
    "#add the years to the dataframe and set the shot values as numeric values\n",
    "percent2PData = {'year' : [2000, 2001, 2002, 2003, 2004, 2005, 2006, 2007, 2008, 2009, 2010, 2011, 2012, 2013, 2014, 2015, 2016, 2017, 2018],\n",
    "                 '% 2P Shots Made': [df_2000.iloc[-1]['% 2P Shots Made'], df_2001.iloc[-1]['% 2P Shots Made'], df_2002.iloc[-1]['% 2P Shots Made'], df_2003.iloc[-1]['% 2P Shots Made'], df_2004.iloc[-1]['% 2P Shots Made'], df_2005.iloc[-1]['% 2P Shots Made'], df_2006.iloc[-1]['% 2P Shots Made'], df_2007.iloc[-1]['% 2P Shots Made'], df_2008.iloc[-1]['% 2P Shots Made'], df_2009.iloc[-1]['% 2P Shots Made'], df_2010.iloc[-1]['% 2P Shots Made'], df_2011.iloc[-1]['% 2P Shots Made'], df_2012.iloc[-1]['% 2P Shots Made'], df_2013.iloc[-1]['% 2P Shots Made'], df_2014.iloc[-1]['% 2P Shots Made'], df_2015.iloc[-1]['% 2P Shots Made'], df_2016.iloc[-1]['% 2P Shots Made'], df_2017.iloc[-1]['% 2P Shots Made'], df_2018.iloc[-1]['% 2P Shots Made']],}\n",
    "df_2PMade = pd.DataFrame(percent2PData)\n",
    "df_2PMade['% 2P Shots Made'] = pd.to_numeric(df_2PMade['% 2P Shots Made'])\n",
    "\n",
    "#plot points\n",
    "df_2PMade.plot.scatter(x='year', y='% 2P Shots Made')\n",
    "\n",
    "#plot regression line\n",
    "a1, b1 = np.polyfit(df_2PMade['year'], df_2PMade['% 2P Shots Made'], 1)\n",
    "x1 = np.arange(2000, 2019, 1)\n",
    "y1 = a1 * x1 + b1\n",
    "plt.plot(x1, y1, color='red')"
   ]
  },
  {
   "cell_type": "markdown",
   "metadata": {},
   "source": [
    "There appears to be a strong trend of the data as linear regression shows a promising upward trend, but we will need to perform more tests to be sure."
   ]
  },
  {
   "cell_type": "code",
   "execution_count": 70,
   "metadata": {},
   "outputs": [
    {
     "name": "stderr",
     "output_type": "stream",
     "text": [
      "'c' argument looks like a single numeric RGB or RGBA sequence, which should be avoided as value-mapping will have precedence in case its length matches with 'x' & 'y'.  Please use a 2-D array with a single row if you really want to specify the same RGB or RGBA value for all points.\n"
     ]
    },
    {
     "data": {
      "text/plain": [
       "[<matplotlib.lines.Line2D at 0x296660f46a0>]"
      ]
     },
     "execution_count": 70,
     "metadata": {},
     "output_type": "execute_result"
    },
    {
     "data": {
      "image/png": "[encoded data removed]",
      "text/plain": [
       "<Figure size 432x288 with 1 Axes>"
      ]
     },
     "metadata": {},
     "output_type": "display_data"
    }
   ],
   "source": [
    "#add the years to the dataframe and set the shot values as numeric values\n",
    "percentMidrangeData = {'year' : [2000, 2001, 2002, 2003, 2004, 2005, 2006, 2007, 2008, 2009, 2010, 2011, 2012, 2013, 2014, 2015, 2016, 2017, 2018],\n",
    "                       '% Midrange Shots Made': [df_2000.iloc[-1]['% Midrange Shots(10-16ft) Made'], df_2001.iloc[-1]['% Midrange Shots(10-16ft) Made'], df_2002.iloc[-1]['% Midrange Shots(10-16ft) Made'], df_2003.iloc[-1]['% Midrange Shots(10-16ft) Made'], df_2004.iloc[-1]['% Midrange Shots(10-16ft) Made'], df_2005.iloc[-1]['% Midrange Shots(10-16ft) Made'], df_2006.iloc[-1]['% Midrange Shots(10-16ft) Made'], df_2007.iloc[-1]['% Midrange Shots(10-16ft) Made'], df_2008.iloc[-1]['% Midrange Shots(10-16ft) Made'], df_2009.iloc[-1]['% Midrange Shots(10-16ft) Made'], df_2010.iloc[-1]['% Midrange Shots(10-16ft) Made'], df_2011.iloc[-1]['% Midrange Shots(10-16ft) Made'], df_2012.iloc[-1]['% Midrange Shots(10-16ft) Made'], df_2013.iloc[-1]['% Midrange Shots(10-16ft) Made'], df_2014.iloc[-1]['% Midrange Shots(10-16ft) Made'], df_2015.iloc[-1]['% Midrange Shots(10-16ft) Made'], df_2016.iloc[-1]['% Midrange Shots(10-16ft) Made'], df_2017.iloc[-1]['% Midrange Shots(10-16ft) Made'], df_2018.iloc[-1]['% Midrange Shots(10-16ft) Made']]}\n",
    "df_MidrangeMade = pd.DataFrame(percentMidrangeData)\n",
    "df_MidrangeMade['% Midrange Shots Made'] = pd.to_numeric(df_MidrangeMade['% Midrange Shots Made'])\n",
    "\n",
    "#plot points\n",
    "df_MidrangeMade.plot.scatter(x='year', y='% Midrange Shots Made')\n",
    "\n",
    "#plot regression line\n",
    "a2, b2 = np.polyfit(df_MidrangeMade['year'], df_MidrangeMade['% Midrange Shots Made'], 1)\n",
    "x2 = np.arange(2000, 2019, 1)\n",
    "y2 = a2 * x2 + b2\n",
    "plt.plot(x2, y2, color='red')"
   ]
  },
  {
   "cell_type": "markdown",
   "metadata": {},
   "source": [
    "Similar to the graph for 2P shots, there appears to be a strong trend of the data as linear regression shows a promising upward trend, but we will need to perform more tests to be sure."
   ]
  },
  {
   "cell_type": "code",
   "execution_count": 71,
   "metadata": {},
   "outputs": [
    {
     "name": "stderr",
     "output_type": "stream",
     "text": [
      "'c' argument looks like a single numeric RGB or RGBA sequence, which should be avoided as value-mapping will have precedence in case its length matches with 'x' & 'y'.  Please use a 2-D array with a single row if you really want to specify the same RGB or RGBA value for all points.\n"
     ]
    },
    {
     "data": {
      "text/plain": [
       "[<matplotlib.lines.Line2D at 0x2966633b5c0>]"
      ]
     },
     "execution_count": 71,
     "metadata": {},
     "output_type": "execute_result"
    },
    {
     "data": {
      "image/png": "[encoded data removed]",
      "text/plain": [
       "<Figure size 432x288 with 1 Axes>"
      ]
     },
     "metadata": {},
     "output_type": "display_data"
    }
   ],
   "source": [
    "#add the years to the dataframe and set the shot values as numeric values\n",
    "percent3PData = {'year' : [2000, 2001, 2002, 2003, 2004, 2005, 2006, 2007, 2008, 2009, 2010, 2011, 2012, 2013, 2014, 2015, 2016, 2017, 2018],\n",
    "                 '% 3P Shots Made': [df_2000.iloc[-1]['% 3P Shots Made'], df_2001.iloc[-1]['% 3P Shots Made'], df_2002.iloc[-1]['% 3P Shots Made'], df_2003.iloc[-1]['% 3P Shots Made'], df_2004.iloc[-1]['% 3P Shots Made'], df_2005.iloc[-1]['% 3P Shots Made'], df_2006.iloc[-1]['% 3P Shots Made'], df_2007.iloc[-1]['% 3P Shots Made'], df_2008.iloc[-1]['% 3P Shots Made'], df_2009.iloc[-1]['% 3P Shots Made'], df_2010.iloc[-1]['% 3P Shots Made'], df_2011.iloc[-1]['% 3P Shots Made'], df_2012.iloc[-1]['% 3P Shots Made'], df_2013.iloc[-1]['% 3P Shots Made'], df_2014.iloc[-1]['% 3P Shots Made'], df_2015.iloc[-1]['% 3P Shots Made'], df_2016.iloc[-1]['% 3P Shots Made'], df_2017.iloc[-1]['% 3P Shots Made'], df_2018.iloc[-1]['% 3P Shots Made']]}\n",
    "df_3PMade = pd.DataFrame(percent3PData)\n",
    "df_3PMade['% 3P Shots Made'] = pd.to_numeric(df_3PMade['% 3P Shots Made'])\n",
    "\n",
    "#plot points\n",
    "df_3PMade.plot.scatter(x='year', y='% 3P Shots Made')\n",
    "\n",
    "#plot regression line\n",
    "a3, b3 = np.polyfit(df_3PMade['year'], df_3PMade['% 3P Shots Made'], 1)\n",
    "x3 = np.arange(2000, 2019, 1)\n",
    "y3 = a3 * x3 + b3\n",
    "plt.plot(x3, y3, color='red')"
   ]
  },
  {
   "cell_type": "markdown",
   "metadata": {},
   "source": [
    "Unlike the graphs for 2P shots and midrange shots, there does not appears to be a strong trend of the data. There does seem to be a slight favor for increasing percentage of 3P shots made, but we will need to perform more tests to be sure."
   ]
  },
  {
   "cell_type": "code",
   "execution_count": 72,
   "metadata": {},
   "outputs": [
    {
     "data": {
      "text/plain": [
       "<matplotlib.legend.Legend at 0x296663a4f28>"
      ]
     },
     "execution_count": 72,
     "metadata": {},
     "output_type": "execute_result"
    },
    {
     "data": {
      "image/png": "[encoded data removed]",
      "text/plain": [
       "<Figure size 432x288 with 1 Axes>"
      ]
     },
     "metadata": {},
     "output_type": "display_data"
    }
   ],
   "source": [
    "#plot all three data sets in one graph\n",
    "plt.plot( df_2PMade['year'], df_2PMade['% 2P Shots Made'], marker = 'o', color = 'red', label = '2P')\n",
    "plt.plot( df_MidrangeMade['year'], df_MidrangeMade['% Midrange Shots Made'], marker='o', color = 'green', label = 'Midrange')\n",
    "plt.plot( df_3PMade['year'], df_3PMade['% 3P Shots Made'], marker='o', color = 'blue', label = '3P')\n",
    "plt.legend()"
   ]
  },
  {
   "cell_type": "markdown",
   "metadata": {},
   "source": [
    "Overlaying all of the data from the three different distances from the hoop more easily illustrates the changes within the distances and well as the relative change between the distances. It appears as if the 2P shots distances are experiencing the largest change, with an increase in shots made as time progresses. The midrange shot also seems to have an increase in popularity in term of shots made as it begins at 0.385% in 2000 and becomes 0.413% in 2018. However, the 3P shot experiences the least amount of change out of the three shot distances - it changes only from 0.354% made in 2000 to 0.355% made in 2018. \n",
    "\n",
    "We can run a ttest on the separate three separate data for 2P, midrange, and 3P shots to determine whether or not there is a significant difference between the average percent of shots made in the past versus the current time. We will split the data into two groups for all of the shot distances: one group ranging from 2000 to 2009 and another group ranging from 2010 to 2018."
   ]
  },
  {
   "cell_type": "code",
   "execution_count": 73,
   "metadata": {},
   "outputs": [
    {
     "data": {
      "text/plain": [
       "Ttest_indResult(statistic=-3.2673799697014316, pvalue=0.004538563383850424)"
      ]
     },
     "execution_count": 73,
     "metadata": {},
     "output_type": "execute_result"
    }
   ],
   "source": [
    "#run a ttest on the first half versus second half of data\n",
    "ttest_ind(df_2PMade['% 2P Shots Made'][:10], df_2PMade['% 2P Shots Made'][10:])"
   ]
  },
  {
   "cell_type": "markdown",
   "metadata": {},
   "source": [
    "From the pvalue of 0.00454 (0.00454 < 0.01) we can see that there is a significant difference in the data. The percentage of 2P shots made has increased since the past two decades."
   ]
  },
  {
   "cell_type": "code",
   "execution_count": 74,
   "metadata": {},
   "outputs": [
    {
     "data": {
      "text/plain": [
       "Ttest_indResult(statistic=-4.031273157655874, pvalue=0.0008664749888591843)"
      ]
     },
     "execution_count": 74,
     "metadata": {},
     "output_type": "execute_result"
    }
   ],
   "source": [
    "#run a ttest on the first half versus second half of data\n",
    "ttest_ind(df_MidrangeMade['% Midrange Shots Made'][:10], df_MidrangeMade['% Midrange Shots Made'][10:])"
   ]
  },
  {
   "cell_type": "markdown",
   "metadata": {},
   "source": [
    "From the pvalue of 0.000866 (0.000866 < 0.01) we can see that there is a significant difference in the data. The percentage of midrange shots made has increased since the past two decades."
   ]
  },
  {
   "cell_type": "code",
   "execution_count": 75,
   "metadata": {},
   "outputs": [
    {
     "data": {
      "text/plain": [
       "Ttest_indResult(statistic=-0.04634341436471329, pvalue=0.9635765983017327)"
      ]
     },
     "execution_count": 75,
     "metadata": {},
     "output_type": "execute_result"
    }
   ],
   "source": [
    "#run a ttest on the first half versus second half of data\n",
    "ttest_ind(df_3PMade['% 3P Shots Made'][:10], df_3PMade['% 3P Shots Made'][10:])"
   ]
  },
  {
   "cell_type": "markdown",
   "metadata": {},
   "source": [
    "From the pvalue of 0.964 (0.964 > 0.01) we can see that there is NOT a significant difference in the data. The percentage of 3P shots made has stayed fairly consistent the past two decades. However, this does not indicate that the number of 3P shots ATTEMPTED has stayed consistent over the years and this ran analysis for the number of 3P shots attempted."
   ]
  },
  {
   "cell_type": "markdown",
   "metadata": {},
   "source": [
    "## Data Analysis III"
   ]
  },
  {
   "cell_type": "markdown",
   "metadata": {},
   "source": [
    "In this final analysis, we will focus on the relationships between both the percentages and the raw number of three-pointers when compared to the amount of three-pointers attempted, made, and all shots attempted.\n",
    "\n",
    "Before any analysis can be done, we need to set some parameters in order for the following cells to display correctly."
   ]
  },
  {
   "cell_type": "code",
   "execution_count": 76,
   "metadata": {},
   "outputs": [],
   "source": [
    "# Configure libraries\n",
    "# The seaborn library makes plots look nicer\n",
    "sns.set()\n",
    "sns.set_context('talk')\n",
    "\n",
    "# Round decimals when displaying DataFrames\n",
    "pd.set_option('precision', 2)"
   ]
  },
  {
   "cell_type": "markdown",
   "metadata": {},
   "source": [
    "Here, we can preview what the data looks like, in order to get a good idea at what columns we want to focus in on."
   ]
  },
  {
   "cell_type": "code",
   "execution_count": 77,
   "metadata": {},
   "outputs": [
    {
     "data": {
      "text/html": [
       "<div>\n",
       "<style scoped>\n",
       "    .dataframe tbody tr th:only-of-type {\n",
       "        vertical-align: middle;\n",
       "    }\n",
       "\n",
       "    .dataframe tbody tr th {\n",
       "        vertical-align: top;\n",
       "    }\n",
       "\n",
       "    .dataframe thead th {\n",
       "        text-align: right;\n",
       "    }\n",
       "</style>\n",
       "<table border=\"1\" class=\"dataframe\">\n",
       "  <thead>\n",
       "    <tr style=\"text-align: right;\">\n",
       "      <th></th>\n",
       "      <th>Rk</th>\n",
       "      <th>Team</th>\n",
       "      <th>G</th>\n",
       "      <th>MP</th>\n",
       "      <th>...</th>\n",
       "      <th>BLK</th>\n",
       "      <th>TOV</th>\n",
       "      <th>PF</th>\n",
       "      <th>PTS</th>\n",
       "    </tr>\n",
       "  </thead>\n",
       "  <tbody>\n",
       "    <tr>\n",
       "      <th>0</th>\n",
       "      <td>1.0</td>\n",
       "      <td>Sacramento Kings*</td>\n",
       "      <td>82</td>\n",
       "      <td>20080</td>\n",
       "      <td>...</td>\n",
       "      <td>432</td>\n",
       "      <td>1221</td>\n",
       "      <td>1596</td>\n",
       "      <td>8343</td>\n",
       "    </tr>\n",
       "    <tr>\n",
       "      <th>1</th>\n",
       "      <td>2.0</td>\n",
       "      <td>Milwaukee Bucks*</td>\n",
       "      <td>82</td>\n",
       "      <td>19780</td>\n",
       "      <td>...</td>\n",
       "      <td>386</td>\n",
       "      <td>1123</td>\n",
       "      <td>1928</td>\n",
       "      <td>8260</td>\n",
       "    </tr>\n",
       "    <tr>\n",
       "      <th>2</th>\n",
       "      <td>3.0</td>\n",
       "      <td>Los Angeles Lakers*</td>\n",
       "      <td>82</td>\n",
       "      <td>19905</td>\n",
       "      <td>...</td>\n",
       "      <td>490</td>\n",
       "      <td>1184</td>\n",
       "      <td>1872</td>\n",
       "      <td>8251</td>\n",
       "    </tr>\n",
       "    <tr>\n",
       "      <th>...</th>\n",
       "      <td>...</td>\n",
       "      <td>...</td>\n",
       "      <td>...</td>\n",
       "      <td>...</td>\n",
       "      <td>...</td>\n",
       "      <td>...</td>\n",
       "      <td>...</td>\n",
       "      <td>...</td>\n",
       "      <td>...</td>\n",
       "    </tr>\n",
       "    <tr>\n",
       "      <th>27</th>\n",
       "      <td>28.0</td>\n",
       "      <td>New York Knicks*</td>\n",
       "      <td>82</td>\n",
       "      <td>19905</td>\n",
       "      <td>...</td>\n",
       "      <td>346</td>\n",
       "      <td>1189</td>\n",
       "      <td>1863</td>\n",
       "      <td>7275</td>\n",
       "    </tr>\n",
       "    <tr>\n",
       "      <th>28</th>\n",
       "      <td>29.0</td>\n",
       "      <td>Chicago Bulls</td>\n",
       "      <td>82</td>\n",
       "      <td>19855</td>\n",
       "      <td>...</td>\n",
       "      <td>379</td>\n",
       "      <td>1292</td>\n",
       "      <td>1902</td>\n",
       "      <td>7181</td>\n",
       "    </tr>\n",
       "    <tr>\n",
       "      <th>29</th>\n",
       "      <td>NaN</td>\n",
       "      <td>League Average</td>\n",
       "      <td>82</td>\n",
       "      <td>19846</td>\n",
       "      <td>...</td>\n",
       "      <td>431</td>\n",
       "      <td>1234</td>\n",
       "      <td>1833</td>\n",
       "      <td>7774\\</td>\n",
       "    </tr>\n",
       "  </tbody>\n",
       "</table>\n",
       "<p>30 rows × 25 columns</p>\n",
       "</div>"
      ],
      "text/plain": [
       "      Rk                 Team   G     MP  ...    BLK   TOV    PF    PTS\n",
       "0    1.0    Sacramento Kings*  82  20080  ...    432  1221  1596   8343\n",
       "1    2.0     Milwaukee Bucks*  82  19780  ...    386  1123  1928   8260\n",
       "2    3.0  Los Angeles Lakers*  82  19905  ...    490  1184  1872   8251\n",
       "..   ...                  ...  ..    ...  ...    ...   ...   ...    ...\n",
       "27  28.0     New York Knicks*  82  19905  ...    346  1189  1863   7275\n",
       "28  29.0        Chicago Bulls  82  19855  ...    379  1292  1902   7181\n",
       "29   NaN       League Average  82  19846  ...    431  1234  1833  7774\\\n",
       "\n",
       "[30 rows x 25 columns]"
      ]
     },
     "execution_count": 77,
     "metadata": {},
     "output_type": "execute_result"
    }
   ],
   "source": [
    "df_test = pd.read_csv(\"00-01_team_stats.csv\")\n",
    "df_test"
   ]
  },
  {
   "cell_type": "markdown",
   "metadata": {},
   "source": [
    "That is quite alot of data. For the purposes of looking at the league generally, we will only need the league averages from each DataFrame. Here, we will extract the League Average row from every single DataFrame."
   ]
  },
  {
   "cell_type": "code",
   "execution_count": 78,
   "metadata": {},
   "outputs": [
    {
     "data": {
      "text/html": [
       "<div>\n",
       "<style scoped>\n",
       "    .dataframe tbody tr th:only-of-type {\n",
       "        vertical-align: middle;\n",
       "    }\n",
       "\n",
       "    .dataframe tbody tr th {\n",
       "        vertical-align: top;\n",
       "    }\n",
       "\n",
       "    .dataframe thead th {\n",
       "        text-align: right;\n",
       "    }\n",
       "</style>\n",
       "<table border=\"1\" class=\"dataframe\">\n",
       "  <thead>\n",
       "    <tr style=\"text-align: right;\">\n",
       "      <th></th>\n",
       "      <th>Rk</th>\n",
       "      <th>Team</th>\n",
       "      <th>G</th>\n",
       "      <th>MP</th>\n",
       "      <th>...</th>\n",
       "      <th>BLK</th>\n",
       "      <th>TOV</th>\n",
       "      <th>PF</th>\n",
       "      <th>PTS</th>\n",
       "    </tr>\n",
       "  </thead>\n",
       "  <tbody>\n",
       "    <tr>\n",
       "      <th>29</th>\n",
       "      <td>NaN</td>\n",
       "      <td>League Average</td>\n",
       "      <td>82</td>\n",
       "      <td>19846</td>\n",
       "      <td>...</td>\n",
       "      <td>431</td>\n",
       "      <td>1234</td>\n",
       "      <td>1833</td>\n",
       "      <td>7774\\</td>\n",
       "    </tr>\n",
       "  </tbody>\n",
       "</table>\n",
       "<p>1 rows × 25 columns</p>\n",
       "</div>"
      ],
      "text/plain": [
       "    Rk            Team   G     MP  ...    BLK   TOV    PF    PTS\n",
       "29 NaN  League Average  82  19846  ...    431  1234  1833  7774\\\n",
       "\n",
       "[1 rows x 25 columns]"
      ]
     },
     "execution_count": 78,
     "metadata": {},
     "output_type": "execute_result"
    }
   ],
   "source": [
    "#Load in all the dataframes for the years 2000-2019\n",
    "#Use the tail function in order to only grab the league average (the only row we are concerned with)\n",
    "df_0 = pd.read_csv(\"00-01_team_stats.csv\").tail(1);\n",
    "df_1 = pd.read_csv(\"01-02_team_stats.csv\").tail(1);\n",
    "df_2 = pd.read_csv(\"02-03_team_stats.csv\").tail(1);\n",
    "df_3 = pd.read_csv(\"03-04_team_stats.csv\").tail(1);\n",
    "df_4 = pd.read_csv(\"04-05_team_stats.csv\").tail(1);\n",
    "df_5 = pd.read_csv(\"05-06_team_stats.csv\").tail(1);\n",
    "df_6 = pd.read_csv(\"06-07_team_stats.csv\").tail(1);\n",
    "df_7 = pd.read_csv(\"07-08_team_stats.csv\").tail(1);\n",
    "df_8 = pd.read_csv(\"08-09_team_stats.csv\").tail(1);\n",
    "df_9 = pd.read_csv(\"09-10_team_stats.csv\").tail(1);\n",
    "df_10 = pd.read_csv(\"10-11_team_stats.csv\").tail(1);\n",
    "df_11 = pd.read_csv(\"11-12_team_stats.csv\").tail(1);\n",
    "df_12 = pd.read_csv(\"12-13_team_stats.csv\").tail(1);\n",
    "df_13 = pd.read_csv(\"13-14_team_stats.csv\").tail(1);\n",
    "df_14 = pd.read_csv(\"14-15_team_stats.csv\").tail(1);\n",
    "df_15 = pd.read_csv(\"15-16_team_stats.csv\").tail(1);\n",
    "df_16 = pd.read_csv(\"16-17_team_stats.csv\").tail(1);\n",
    "df_17 = pd.read_csv(\"17-18_team_stats.csv\").tail(1);\n",
    "df_18 = pd.read_csv(\"18-19_team_stats.csv\").tail(1);\n",
    "\n",
    "#Preview a dataframe to see what data is contained inside\n",
    "df_0"
   ]
  },
  {
   "cell_type": "markdown",
   "metadata": {},
   "source": [
    "So far, everything looks good! Rather than having the DataFrame's contain all the data, we now have isolated each DataFrame to only contain the information related to our analysis: League Average.\n",
    "\n",
    "The next step would be to get all of these into one cohesive DataFrame, thus allowing us to do analysis and create visualizations much easier with the tools we have. We will achieve this by creating a list of all the DataFrame names, and then concatenate them. One thing to also note is that in the above preview printout, it still has it's original index (29 since it was at the tail of a larger DataFrame). We can resolve this by setting the ignore_index flag to True."
   ]
  },
  {
   "cell_type": "code",
   "execution_count": 79,
   "metadata": {},
   "outputs": [
    {
     "data": {
      "text/html": [
       "<div>\n",
       "<style scoped>\n",
       "    .dataframe tbody tr th:only-of-type {\n",
       "        vertical-align: middle;\n",
       "    }\n",
       "\n",
       "    .dataframe tbody tr th {\n",
       "        vertical-align: top;\n",
       "    }\n",
       "\n",
       "    .dataframe thead th {\n",
       "        text-align: right;\n",
       "    }\n",
       "</style>\n",
       "<table border=\"1\" class=\"dataframe\">\n",
       "  <thead>\n",
       "    <tr style=\"text-align: right;\">\n",
       "      <th></th>\n",
       "      <th>Rk</th>\n",
       "      <th>Team</th>\n",
       "      <th>G</th>\n",
       "      <th>MP</th>\n",
       "      <th>...</th>\n",
       "      <th>BLK</th>\n",
       "      <th>TOV</th>\n",
       "      <th>PF</th>\n",
       "      <th>PTS</th>\n",
       "    </tr>\n",
       "  </thead>\n",
       "  <tbody>\n",
       "    <tr>\n",
       "      <th>0</th>\n",
       "      <td>NaN</td>\n",
       "      <td>League Average</td>\n",
       "      <td>82</td>\n",
       "      <td>19846</td>\n",
       "      <td>...</td>\n",
       "      <td>431</td>\n",
       "      <td>1234</td>\n",
       "      <td>1833</td>\n",
       "      <td>7774\\</td>\n",
       "    </tr>\n",
       "    <tr>\n",
       "      <th>1</th>\n",
       "      <td>NaN</td>\n",
       "      <td>League Average</td>\n",
       "      <td>82</td>\n",
       "      <td>19816</td>\n",
       "      <td>...</td>\n",
       "      <td>428</td>\n",
       "      <td>1186</td>\n",
       "      <td>1741</td>\n",
       "      <td>7829</td>\n",
       "    </tr>\n",
       "    <tr>\n",
       "      <th>2</th>\n",
       "      <td>NaN</td>\n",
       "      <td>League Average</td>\n",
       "      <td>82</td>\n",
       "      <td>19842</td>\n",
       "      <td>...</td>\n",
       "      <td>411</td>\n",
       "      <td>1223</td>\n",
       "      <td>1784</td>\n",
       "      <td>7797</td>\n",
       "    </tr>\n",
       "    <tr>\n",
       "      <th>...</th>\n",
       "      <td>...</td>\n",
       "      <td>...</td>\n",
       "      <td>...</td>\n",
       "      <td>...</td>\n",
       "      <td>...</td>\n",
       "      <td>...</td>\n",
       "      <td>...</td>\n",
       "      <td>...</td>\n",
       "      <td>...</td>\n",
       "    </tr>\n",
       "    <tr>\n",
       "      <th>16</th>\n",
       "      <td>NaN</td>\n",
       "      <td>League Average</td>\n",
       "      <td>82</td>\n",
       "      <td>19813</td>\n",
       "      <td>...</td>\n",
       "      <td>389</td>\n",
       "      <td>1144</td>\n",
       "      <td>1632</td>\n",
       "      <td>8658</td>\n",
       "    </tr>\n",
       "    <tr>\n",
       "      <th>17</th>\n",
       "      <td>NaN</td>\n",
       "      <td>League Average</td>\n",
       "      <td>82</td>\n",
       "      <td>19795</td>\n",
       "      <td>...</td>\n",
       "      <td>395</td>\n",
       "      <td>1170</td>\n",
       "      <td>1628</td>\n",
       "      <td>8719</td>\n",
       "    </tr>\n",
       "    <tr>\n",
       "      <th>18</th>\n",
       "      <td>NaN</td>\n",
       "      <td>League Average</td>\n",
       "      <td>82</td>\n",
       "      <td>19815</td>\n",
       "      <td>...</td>\n",
       "      <td>406</td>\n",
       "      <td>1155</td>\n",
       "      <td>1714</td>\n",
       "      <td>9119</td>\n",
       "    </tr>\n",
       "  </tbody>\n",
       "</table>\n",
       "<p>19 rows × 25 columns</p>\n",
       "</div>"
      ],
      "text/plain": [
       "    Rk            Team   G     MP  ...    BLK   TOV    PF    PTS\n",
       "0  NaN  League Average  82  19846  ...    431  1234  1833  7774\\\n",
       "1  NaN  League Average  82  19816  ...    428  1186  1741   7829\n",
       "2  NaN  League Average  82  19842  ...    411  1223  1784   7797\n",
       "..  ..             ...  ..    ...  ...    ...   ...   ...    ...\n",
       "16 NaN  League Average  82  19813  ...    389  1144  1632   8658\n",
       "17 NaN  League Average  82  19795  ...    395  1170  1628   8719\n",
       "18 NaN  League Average  82  19815  ...    406  1155  1714   9119\n",
       "\n",
       "[19 rows x 25 columns]"
      ]
     },
     "execution_count": 79,
     "metadata": {},
     "output_type": "execute_result"
    }
   ],
   "source": [
    "#Concatenate all the dataframes together to make one cohesive dataframe\n",
    "list_of_names = [df_0, df_1, df_2, df_3, df_4, df_5, df_6, df_7, df_8, df_9, df_10, df_11, df_12, df_13, df_14, df_15, df_16, df_17, df_18]\n",
    "league_averages = pd.concat(list_of_names,ignore_index=True)\n",
    "\n",
    "#Print it out to make sure everything looks good\n",
    "league_averages"
   ]
  },
  {
   "cell_type": "markdown",
   "metadata": {},
   "source": [
    "Everything looks good so far. However, by doing all this data cleaning, we have lost some information: what year pertains to what data. Here we will add in a new column to represent this information."
   ]
  },
  {
   "cell_type": "code",
   "execution_count": 80,
   "metadata": {},
   "outputs": [
    {
     "data": {
      "text/html": [
       "<div>\n",
       "<style scoped>\n",
       "    .dataframe tbody tr th:only-of-type {\n",
       "        vertical-align: middle;\n",
       "    }\n",
       "\n",
       "    .dataframe tbody tr th {\n",
       "        vertical-align: top;\n",
       "    }\n",
       "\n",
       "    .dataframe thead th {\n",
       "        text-align: right;\n",
       "    }\n",
       "</style>\n",
       "<table border=\"1\" class=\"dataframe\">\n",
       "  <thead>\n",
       "    <tr style=\"text-align: right;\">\n",
       "      <th></th>\n",
       "      <th>Year</th>\n",
       "      <th>Rk</th>\n",
       "      <th>Team</th>\n",
       "      <th>G</th>\n",
       "      <th>...</th>\n",
       "      <th>BLK</th>\n",
       "      <th>TOV</th>\n",
       "      <th>PF</th>\n",
       "      <th>PTS</th>\n",
       "    </tr>\n",
       "  </thead>\n",
       "  <tbody>\n",
       "    <tr>\n",
       "      <th>0</th>\n",
       "      <td>00-01</td>\n",
       "      <td>NaN</td>\n",
       "      <td>League Average</td>\n",
       "      <td>82</td>\n",
       "      <td>...</td>\n",
       "      <td>431</td>\n",
       "      <td>1234</td>\n",
       "      <td>1833</td>\n",
       "      <td>7774\\</td>\n",
       "    </tr>\n",
       "    <tr>\n",
       "      <th>1</th>\n",
       "      <td>01-02</td>\n",
       "      <td>NaN</td>\n",
       "      <td>League Average</td>\n",
       "      <td>82</td>\n",
       "      <td>...</td>\n",
       "      <td>428</td>\n",
       "      <td>1186</td>\n",
       "      <td>1741</td>\n",
       "      <td>7829</td>\n",
       "    </tr>\n",
       "    <tr>\n",
       "      <th>2</th>\n",
       "      <td>02-03</td>\n",
       "      <td>NaN</td>\n",
       "      <td>League Average</td>\n",
       "      <td>82</td>\n",
       "      <td>...</td>\n",
       "      <td>411</td>\n",
       "      <td>1223</td>\n",
       "      <td>1784</td>\n",
       "      <td>7797</td>\n",
       "    </tr>\n",
       "    <tr>\n",
       "      <th>...</th>\n",
       "      <td>...</td>\n",
       "      <td>...</td>\n",
       "      <td>...</td>\n",
       "      <td>...</td>\n",
       "      <td>...</td>\n",
       "      <td>...</td>\n",
       "      <td>...</td>\n",
       "      <td>...</td>\n",
       "      <td>...</td>\n",
       "    </tr>\n",
       "    <tr>\n",
       "      <th>16</th>\n",
       "      <td>16-17</td>\n",
       "      <td>NaN</td>\n",
       "      <td>League Average</td>\n",
       "      <td>82</td>\n",
       "      <td>...</td>\n",
       "      <td>389</td>\n",
       "      <td>1144</td>\n",
       "      <td>1632</td>\n",
       "      <td>8658</td>\n",
       "    </tr>\n",
       "    <tr>\n",
       "      <th>17</th>\n",
       "      <td>17-18</td>\n",
       "      <td>NaN</td>\n",
       "      <td>League Average</td>\n",
       "      <td>82</td>\n",
       "      <td>...</td>\n",
       "      <td>395</td>\n",
       "      <td>1170</td>\n",
       "      <td>1628</td>\n",
       "      <td>8719</td>\n",
       "    </tr>\n",
       "    <tr>\n",
       "      <th>18</th>\n",
       "      <td>18-19</td>\n",
       "      <td>NaN</td>\n",
       "      <td>League Average</td>\n",
       "      <td>82</td>\n",
       "      <td>...</td>\n",
       "      <td>406</td>\n",
       "      <td>1155</td>\n",
       "      <td>1714</td>\n",
       "      <td>9119</td>\n",
       "    </tr>\n",
       "  </tbody>\n",
       "</table>\n",
       "<p>19 rows × 26 columns</p>\n",
       "</div>"
      ],
      "text/plain": [
       "     Year  Rk            Team   G  ...    BLK   TOV    PF    PTS\n",
       "0   00-01 NaN  League Average  82  ...    431  1234  1833  7774\\\n",
       "1   01-02 NaN  League Average  82  ...    428  1186  1741   7829\n",
       "2   02-03 NaN  League Average  82  ...    411  1223  1784   7797\n",
       "..    ...  ..             ...  ..  ...    ...   ...   ...    ...\n",
       "16  16-17 NaN  League Average  82  ...    389  1144  1632   8658\n",
       "17  17-18 NaN  League Average  82  ...    395  1170  1628   8719\n",
       "18  18-19 NaN  League Average  82  ...    406  1155  1714   9119\n",
       "\n",
       "[19 rows x 26 columns]"
      ]
     },
     "execution_count": 80,
     "metadata": {},
     "output_type": "execute_result"
    }
   ],
   "source": [
    "# Insert a row that will let us know what year the league average is for.\n",
    "league_years = [\"00-01\", \"01-02\", \"02-03\", \"03-04\", \"04-05\", \"05-06\", \"06-07\", \"07-08\", \"08-09\", \"09-10\", \"10-11\", \"11-12\", \"12-13\", \"13-14\", \"14-15\", \"15-16\", \"16-17\", \"17-18\", \"18-19\"]\n",
    "league_averages.insert(loc=0, column=\"Year\", value=league_years)\n",
    "\n",
    "#Print it out to see the difference\n",
    "league_averages"
   ]
  },
  {
   "cell_type": "markdown",
   "metadata": {},
   "source": [
    "Once again, there is quite abit of data. We will narrow this down to columns we need for our analysis."
   ]
  },
  {
   "cell_type": "code",
   "execution_count": 81,
   "metadata": {},
   "outputs": [
    {
     "data": {
      "text/html": [
       "<div>\n",
       "<style scoped>\n",
       "    .dataframe tbody tr th:only-of-type {\n",
       "        vertical-align: middle;\n",
       "    }\n",
       "\n",
       "    .dataframe tbody tr th {\n",
       "        vertical-align: top;\n",
       "    }\n",
       "\n",
       "    .dataframe thead th {\n",
       "        text-align: right;\n",
       "    }\n",
       "</style>\n",
       "<table border=\"1\" class=\"dataframe\">\n",
       "  <thead>\n",
       "    <tr style=\"text-align: right;\">\n",
       "      <th></th>\n",
       "      <th>Year</th>\n",
       "      <th>FG</th>\n",
       "      <th>FGA</th>\n",
       "      <th>FG%</th>\n",
       "      <th>3P</th>\n",
       "      <th>3PA</th>\n",
       "      <th>3P%</th>\n",
       "    </tr>\n",
       "  </thead>\n",
       "  <tbody>\n",
       "    <tr>\n",
       "      <th>0</th>\n",
       "      <td>00-01</td>\n",
       "      <td>2926</td>\n",
       "      <td>6609</td>\n",
       "      <td>0.44</td>\n",
       "      <td>397</td>\n",
       "      <td>1124</td>\n",
       "      <td>0.35</td>\n",
       "    </tr>\n",
       "    <tr>\n",
       "      <th>1</th>\n",
       "      <td>01-02</td>\n",
       "      <td>2966</td>\n",
       "      <td>6664</td>\n",
       "      <td>0.45</td>\n",
       "      <td>428</td>\n",
       "      <td>1209</td>\n",
       "      <td>0.35</td>\n",
       "    </tr>\n",
       "    <tr>\n",
       "      <th>2</th>\n",
       "      <td>02-03</td>\n",
       "      <td>2929</td>\n",
       "      <td>6624</td>\n",
       "      <td>0.44</td>\n",
       "      <td>421</td>\n",
       "      <td>1204</td>\n",
       "      <td>0.35</td>\n",
       "    </tr>\n",
       "    <tr>\n",
       "      <th>...</th>\n",
       "      <td>...</td>\n",
       "      <td>...</td>\n",
       "      <td>...</td>\n",
       "      <td>...</td>\n",
       "      <td>...</td>\n",
       "      <td>...</td>\n",
       "      <td>...</td>\n",
       "    </tr>\n",
       "    <tr>\n",
       "      <th>16</th>\n",
       "      <td>16-17</td>\n",
       "      <td>3202</td>\n",
       "      <td>7004</td>\n",
       "      <td>0.46</td>\n",
       "      <td>792</td>\n",
       "      <td>2214</td>\n",
       "      <td>0.36</td>\n",
       "    </tr>\n",
       "    <tr>\n",
       "      <th>17</th>\n",
       "      <td>17-18</td>\n",
       "      <td>3248</td>\n",
       "      <td>7057</td>\n",
       "      <td>0.46</td>\n",
       "      <td>860</td>\n",
       "      <td>2378</td>\n",
       "      <td>0.36</td>\n",
       "    </tr>\n",
       "    <tr>\n",
       "      <th>18</th>\n",
       "      <td>18-19</td>\n",
       "      <td>3369</td>\n",
       "      <td>7315</td>\n",
       "      <td>0.46</td>\n",
       "      <td>932</td>\n",
       "      <td>2625</td>\n",
       "      <td>0.35</td>\n",
       "    </tr>\n",
       "  </tbody>\n",
       "</table>\n",
       "<p>19 rows × 7 columns</p>\n",
       "</div>"
      ],
      "text/plain": [
       "     Year    FG   FGA   FG%   3P   3PA   3P%\n",
       "0   00-01  2926  6609  0.44  397  1124  0.35\n",
       "1   01-02  2966  6664  0.45  428  1209  0.35\n",
       "2   02-03  2929  6624  0.44  421  1204  0.35\n",
       "..    ...   ...   ...   ...  ...   ...   ...\n",
       "16  16-17  3202  7004  0.46  792  2214  0.36\n",
       "17  17-18  3248  7057  0.46  860  2378  0.36\n",
       "18  18-19  3369  7315  0.46  932  2625  0.35\n",
       "\n",
       "[19 rows x 7 columns]"
      ]
     },
     "execution_count": 81,
     "metadata": {},
     "output_type": "execute_result"
    }
   ],
   "source": [
    "#Keep just the relevant rows by making a subselection.\n",
    "league_averages = league_averages[[\"Year\", \"FG\", \"FGA\", \"FG%\", \"3P\", \"3PA\", \"3P%\"]]\n",
    "\n",
    "#Print out to check what the DataFrame now looks like\n",
    "league_averages"
   ]
  },
  {
   "cell_type": "markdown",
   "metadata": {},
   "source": [
    "A Legend For All The Abbreviations Used - \n",
    "\n",
    "FG: Shots made overall\n",
    "\n",
    "FGA: Shots attempted overall\n",
    "\n",
    "FG%: Percentage of shots made overall vs. shots attempted\n",
    "\n",
    "\n",
    "3P: Three pointer shots made\n",
    "\n",
    "3PA: Three pointers attempted\n",
    "\n",
    "3P%: Percetange of three pointer shots vs. three pointers attempted.\n",
    "\n",
    "\n",
    "That means 3P% represents the percentage of three pointers from three pointers attempted, NOT the percentage of three pointers vs. all shots attempted.\n",
    "\n",
    "With that clarified, we can now start with some visualizations. Here is the percentage of three-pointers made vs. all three-pointers attempted."
   ]
  },
  {
   "cell_type": "code",
   "execution_count": 82,
   "metadata": {},
   "outputs": [
    {
     "data": {
      "image/png": "[encoded data removed]",
      "text/plain": [
       "<Figure size 432x288 with 1 Axes>"
      ]
     },
     "metadata": {},
     "output_type": "display_data"
    }
   ],
   "source": [
    "#gca = get current axis\n",
    "ax = plt.gca()\n",
    "ax.set_ylim([0,1])\n",
    "\n",
    "#Change size of plot labels\n",
    "ax.xaxis.set_tick_params(labelsize=12)\n",
    "ax.yaxis.set_tick_params(labelsize=12)\n",
    "\n",
    "#Set the axis labels\n",
    "plt.xlabel('Years', fontsize=18)\n",
    "plt.ylabel('Percentage of Three-Pointers Made', fontsize=12)\n",
    "\n",
    "#Plot using MatPlotLib\n",
    "league_averages.plot(kind='line',x='Year',y='3P%',ax=ax,marker = \"o\")\n",
    "\n",
    "#Set the title, legend\n",
    "plt.title('Percentage of Three-Pointers Made vs. Three-Pointers Attempted', fontsize=20)\n",
    "plt.legend(['Percentage of Three-Pointers Made Per Year'], loc='upper right', fontsize=10)\n",
    "\n",
    "#Set range for ticks\n",
    "plt.xticks(np.arange(0,19), league_averages[\"Year\"])\n",
    "plt.xticks(rotation=60)\n",
    "\n",
    "plt.show()"
   ]
  },
  {
   "cell_type": "markdown",
   "metadata": {},
   "source": [
    "Here, we can see that the amount of three point shots made vs. the amount of three points shots attempted stays extremely consistent. This can be even more supported by taking a look at just that column.\n",
    "\n",
    "This result is not surprising, as this conclusion closely follows the conclusion found in our second analysis. There is no large increase in player's ability to shoot three-pointers."
   ]
  },
  {
   "cell_type": "code",
   "execution_count": 83,
   "metadata": {},
   "outputs": [
    {
     "data": {
      "text/html": [
       "<div>\n",
       "<style scoped>\n",
       "    .dataframe tbody tr th:only-of-type {\n",
       "        vertical-align: middle;\n",
       "    }\n",
       "\n",
       "    .dataframe tbody tr th {\n",
       "        vertical-align: top;\n",
       "    }\n",
       "\n",
       "    .dataframe thead th {\n",
       "        text-align: right;\n",
       "    }\n",
       "</style>\n",
       "<table border=\"1\" class=\"dataframe\">\n",
       "  <thead>\n",
       "    <tr style=\"text-align: right;\">\n",
       "      <th></th>\n",
       "      <th>Year</th>\n",
       "      <th>FG</th>\n",
       "      <th>FGA</th>\n",
       "      <th>FG%</th>\n",
       "      <th>3P</th>\n",
       "      <th>3PA</th>\n",
       "      <th>3P%</th>\n",
       "    </tr>\n",
       "  </thead>\n",
       "  <tbody>\n",
       "    <tr>\n",
       "      <th>0</th>\n",
       "      <td>00-01</td>\n",
       "      <td>2926</td>\n",
       "      <td>6609</td>\n",
       "      <td>0.44</td>\n",
       "      <td>397</td>\n",
       "      <td>1124</td>\n",
       "      <td>0.35</td>\n",
       "    </tr>\n",
       "    <tr>\n",
       "      <th>1</th>\n",
       "      <td>01-02</td>\n",
       "      <td>2966</td>\n",
       "      <td>6664</td>\n",
       "      <td>0.45</td>\n",
       "      <td>428</td>\n",
       "      <td>1209</td>\n",
       "      <td>0.35</td>\n",
       "    </tr>\n",
       "    <tr>\n",
       "      <th>2</th>\n",
       "      <td>02-03</td>\n",
       "      <td>2929</td>\n",
       "      <td>6624</td>\n",
       "      <td>0.44</td>\n",
       "      <td>421</td>\n",
       "      <td>1204</td>\n",
       "      <td>0.35</td>\n",
       "    </tr>\n",
       "    <tr>\n",
       "      <th>...</th>\n",
       "      <td>...</td>\n",
       "      <td>...</td>\n",
       "      <td>...</td>\n",
       "      <td>...</td>\n",
       "      <td>...</td>\n",
       "      <td>...</td>\n",
       "      <td>...</td>\n",
       "    </tr>\n",
       "    <tr>\n",
       "      <th>16</th>\n",
       "      <td>16-17</td>\n",
       "      <td>3202</td>\n",
       "      <td>7004</td>\n",
       "      <td>0.46</td>\n",
       "      <td>792</td>\n",
       "      <td>2214</td>\n",
       "      <td>0.36</td>\n",
       "    </tr>\n",
       "    <tr>\n",
       "      <th>17</th>\n",
       "      <td>17-18</td>\n",
       "      <td>3248</td>\n",
       "      <td>7057</td>\n",
       "      <td>0.46</td>\n",
       "      <td>860</td>\n",
       "      <td>2378</td>\n",
       "      <td>0.36</td>\n",
       "    </tr>\n",
       "    <tr>\n",
       "      <th>18</th>\n",
       "      <td>18-19</td>\n",
       "      <td>3369</td>\n",
       "      <td>7315</td>\n",
       "      <td>0.46</td>\n",
       "      <td>932</td>\n",
       "      <td>2625</td>\n",
       "      <td>0.35</td>\n",
       "    </tr>\n",
       "  </tbody>\n",
       "</table>\n",
       "<p>19 rows × 7 columns</p>\n",
       "</div>"
      ],
      "text/plain": [
       "     Year    FG   FGA   FG%   3P   3PA   3P%\n",
       "0   00-01  2926  6609  0.44  397  1124  0.35\n",
       "1   01-02  2966  6664  0.45  428  1209  0.35\n",
       "2   02-03  2929  6624  0.44  421  1204  0.35\n",
       "..    ...   ...   ...   ...  ...   ...   ...\n",
       "16  16-17  3202  7004  0.46  792  2214  0.36\n",
       "17  17-18  3248  7057  0.46  860  2378  0.36\n",
       "18  18-19  3369  7315  0.46  932  2625  0.35\n",
       "\n",
       "[19 rows x 7 columns]"
      ]
     },
     "execution_count": 83,
     "metadata": {},
     "output_type": "execute_result"
    }
   ],
   "source": [
    "league_averages"
   ]
  },
  {
   "cell_type": "markdown",
   "metadata": {},
   "source": [
    "So, let's try to approach this from a different angle. Let's see, for example, the percentage of three point shots made vs. the total number of shots made."
   ]
  },
  {
   "cell_type": "code",
   "execution_count": 84,
   "metadata": {},
   "outputs": [
    {
     "name": "stderr",
     "output_type": "stream",
     "text": [
      "C:\\Users\\Eric\\Anaconda3\\lib\\site-packages\\ipykernel_launcher.py:1: SettingWithCopyWarning: \n",
      "A value is trying to be set on a copy of a slice from a DataFrame.\n",
      "Try using .loc[row_indexer,col_indexer] = value instead\n",
      "\n",
      "See the caveats in the documentation: http://pandas.pydata.org/pandas-docs/stable/indexing.html#indexing-view-versus-copy\n",
      "  \"\"\"Entry point for launching an IPython kernel.\n"
     ]
    },
    {
     "data": {
      "text/html": [
       "<div>\n",
       "<style scoped>\n",
       "    .dataframe tbody tr th:only-of-type {\n",
       "        vertical-align: middle;\n",
       "    }\n",
       "\n",
       "    .dataframe tbody tr th {\n",
       "        vertical-align: top;\n",
       "    }\n",
       "\n",
       "    .dataframe thead th {\n",
       "        text-align: right;\n",
       "    }\n",
       "</style>\n",
       "<table border=\"1\" class=\"dataframe\">\n",
       "  <thead>\n",
       "    <tr style=\"text-align: right;\">\n",
       "      <th></th>\n",
       "      <th>Year</th>\n",
       "      <th>FG</th>\n",
       "      <th>FGA</th>\n",
       "      <th>FG%</th>\n",
       "      <th>3P</th>\n",
       "      <th>3PA</th>\n",
       "      <th>3P%</th>\n",
       "      <th>3P%/Total FG</th>\n",
       "    </tr>\n",
       "  </thead>\n",
       "  <tbody>\n",
       "    <tr>\n",
       "      <th>0</th>\n",
       "      <td>00-01</td>\n",
       "      <td>2926</td>\n",
       "      <td>6609</td>\n",
       "      <td>0.44</td>\n",
       "      <td>397</td>\n",
       "      <td>1124</td>\n",
       "      <td>0.35</td>\n",
       "      <td>0.14</td>\n",
       "    </tr>\n",
       "    <tr>\n",
       "      <th>1</th>\n",
       "      <td>01-02</td>\n",
       "      <td>2966</td>\n",
       "      <td>6664</td>\n",
       "      <td>0.45</td>\n",
       "      <td>428</td>\n",
       "      <td>1209</td>\n",
       "      <td>0.35</td>\n",
       "      <td>0.14</td>\n",
       "    </tr>\n",
       "    <tr>\n",
       "      <th>2</th>\n",
       "      <td>02-03</td>\n",
       "      <td>2929</td>\n",
       "      <td>6624</td>\n",
       "      <td>0.44</td>\n",
       "      <td>421</td>\n",
       "      <td>1204</td>\n",
       "      <td>0.35</td>\n",
       "      <td>0.14</td>\n",
       "    </tr>\n",
       "    <tr>\n",
       "      <th>...</th>\n",
       "      <td>...</td>\n",
       "      <td>...</td>\n",
       "      <td>...</td>\n",
       "      <td>...</td>\n",
       "      <td>...</td>\n",
       "      <td>...</td>\n",
       "      <td>...</td>\n",
       "      <td>...</td>\n",
       "    </tr>\n",
       "    <tr>\n",
       "      <th>16</th>\n",
       "      <td>16-17</td>\n",
       "      <td>3202</td>\n",
       "      <td>7004</td>\n",
       "      <td>0.46</td>\n",
       "      <td>792</td>\n",
       "      <td>2214</td>\n",
       "      <td>0.36</td>\n",
       "      <td>0.25</td>\n",
       "    </tr>\n",
       "    <tr>\n",
       "      <th>17</th>\n",
       "      <td>17-18</td>\n",
       "      <td>3248</td>\n",
       "      <td>7057</td>\n",
       "      <td>0.46</td>\n",
       "      <td>860</td>\n",
       "      <td>2378</td>\n",
       "      <td>0.36</td>\n",
       "      <td>0.26</td>\n",
       "    </tr>\n",
       "    <tr>\n",
       "      <th>18</th>\n",
       "      <td>18-19</td>\n",
       "      <td>3369</td>\n",
       "      <td>7315</td>\n",
       "      <td>0.46</td>\n",
       "      <td>932</td>\n",
       "      <td>2625</td>\n",
       "      <td>0.35</td>\n",
       "      <td>0.28</td>\n",
       "    </tr>\n",
       "  </tbody>\n",
       "</table>\n",
       "<p>19 rows × 8 columns</p>\n",
       "</div>"
      ],
      "text/plain": [
       "     Year    FG   FGA   FG%   3P   3PA   3P%  3P%/Total FG\n",
       "0   00-01  2926  6609  0.44  397  1124  0.35          0.14\n",
       "1   01-02  2966  6664  0.45  428  1209  0.35          0.14\n",
       "2   02-03  2929  6624  0.44  421  1204  0.35          0.14\n",
       "..    ...   ...   ...   ...  ...   ...   ...           ...\n",
       "16  16-17  3202  7004  0.46  792  2214  0.36          0.25\n",
       "17  17-18  3248  7057  0.46  860  2378  0.36          0.26\n",
       "18  18-19  3369  7315  0.46  932  2625  0.35          0.28\n",
       "\n",
       "[19 rows x 8 columns]"
      ]
     },
     "execution_count": 84,
     "metadata": {},
     "output_type": "execute_result"
    }
   ],
   "source": [
    "league_averages['3P%/Total FG'] = league_averages[\"3P\"] / league_averages[\"FG\"]\n",
    "league_averages = league_averages.copy()\n",
    "league_averages"
   ]
  },
  {
   "cell_type": "code",
   "execution_count": 85,
   "metadata": {},
   "outputs": [
    {
     "data": {
      "image/png": "[encoded data removed]",
      "text/plain": [
       "<Figure size 432x288 with 1 Axes>"
      ]
     },
     "metadata": {},
     "output_type": "display_data"
    }
   ],
   "source": [
    "#gca = get current axis\n",
    "ax = plt.gca()\n",
    "ax.set_ylim([0,1])\n",
    "\n",
    "#Change size of plot labels\n",
    "ax.xaxis.set_tick_params(labelsize=12)\n",
    "ax.yaxis.set_tick_params(labelsize=12)\n",
    "\n",
    "#Set the axis labels\n",
    "plt.xlabel('Years', fontsize=18)\n",
    "plt.ylabel('Percentage of Three-Pointers Made', fontsize=12)\n",
    "\n",
    "#Plot using MatPlotLib\n",
    "league_averages.plot(kind='line',x='Year',y='3P%/Total FG',ax=ax,marker = \"o\")\n",
    "\n",
    "#Set the title, legend\n",
    "plt.title('Percentage of Three-Pointers Made vs. All Shots Made', fontsize=20)\n",
    "plt.legend(['Percentage of Three-Pointers Made Per Year'], loc='upper right', fontsize=10)\n",
    "\n",
    "\n",
    "#Set range for ticks\n",
    "plt.xticks(np.arange(0,19), league_averages[\"Year\"])\n",
    "plt.xticks(rotation=60)\n",
    "\n",
    "plt.show()"
   ]
  },
  {
   "cell_type": "markdown",
   "metadata": {},
   "source": [
    "Here, we can observe a slight increase in three pointers made per year in comparison to all shots made. Once again, this result is not surprising, as statistically speaking, the higher raw frequency of an event occuring, the higher percentages it is likely to yield (i.e if you flip a coin 10 times vs 100 times you will get closer to the 50/50 split in a higher number of trials).\n",
    "\n",
    "However, in order to answer our question, we should also look at the percentage of 3-pointers attempted against all shots attempted, as our analysis is not so focused on whether players have been able to make more three-pointers, but simply that more three-pointers are being attempted."
   ]
  },
  {
   "cell_type": "code",
   "execution_count": 86,
   "metadata": {},
   "outputs": [
    {
     "data": {
      "text/html": [
       "<div>\n",
       "<style scoped>\n",
       "    .dataframe tbody tr th:only-of-type {\n",
       "        vertical-align: middle;\n",
       "    }\n",
       "\n",
       "    .dataframe tbody tr th {\n",
       "        vertical-align: top;\n",
       "    }\n",
       "\n",
       "    .dataframe thead th {\n",
       "        text-align: right;\n",
       "    }\n",
       "</style>\n",
       "<table border=\"1\" class=\"dataframe\">\n",
       "  <thead>\n",
       "    <tr style=\"text-align: right;\">\n",
       "      <th></th>\n",
       "      <th>Year</th>\n",
       "      <th>FG</th>\n",
       "      <th>FGA</th>\n",
       "      <th>FG%</th>\n",
       "      <th>...</th>\n",
       "      <th>3PA</th>\n",
       "      <th>3P%</th>\n",
       "      <th>3P%/Total FG</th>\n",
       "      <th>3PA/Total FGA</th>\n",
       "    </tr>\n",
       "  </thead>\n",
       "  <tbody>\n",
       "    <tr>\n",
       "      <th>0</th>\n",
       "      <td>00-01</td>\n",
       "      <td>2926</td>\n",
       "      <td>6609</td>\n",
       "      <td>0.44</td>\n",
       "      <td>...</td>\n",
       "      <td>1124</td>\n",
       "      <td>0.35</td>\n",
       "      <td>0.14</td>\n",
       "      <td>0.17</td>\n",
       "    </tr>\n",
       "    <tr>\n",
       "      <th>1</th>\n",
       "      <td>01-02</td>\n",
       "      <td>2966</td>\n",
       "      <td>6664</td>\n",
       "      <td>0.45</td>\n",
       "      <td>...</td>\n",
       "      <td>1209</td>\n",
       "      <td>0.35</td>\n",
       "      <td>0.14</td>\n",
       "      <td>0.18</td>\n",
       "    </tr>\n",
       "    <tr>\n",
       "      <th>2</th>\n",
       "      <td>02-03</td>\n",
       "      <td>2929</td>\n",
       "      <td>6624</td>\n",
       "      <td>0.44</td>\n",
       "      <td>...</td>\n",
       "      <td>1204</td>\n",
       "      <td>0.35</td>\n",
       "      <td>0.14</td>\n",
       "      <td>0.18</td>\n",
       "    </tr>\n",
       "    <tr>\n",
       "      <th>...</th>\n",
       "      <td>...</td>\n",
       "      <td>...</td>\n",
       "      <td>...</td>\n",
       "      <td>...</td>\n",
       "      <td>...</td>\n",
       "      <td>...</td>\n",
       "      <td>...</td>\n",
       "      <td>...</td>\n",
       "      <td>...</td>\n",
       "    </tr>\n",
       "    <tr>\n",
       "      <th>16</th>\n",
       "      <td>16-17</td>\n",
       "      <td>3202</td>\n",
       "      <td>7004</td>\n",
       "      <td>0.46</td>\n",
       "      <td>...</td>\n",
       "      <td>2214</td>\n",
       "      <td>0.36</td>\n",
       "      <td>0.25</td>\n",
       "      <td>0.32</td>\n",
       "    </tr>\n",
       "    <tr>\n",
       "      <th>17</th>\n",
       "      <td>17-18</td>\n",
       "      <td>3248</td>\n",
       "      <td>7057</td>\n",
       "      <td>0.46</td>\n",
       "      <td>...</td>\n",
       "      <td>2378</td>\n",
       "      <td>0.36</td>\n",
       "      <td>0.26</td>\n",
       "      <td>0.34</td>\n",
       "    </tr>\n",
       "    <tr>\n",
       "      <th>18</th>\n",
       "      <td>18-19</td>\n",
       "      <td>3369</td>\n",
       "      <td>7315</td>\n",
       "      <td>0.46</td>\n",
       "      <td>...</td>\n",
       "      <td>2625</td>\n",
       "      <td>0.35</td>\n",
       "      <td>0.28</td>\n",
       "      <td>0.36</td>\n",
       "    </tr>\n",
       "  </tbody>\n",
       "</table>\n",
       "<p>19 rows × 9 columns</p>\n",
       "</div>"
      ],
      "text/plain": [
       "     Year    FG   FGA   FG%      ...         3PA   3P%  3P%/Total FG  \\\n",
       "0   00-01  2926  6609  0.44      ...        1124  0.35          0.14   \n",
       "1   01-02  2966  6664  0.45      ...        1209  0.35          0.14   \n",
       "2   02-03  2929  6624  0.44      ...        1204  0.35          0.14   \n",
       "..    ...   ...   ...   ...      ...         ...   ...           ...   \n",
       "16  16-17  3202  7004  0.46      ...        2214  0.36          0.25   \n",
       "17  17-18  3248  7057  0.46      ...        2378  0.36          0.26   \n",
       "18  18-19  3369  7315  0.46      ...        2625  0.35          0.28   \n",
       "\n",
       "    3PA/Total FGA  \n",
       "0            0.17  \n",
       "1            0.18  \n",
       "2            0.18  \n",
       "..            ...  \n",
       "16           0.32  \n",
       "17           0.34  \n",
       "18           0.36  \n",
       "\n",
       "[19 rows x 9 columns]"
      ]
     },
     "execution_count": 86,
     "metadata": {},
     "output_type": "execute_result"
    }
   ],
   "source": [
    "league_averages['3PA/Total FGA'] = league_averages[\"3PA\"] / league_averages[\"FGA\"]\n",
    "league_averages = league_averages.copy()\n",
    "league_averages"
   ]
  },
  {
   "cell_type": "code",
   "execution_count": 87,
   "metadata": {},
   "outputs": [
    {
     "data": {
      "image/png": "[encoded data removed]",
      "text/plain": [
       "<Figure size 432x288 with 1 Axes>"
      ]
     },
     "metadata": {},
     "output_type": "display_data"
    }
   ],
   "source": [
    "#gca = get current axis\n",
    "ax = plt.gca()\n",
    "ax.set_ylim([0,1])\n",
    "\n",
    "#Change size of plot labels\n",
    "ax.xaxis.set_tick_params(labelsize=12)\n",
    "ax.yaxis.set_tick_params(labelsize=12)\n",
    "\n",
    "#Set the axis labels\n",
    "plt.xlabel('Years', fontsize=18)\n",
    "plt.ylabel('Percentage Of Three Pointers Attempted', fontsize=10)\n",
    "\n",
    "#Plot using MatPlotLib\n",
    "league_averages.plot(kind='line',x='Year',y='3PA/Total FGA',ax=ax,marker = \"o\")\n",
    "\n",
    "#Set the title, legend\n",
    "plt.title('Percentage of Three-Pointers Attempted vs. All Shots Attempted', fontsize=20)\n",
    "plt.legend(['Percentage of Three-Pointers Attempted Per Year'], loc='upper right', fontsize=10)\n",
    "\n",
    "\n",
    "#Set range for ticks\n",
    "plt.xticks(np.arange(0,19), league_averages[\"Year\"])\n",
    "plt.xticks(rotation=60)\n",
    "\n",
    "plt.show()"
   ]
  },
  {
   "cell_type": "markdown",
   "metadata": {},
   "source": [
    "Here we can see quite a large increase in slope, with the actual percentage nearly doubling from 20% to 40% between the years 2000 to 2019. This is an absoulutely alarming amount, and nearly a 100% increase in three-pointers between these two points in time.\n",
    "\n",
    "It is important to note here that this is the percentage, which means this is the ratio of three-pointers attempted vs. all shots attempted. Below, we will investigate further into the raw numbers, but since the percentage has been increasing over time, that suggests that although both raw values have been rising (i.e the number of shots attempted have been rising overall), the number of three-pointer attempts has increased in terms of the percentage of total shots."
   ]
  },
  {
   "cell_type": "code",
   "execution_count": 88,
   "metadata": {},
   "outputs": [
    {
     "data": {
      "image/png": "[encoded data removed]",
      "text/plain": [
       "<Figure size 432x288 with 1 Axes>"
      ]
     },
     "metadata": {},
     "output_type": "display_data"
    }
   ],
   "source": [
    "#gca = get current axis\n",
    "ax = plt.gca()\n",
    "ax.set_ylim([1000,3500])\n",
    "\n",
    "#Change size of plot labels\n",
    "ax.xaxis.set_tick_params(labelsize=12)\n",
    "ax.yaxis.set_tick_params(labelsize=12)\n",
    "\n",
    "#Set the axis labels\n",
    "plt.xlabel('Years', fontsize=18)\n",
    "plt.ylabel('Number Of Shots Attempted', fontsize=14)\n",
    "\n",
    "#Plot using MatPlotLib\n",
    "league_averages.plot(kind='line',x='Year',y='3PA',ax=ax,marker = \"o\")\n",
    "\n",
    "#Set the title, legend\n",
    "plt.title('Number of Three-Pointers Attempted vs. Time', fontsize=24)\n",
    "plt.legend(['Three-Pointers Attempted Per Year'], loc='upper right', fontsize=15)\n",
    "\n",
    "\n",
    "#Set range for ticks\n",
    "plt.xticks(np.arange(0,19), league_averages[\"Year\"])\n",
    "plt.xticks(rotation=60)\n",
    "\n",
    "plt.show()"
   ]
  },
  {
   "cell_type": "markdown",
   "metadata": {},
   "source": [
    "When looking at the raw number of three-pointers attempted vs time, we can clearly see a very sharp increase in the amount of three-pointers attempted. While it is helpful to look at raw numbers to see the general trends, more importantly, our previous analysis on the percentages shows that this increase is truly an increase in the amount of three-pointers attempted in relation to shots attempted, rather than just due to the fact that overall more shots are being attempted year by year, then by chance the number of three-pointers being attempted also increases (confounding variable which is accounted for by looking at percentages).\n",
    "\n",
    "Furthermore, by looking at the raw values, we can see oddity, which is the sharp decrease in 2011-2012. This is due to the NBA Lockout of 2011-2012, where team owners and players were all held to the new standards set by the CBA (collective bargaining agreement). This led to a period of two months of inactivity in the league, thus causing a sharp decrease in the raw values.\n",
    "Source: https://www.nba.com/history/season-recap/2011-12\n",
    "\n",
    "Interestingly enough, due to the consistent nature of the ratios of three-pointers attempted (i.e even with two months of gametime misssing) the trend is still overall increasing when looking at percentages. When looking at raw numbers, this may have seemed like it would have been something to remove in our analysis, but this simply shows that the league is overall extremely consistent in their shooting behaviors within the league (i.e it's not like there's a sudden increase of three-pointers attempted near the end of the season that we would have captured by losing 2 months of gametime).\n",
    "\n",
    "Once again, we can also run this analysis on the amount of three pointers made vs. time to see if this trend also follows."
   ]
  },
  {
   "cell_type": "code",
   "execution_count": 89,
   "metadata": {},
   "outputs": [
    {
     "data": {
      "image/png": "[encoded data removed]",
      "text/plain": [
       "<Figure size 432x288 with 1 Axes>"
      ]
     },
     "metadata": {},
     "output_type": "display_data"
    }
   ],
   "source": [
    "#gca = get current axis\n",
    "ax = plt.gca()\n",
    "ax.set_ylim([0,1000])\n",
    "\n",
    "#Change size of plot labels\n",
    "ax.xaxis.set_tick_params(labelsize=12)\n",
    "ax.yaxis.set_tick_params(labelsize=12)\n",
    "\n",
    "#Set the axis labels\n",
    "plt.xlabel('Years', fontsize=18)\n",
    "plt.ylabel('Number Of Shots Made', fontsize=18)\n",
    "\n",
    "#Plot using MatPlotLib\n",
    "league_averages.plot(kind='line',x='Year',y='3P',ax=ax,marker = \"o\")\n",
    "\n",
    "#Set the title, legend\n",
    "plt.title('Number of Three-Pointers Made', fontsize=24)\n",
    "plt.legend(['Three-Pointers Made Per Year'], loc='upper right', fontsize=15)\n",
    "\n",
    "\n",
    "#Set range for ticks\n",
    "plt.xticks(np.arange(0,19), league_averages[\"Year\"])\n",
    "plt.xticks(rotation=60)\n",
    "\n",
    "plt.show()"
   ]
  },
  {
   "cell_type": "markdown",
   "metadata": {},
   "source": [
    "Once again, looking at these raw numbers allow us to get a good general feel for the data that there is an increasing trend, but it is more important to look at percentages, as raw numbers do not account for a counfounding variable that if overall there are more shots attempted in the league then of course we will see an increase in three pointers attempted."
   ]
  },
  {
   "cell_type": "markdown",
   "metadata": {},
   "source": [
    "## Ethical Considerations & Privacy\n",
    "One ethical consideration we can consider is that the data should be blinded. What that means is that the data should be based purely off of what we are analyzing, which in our proposed experiment is the shot distance, rather than taking into consideration inconsequential factors such as race, height, and weight. For example, one thing that we considered was whether we wanted to include the WNBA in our analysis, in order to get a more holistic view on the trends in basketball. However, we decided against this in favor of the time constraints for the project, as adding such a league with wildly different averages would have added a downtrend overall in the raw numbers analysis. Other than these, we cannot foresee any other big ethical roadblocks, as the analysis is simply made on observed data that would otherwise occur whether our analysis happens or not (i.e we are not instigating events in order for us to get data points)."
   ]
  },
  {
   "cell_type": "markdown",
   "metadata": {},
   "source": [
    "## Conclusion & Discussion\n",
    "   After analyzing all our data and graphs, we found that the average NBA shot distance has changed over time, and specifically that the number of attempts of three-pointers have increased tremendously. \n",
    "   \n",
    "   \n",
    "   In our first analysis, we analyzed the FGA percentage and average shot distance for the winning NBA teams from seasons 2000-2001 to 2018-2019. For the FGA percentages, we sorted them into seperate distances and calculated the FGA percentage for each type of distance. By doing so, we were able to assert whether or not the FGA percentages change when categorized by distance. For the average shot distance, we gathered all the winning teams for each season and put it in a new dataframe. After plotting both plots, we found that each winning team's average distance significantly increased by 3 ft. We also found that NBA winning teams have shifted their field goal attempts to further distances and decreased their likelihood of shooting at shorter distances.\n",
    "   \n",
    "   \n",
    "   From our second analysis where this question was broken down specifically to shots made, we found that the percentage of 3P shots made has not significantly increased. We cleaned the data set and plotted the percentages for each type of shot for each season versus time. We used a linear model to fit our data and eventually merged all three graphs into one graph to show the relationship between the percentage of 2P, midrange, and 3P shots made. P-tests were used to analyze the trend of shots made over time; we even found a significant increase in the percentage of 2P and midrange shots made. The conclusion from this portion of our data analysis strikes us as surprising since the number of 3P attempts has significantly increased over the years.\n",
    "\n",
    "\n",
    "   Lastly, in our third analysis, we discovered several relationships between the percentages and raw amount of shots taken. From our analysis, we once again found that the percentage of three-pointers made versus three-pointers attempted stayed relatively the same. This simply just means there wasn’t a sudden increase in ability to make three-pointers. However, we did find a dramatic increase in the percentage of three-pointers attempted vs. all shots attempted. Looking at the percentage in 2000, and the percentage in 2019, we can that the percentage of three-pointers attempted nearly doubled across this span of time. It is important to note that this is the percentage, and not raw numbers, as in general we can see the number of three-point shots increased, but this uptrend persists even when looking at ratios. This means the increase is not confounded with the fact that the number of shots attempted simply increased over time, but that there is actually a significant increase in the percentage of three-pointers attempted.\n",
    "   \n",
    "   \n",
    "   Some limitations of our analysis are that our data has only come from the past two decades, whereas the NBA three-point line has existed for forty years. This means our analysis is simply going to be seeing the trends as time increases ever since the introduction of the three-point line (i.e every year is just one year longer that the rule has been instated) while we believe the analysis would have had even more alarming results had we had access to data 5 years before and after the introduction of the rule. \n",
    "   \n",
    "   In conclusion, the average NBA shot distance has increased over the last two decades, and more specifically, the percentage of three-point shots attempted and made has increased over the last two decades.\n"
   ]
  }
 ],
 "metadata": {
  "celltoolbar": "Raw Cell Format",
  "kernelspec": {
   "display_name": "Python 3",
   "language": "python",
   "name": "python3"
  },
  "language_info": {
   "codemirror_mode": {
    "name": "ipython",
    "version": 3
   },
   "file_extension": ".py",
   "mimetype": "text/x-python",
   "name": "python",
   "nbconvert_exporter": "python",
   "pygments_lexer": "ipython3",
   "version": "3.7.1"
  }
 },
 "nbformat": 4,
 "nbformat_minor": 2
}
