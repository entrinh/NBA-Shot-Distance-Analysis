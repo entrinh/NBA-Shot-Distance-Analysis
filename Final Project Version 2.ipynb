{
 "cells": [
  {
   "cell_type": "markdown",
   "metadata": {},
   "source": [
    "# COGS 108 Final Project"
   ]
  },
  {
   "cell_type": "markdown",
   "metadata": {},
   "source": [
    "## Overview"
   ]
  },
  {
   "cell_type": "markdown",
   "metadata": {},
   "source": [
    "Throughout this project, we tested our data science question by splitting it up into three smaller questions. In our first analysis, we followed the trend of shot distances for 2P, midrange, and 3P shots over time. In our second analysis, we looked at the relationships between both the percentages and the raw number of three-pointers when compared to the amount of three-pointers attempted, made, and all shots attempted. In our last analysis, we compared the average shot distance for the winning team of each season over the past two decades."
   ]
  },
  {
   "cell_type": "markdown",
   "metadata": {},
   "source": [
    "## Group Members\n",
    "- Eric Yang: Background Research, Exploratory, Conclusions\n",
    "- Alvin Wong: Question & Hypothesis, Descriptive,  Analysis - Part II, Conclusions,\n",
    "- Vincent Tran: Ethical Considerations, Analysis - Part III, Conclusions\n",
    "- David Gallardo: Analysis: Part I, Data Wrangling, Conclusions\n",
    "- Eric Trinh: Dataset, Data Wrangling, Conclusions"
   ]
  },
  {
   "cell_type": "markdown",
   "metadata": {},
   "source": [
    "## Group Members IDs"
   ]
  },
  {
   "cell_type": "markdown",
   "metadata": {},
   "source": [
    "- Eric Yang (A13828349)\n",
    "- Alvin Wong (A14633089)\n",
    "- Vincent Tran (A15535418)\n",
    "- David Gallardo (A13964082)\n",
    "- Eric Trinh (A15341308)"
   ]
  },
  {
   "cell_type": "markdown",
   "metadata": {},
   "source": [
    "## Research Question:\n",
    "How has the average NBA shot distance, for both shots attempted and shots made, changed over the last two decades?"
   ]
  },
  {
   "cell_type": "markdown",
   "metadata": {},
   "source": [
    "## Background Research"
   ]
  },
  {
   "cell_type": "markdown",
   "metadata": {},
   "source": [
    "One of the most popular sports in the United States is basketball. Within the game of basketball, the three-point shot has increased in popularity and has greatly impacted the game ever since the introduction of the three-point line. Many basketball players today have the three-point shot as part of their skillset and it is an important skill to have for guards. Even centers today, who traditionally are not known for shooting, are beginning to pick up the three-point shot. Additionally, college athletes today are shooting more three-point shots than ever before. However, the three-point line is a relatively new creation as it was added to basketball in 1979 while basketball was first invented in 1891 and the National Basketball Association (NBA) created in 1946. \n",
    "\n",
    "Looking at previous projects, students have looked into the impact of the three-point shot and also the practicality or effectiveness of the three-point shot. But, none have explored and analyzed the change in shot distance because of the three-point line. We believe that the amount of shots taken at longer distances have increased ever since the introduction of the three-point line, especially as teams place more and more weight on three-point shots in their game plans.\n",
    "\n",
    "References:\n",
    "- 1) ----FILL---\n",
    "- 2) ----FILL----\n"
   ]
  },
  {
   "cell_type": "markdown",
   "metadata": {},
   "source": [
    "## Hypothesis:\n",
    "The average NBA shot distance will have increased due to the addition of the three-point line. With the introduction of the three-point line, as players become better shooters and more familiar with the three-point line, players will take their shots from a farther distance to have a chance at making three-point shots, as statistically, a three-point shot contributes more to a game victory than a two-point shot. Additionally, the average NBA shot distance is directly proportional to the distance of the three-point line from the hoop, so as more players begin to take more and more three-point shots, and the three-point line gets pushed further out, the average shot distance of the NBA will consequently increase. "
   ]
  },
  {
   "cell_type": "markdown",
   "metadata": {},
   "source": [
    "## Data Set\n",
    "https://www.basketball-reference.com/ will be our primary resource to gather data from. It has nearly everything one would want regarding basketball statistics from statistics for current and past players, teams, and coaches, meaning we are able to collect concise empirical data for absolutely any and all specific data points we would want to extrapolate from just this one resource. This website also allows us to export data through CSV files, which we can easily import into Python. This also means that data wrangling on the datasets coming from this website should be very simple and straightforward.\n",
    "\n",
    "- Data Set Name: BasketBall Reference\n",
    "- Link to the Data Set: https://www.basketball-reference.com/\n",
    "- Number of Observations: All basketball teams participating in the NBA from 2000 to 2018"
   ]
  },
  {
   "cell_type": "markdown",
   "metadata": {},
   "source": [
    "### Importing Packages\n",
    "\n",
    "First we need to read import packages in order to analyze our data and begin to answer our data science question. Pandas and numpy are used to create and manipulate the dataframes that hold our data from our datasets. Matplotlib.pyplot is used to plot the data we will acquire from the datasets. Finally, scipy.stats is imported to run statistical analysis on our data."
   ]
  },
  {
   "cell_type": "code",
   "execution_count": 1,
   "metadata": {},
   "outputs": [],
   "source": [
    "#Imports important libraries\n",
    "%matplotlib inline\n",
    "import pandas as pd\n",
    "import seaborn as sns\n",
    "import matplotlib.pyplot as plt\n",
    "import numpy as np\n",
    "import pylab as pl\n",
    "import os\n",
    "from IPython.display import Markdown\n",
    "from scipy.stats import ttest_ind"
   ]
  },
  {
   "cell_type": "markdown",
   "metadata": {},
   "source": [
    "### Importing Data\n",
    "This imports all the csv files needed for our data analysis. For each year, we import a csv that contains statistics about the average performance per game for each team, the team's shooting, and each team's stats."
   ]
  },
  {
   "cell_type": "code",
   "execution_count": 2,
   "metadata": {},
   "outputs": [
    {
     "ename": "FileNotFoundError",
     "evalue": "File b'00-01_team_per_game_stats.csv' does not exist",
     "output_type": "error",
     "traceback": [
      "\u001b[0;31m---------------------------------------------------------------------------\u001b[0m",
      "\u001b[0;31mFileNotFoundError\u001b[0m                         Traceback (most recent call last)",
      "\u001b[0;32m<ipython-input-2-4b3140160828>\u001b[0m in \u001b[0;36m<module>\u001b[0;34m()\u001b[0m\n\u001b[1;32m      1\u001b[0m \u001b[0;31m#NBA Season 2000-2001\u001b[0m\u001b[0;34m\u001b[0m\u001b[0;34m\u001b[0m\u001b[0;34m\u001b[0m\u001b[0m\n\u001b[0;32m----> 2\u001b[0;31m \u001b[0mdf_00_01PG\u001b[0m \u001b[0;34m=\u001b[0m \u001b[0mpd\u001b[0m\u001b[0;34m.\u001b[0m\u001b[0mread_csv\u001b[0m\u001b[0;34m(\u001b[0m\u001b[0;34m'00-01_team_per_game_stats.csv'\u001b[0m\u001b[0;34m)\u001b[0m\u001b[0;34m\u001b[0m\u001b[0;34m\u001b[0m\u001b[0m\n\u001b[0m\u001b[1;32m      3\u001b[0m \u001b[0mdf_00_01TS\u001b[0m \u001b[0;34m=\u001b[0m \u001b[0mpd\u001b[0m\u001b[0;34m.\u001b[0m\u001b[0mread_csv\u001b[0m\u001b[0;34m(\u001b[0m\u001b[0;34m'00-01_team_shooting.csv'\u001b[0m\u001b[0;34m)\u001b[0m\u001b[0;34m\u001b[0m\u001b[0;34m\u001b[0m\u001b[0m\n\u001b[1;32m      4\u001b[0m \u001b[0mdf_00_01S\u001b[0m \u001b[0;34m=\u001b[0m \u001b[0mpd\u001b[0m\u001b[0;34m.\u001b[0m\u001b[0mread_csv\u001b[0m\u001b[0;34m(\u001b[0m\u001b[0;34m'00-01_team_stats.csv'\u001b[0m\u001b[0;34m)\u001b[0m\u001b[0;34m\u001b[0m\u001b[0;34m\u001b[0m\u001b[0m\n\u001b[1;32m      5\u001b[0m \u001b[0;34m\u001b[0m\u001b[0m\n",
      "\u001b[0;32m/opt/conda/lib/python3.6/site-packages/pandas/io/parsers.py\u001b[0m in \u001b[0;36mparser_f\u001b[0;34m(filepath_or_buffer, sep, delimiter, header, names, index_col, usecols, squeeze, prefix, mangle_dupe_cols, dtype, engine, converters, true_values, false_values, skipinitialspace, skiprows, nrows, na_values, keep_default_na, na_filter, verbose, skip_blank_lines, parse_dates, infer_datetime_format, keep_date_col, date_parser, dayfirst, iterator, chunksize, compression, thousands, decimal, lineterminator, quotechar, quoting, escapechar, comment, encoding, dialect, tupleize_cols, error_bad_lines, warn_bad_lines, skipfooter, doublequote, delim_whitespace, low_memory, memory_map, float_precision)\u001b[0m\n\u001b[1;32m    676\u001b[0m                     skip_blank_lines=skip_blank_lines)\n\u001b[1;32m    677\u001b[0m \u001b[0;34m\u001b[0m\u001b[0m\n\u001b[0;32m--> 678\u001b[0;31m         \u001b[0;32mreturn\u001b[0m \u001b[0m_read\u001b[0m\u001b[0;34m(\u001b[0m\u001b[0mfilepath_or_buffer\u001b[0m\u001b[0;34m,\u001b[0m \u001b[0mkwds\u001b[0m\u001b[0;34m)\u001b[0m\u001b[0;34m\u001b[0m\u001b[0;34m\u001b[0m\u001b[0m\n\u001b[0m\u001b[1;32m    679\u001b[0m \u001b[0;34m\u001b[0m\u001b[0m\n\u001b[1;32m    680\u001b[0m     \u001b[0mparser_f\u001b[0m\u001b[0;34m.\u001b[0m\u001b[0m__name__\u001b[0m \u001b[0;34m=\u001b[0m \u001b[0mname\u001b[0m\u001b[0;34m\u001b[0m\u001b[0;34m\u001b[0m\u001b[0m\n",
      "\u001b[0;32m/opt/conda/lib/python3.6/site-packages/pandas/io/parsers.py\u001b[0m in \u001b[0;36m_read\u001b[0;34m(filepath_or_buffer, kwds)\u001b[0m\n\u001b[1;32m    438\u001b[0m \u001b[0;34m\u001b[0m\u001b[0m\n\u001b[1;32m    439\u001b[0m     \u001b[0;31m# Create the parser.\u001b[0m\u001b[0;34m\u001b[0m\u001b[0;34m\u001b[0m\u001b[0;34m\u001b[0m\u001b[0m\n\u001b[0;32m--> 440\u001b[0;31m     \u001b[0mparser\u001b[0m \u001b[0;34m=\u001b[0m \u001b[0mTextFileReader\u001b[0m\u001b[0;34m(\u001b[0m\u001b[0mfilepath_or_buffer\u001b[0m\u001b[0;34m,\u001b[0m \u001b[0;34m**\u001b[0m\u001b[0mkwds\u001b[0m\u001b[0;34m)\u001b[0m\u001b[0;34m\u001b[0m\u001b[0;34m\u001b[0m\u001b[0m\n\u001b[0m\u001b[1;32m    441\u001b[0m \u001b[0;34m\u001b[0m\u001b[0m\n\u001b[1;32m    442\u001b[0m     \u001b[0;32mif\u001b[0m \u001b[0mchunksize\u001b[0m \u001b[0;32mor\u001b[0m \u001b[0miterator\u001b[0m\u001b[0;34m:\u001b[0m\u001b[0;34m\u001b[0m\u001b[0;34m\u001b[0m\u001b[0m\n",
      "\u001b[0;32m/opt/conda/lib/python3.6/site-packages/pandas/io/parsers.py\u001b[0m in \u001b[0;36m__init__\u001b[0;34m(self, f, engine, **kwds)\u001b[0m\n\u001b[1;32m    785\u001b[0m             \u001b[0mself\u001b[0m\u001b[0;34m.\u001b[0m\u001b[0moptions\u001b[0m\u001b[0;34m[\u001b[0m\u001b[0;34m'has_index_names'\u001b[0m\u001b[0;34m]\u001b[0m \u001b[0;34m=\u001b[0m \u001b[0mkwds\u001b[0m\u001b[0;34m[\u001b[0m\u001b[0;34m'has_index_names'\u001b[0m\u001b[0;34m]\u001b[0m\u001b[0;34m\u001b[0m\u001b[0;34m\u001b[0m\u001b[0m\n\u001b[1;32m    786\u001b[0m \u001b[0;34m\u001b[0m\u001b[0m\n\u001b[0;32m--> 787\u001b[0;31m         \u001b[0mself\u001b[0m\u001b[0;34m.\u001b[0m\u001b[0m_make_engine\u001b[0m\u001b[0;34m(\u001b[0m\u001b[0mself\u001b[0m\u001b[0;34m.\u001b[0m\u001b[0mengine\u001b[0m\u001b[0;34m)\u001b[0m\u001b[0;34m\u001b[0m\u001b[0;34m\u001b[0m\u001b[0m\n\u001b[0m\u001b[1;32m    788\u001b[0m \u001b[0;34m\u001b[0m\u001b[0m\n\u001b[1;32m    789\u001b[0m     \u001b[0;32mdef\u001b[0m \u001b[0mclose\u001b[0m\u001b[0;34m(\u001b[0m\u001b[0mself\u001b[0m\u001b[0;34m)\u001b[0m\u001b[0;34m:\u001b[0m\u001b[0;34m\u001b[0m\u001b[0;34m\u001b[0m\u001b[0m\n",
      "\u001b[0;32m/opt/conda/lib/python3.6/site-packages/pandas/io/parsers.py\u001b[0m in \u001b[0;36m_make_engine\u001b[0;34m(self, engine)\u001b[0m\n\u001b[1;32m   1012\u001b[0m     \u001b[0;32mdef\u001b[0m \u001b[0m_make_engine\u001b[0m\u001b[0;34m(\u001b[0m\u001b[0mself\u001b[0m\u001b[0;34m,\u001b[0m \u001b[0mengine\u001b[0m\u001b[0;34m=\u001b[0m\u001b[0;34m'c'\u001b[0m\u001b[0;34m)\u001b[0m\u001b[0;34m:\u001b[0m\u001b[0;34m\u001b[0m\u001b[0;34m\u001b[0m\u001b[0m\n\u001b[1;32m   1013\u001b[0m         \u001b[0;32mif\u001b[0m \u001b[0mengine\u001b[0m \u001b[0;34m==\u001b[0m \u001b[0;34m'c'\u001b[0m\u001b[0;34m:\u001b[0m\u001b[0;34m\u001b[0m\u001b[0;34m\u001b[0m\u001b[0m\n\u001b[0;32m-> 1014\u001b[0;31m             \u001b[0mself\u001b[0m\u001b[0;34m.\u001b[0m\u001b[0m_engine\u001b[0m \u001b[0;34m=\u001b[0m \u001b[0mCParserWrapper\u001b[0m\u001b[0;34m(\u001b[0m\u001b[0mself\u001b[0m\u001b[0;34m.\u001b[0m\u001b[0mf\u001b[0m\u001b[0;34m,\u001b[0m \u001b[0;34m**\u001b[0m\u001b[0mself\u001b[0m\u001b[0;34m.\u001b[0m\u001b[0moptions\u001b[0m\u001b[0;34m)\u001b[0m\u001b[0;34m\u001b[0m\u001b[0;34m\u001b[0m\u001b[0m\n\u001b[0m\u001b[1;32m   1015\u001b[0m         \u001b[0;32melse\u001b[0m\u001b[0;34m:\u001b[0m\u001b[0;34m\u001b[0m\u001b[0;34m\u001b[0m\u001b[0m\n\u001b[1;32m   1016\u001b[0m             \u001b[0;32mif\u001b[0m \u001b[0mengine\u001b[0m \u001b[0;34m==\u001b[0m \u001b[0;34m'python'\u001b[0m\u001b[0;34m:\u001b[0m\u001b[0;34m\u001b[0m\u001b[0;34m\u001b[0m\u001b[0m\n",
      "\u001b[0;32m/opt/conda/lib/python3.6/site-packages/pandas/io/parsers.py\u001b[0m in \u001b[0;36m__init__\u001b[0;34m(self, src, **kwds)\u001b[0m\n\u001b[1;32m   1706\u001b[0m         \u001b[0mkwds\u001b[0m\u001b[0;34m[\u001b[0m\u001b[0;34m'usecols'\u001b[0m\u001b[0;34m]\u001b[0m \u001b[0;34m=\u001b[0m \u001b[0mself\u001b[0m\u001b[0;34m.\u001b[0m\u001b[0musecols\u001b[0m\u001b[0;34m\u001b[0m\u001b[0;34m\u001b[0m\u001b[0m\n\u001b[1;32m   1707\u001b[0m \u001b[0;34m\u001b[0m\u001b[0m\n\u001b[0;32m-> 1708\u001b[0;31m         \u001b[0mself\u001b[0m\u001b[0;34m.\u001b[0m\u001b[0m_reader\u001b[0m \u001b[0;34m=\u001b[0m \u001b[0mparsers\u001b[0m\u001b[0;34m.\u001b[0m\u001b[0mTextReader\u001b[0m\u001b[0;34m(\u001b[0m\u001b[0msrc\u001b[0m\u001b[0;34m,\u001b[0m \u001b[0;34m**\u001b[0m\u001b[0mkwds\u001b[0m\u001b[0;34m)\u001b[0m\u001b[0;34m\u001b[0m\u001b[0;34m\u001b[0m\u001b[0m\n\u001b[0m\u001b[1;32m   1709\u001b[0m \u001b[0;34m\u001b[0m\u001b[0m\n\u001b[1;32m   1710\u001b[0m         \u001b[0mpassed_names\u001b[0m \u001b[0;34m=\u001b[0m \u001b[0mself\u001b[0m\u001b[0;34m.\u001b[0m\u001b[0mnames\u001b[0m \u001b[0;32mis\u001b[0m \u001b[0;32mNone\u001b[0m\u001b[0;34m\u001b[0m\u001b[0;34m\u001b[0m\u001b[0m\n",
      "\u001b[0;32mpandas/_libs/parsers.pyx\u001b[0m in \u001b[0;36mpandas._libs.parsers.TextReader.__cinit__\u001b[0;34m()\u001b[0m\n",
      "\u001b[0;32mpandas/_libs/parsers.pyx\u001b[0m in \u001b[0;36mpandas._libs.parsers.TextReader._setup_parser_source\u001b[0;34m()\u001b[0m\n",
      "\u001b[0;31mFileNotFoundError\u001b[0m: File b'00-01_team_per_game_stats.csv' does not exist"
     ]
    }
   ],
   "source": [
    "#NBA Season 2000-2001\n",
    "df_00_01PG = pd.read_csv('00-01_team_per_game_stats.csv')\n",
    "df_00_01TS = pd.read_csv('00-01_team_shooting.csv')\n",
    "df_00_01S = pd.read_csv('00-01_team_stats.csv')\n",
    "\n",
    "#NBA Season 2001-2002\n",
    "df_01_02PG = pd.read_csv('01-02_team_per_game_stats.csv')\n",
    "df_01_02TS = pd.read_csv('01-02_team_shooting.csv')\n",
    "df_01_02S = pd.read_csv('01-02_team_stats.csv')\n",
    "\n",
    "#NBA Season 2002-2003\n",
    "df_02_03PG = pd.read_csv('02-03_team_per_game_stats.csv')\n",
    "df_02_03TS = pd.read_csv('02-03_team_shooting.csv')\n",
    "df_02_03S = pd.read_csv('02-03_team_stats.csv')\n",
    "\n",
    "#NBA Season 2003-2004\n",
    "df_03_04PG = pd.read_csv('03-04_team_per_game_stats.csv')\n",
    "df_03_04TS = pd.read_csv('03-04_team_shooting.csv')\n",
    "df_03_04S = pd.read_csv('03-04_team_stats.csv')\n",
    "\n",
    "#NBA Season 2004-2005\n",
    "df_04_05PG = pd.read_csv('04-05_team_per_game_stats.csv')\n",
    "df_04_05TS = pd.read_csv('04-05_team_shooting.csv')\n",
    "df_04_05S = pd.read_csv('04-05_team_stats.csv')\n",
    "\n",
    "#NBA Season 2005-2006\n",
    "df_05_06PG = pd.read_csv('05-06_team_per_game_stats.csv')\n",
    "df_05_06TS = pd.read_csv('05-06_team_shooting.csv')\n",
    "df_05_06S = pd.read_csv('05-06_team_stats.csv')\n",
    "\n",
    "#NBA Season 2006-2007\n",
    "df_06_07PG = pd.read_csv('06-07_team_per_game_stats.csv')\n",
    "df_06_07TS = pd.read_csv('06-07_team_shooting.csv')\n",
    "df_06_07S = pd.read_csv('06-07_team_stats.csv')\n",
    "\n",
    "#NBA Season 2007-2008\n",
    "df_07_08PG = pd.read_csv('07-08_team_per_game_stats.csv')\n",
    "df_07_08TS = pd.read_csv('07-08_team_shooting.csv')\n",
    "df_07_08S = pd.read_csv('07-08_team_stats.csv')\n",
    "\n",
    "#NBA Season 2008-2009\n",
    "df_08_09PG = pd.read_csv('08-09_team_per_game_stats.csv')\n",
    "df_08_09TS = pd.read_csv('08-09_team_shooting.csv')\n",
    "df_08_09S = pd.read_csv('08-09_team_stats.csv')\n",
    "\n",
    "#NBA Season 2009-2010\n",
    "df_09_10PG = pd.read_csv('09-10_team_per_game_stats.csv')\n",
    "df_09_10TS = pd.read_csv('09-10_team_shooting.csv')\n",
    "df_09_10S = pd.read_csv('09-10_team_stats.csv')\n",
    "\n",
    "#NBA Season 2010-2011\n",
    "df_10_11PG = pd.read_csv('10-11_team_per_game_stats.csv')\n",
    "df_10_11TS = pd.read_csv('10-11_team_shooting.csv')\n",
    "df_10_11S = pd.read_csv('10-11_team_stats.csv')\n",
    "\n",
    "#NBA Season 2011-2012\n",
    "df_11_12PG = pd.read_csv('11-12_team_per_game_stats.csv')\n",
    "df_11_12TS = pd.read_csv('11-12_team_shooting.csv')\n",
    "df_11_12S = pd.read_csv('11-12_team_stats.csv')\n",
    "\n",
    "#NBA Season 2012-2013\n",
    "df_12_13PG = pd.read_csv('12-13_team_per_game_stats.csv')\n",
    "df_12_13TS = pd.read_csv('12-13_team_shooting.csv')\n",
    "df_12_13S = pd.read_csv('12-13_team_stats.csv')\n",
    "\n",
    "#NBA Season 2013-2014\n",
    "df_13_14PG = pd.read_csv('13-14_team_per_game_stats.csv')\n",
    "df_13_14TS = pd.read_csv('13-14_team_shooting.csv')\n",
    "df_13_14S = pd.read_csv('13-14_team_stats.csv')\n",
    "\n",
    "#NBA Season 2014-2015\n",
    "df_14_15PG = pd.read_csv('14-15_team_per_game_stats.csv')\n",
    "df_14_15TS = pd.read_csv('14-15_team_shooting.csv')\n",
    "df_14_15S = pd.read_csv('14-15_team_stats.csv')\n",
    "\n",
    "#NBA Season 2015-2016\n",
    "df_15_16PG = pd.read_csv('15-16_team_per_game_stats.csv')\n",
    "df_15_16TS = pd.read_csv('15-16_team_shooting.csv')\n",
    "df_15_16S = pd.read_csv('15-16_team_stats.csv')\n",
    "\n",
    "#NBA Season 2016-2017\n",
    "df_16_17PG = pd.read_csv('16-17_team_per_game_stats.csv')\n",
    "df_16_17TS = pd.read_csv('16-17_team_shooting.csv')\n",
    "df_16_17S = pd.read_csv('16-17_team_stats.csv')\n",
    "\n",
    "#NBA Season 2017-2018\n",
    "df_17_18PG = pd.read_csv('17-18_team_per_game_stats.csv')\n",
    "df_17_18TS = pd.read_csv('17-18_team_shooting.csv')\n",
    "df_17_18S = pd.read_csv('17-18_team_stats.csv')\n",
    "\n",
    "#NBA Season 2018-2019\n",
    "df_18_19PG = pd.read_csv('18-19_team_per_game_stats.csv')\n",
    "df_18_19TS = pd.read_csv('18-19_team_shooting.csv')\n",
    "df_18_19S = pd.read_csv('18-19_team_stats.csv')"
   ]
  },
  {
   "cell_type": "markdown",
   "metadata": {},
   "source": [
    "## Descriptive Analysis"
   ]
  },
  {
   "cell_type": "markdown",
   "metadata": {},
   "source": [
    "<b>References:</b><br>\n",
    "https://github.com/COGS108/FinalProjects-Wi18/blob/master/001-FinalProject.ipynb<br>\n",
    "https://github.com/COGS108/Lectures-Sp19/blob/master/08_descriptive/08_descriptive.ipynb"
   ]
  },
  {
   "cell_type": "code",
   "execution_count": null,
   "metadata": {},
   "outputs": [],
   "source": [
    "# Configure libraries\n",
    "# Don't display too many rows/cols of DataFrames\n",
    "pd.options.display.max_rows = 7\n",
    "pd.options.display.max_columns = 26\n",
    "\n",
    "# Round decimals when displaying DataFrames\n",
    "pd.set_option('precision', 3)"
   ]
  },
  {
   "cell_type": "code",
   "execution_count": null,
   "metadata": {},
   "outputs": [],
   "source": [
    "folder_path   = './'\n",
    "t_per_game = {}\n",
    "t_shooting = {}\n",
    "t_stats    = {}"
   ]
  },
  {
   "cell_type": "code",
   "execution_count": null,
   "metadata": {},
   "outputs": [],
   "source": [
    "display(Markdown('**Team Per Game Raw Statistics**'))\n",
    "for file in sorted(x for x in os.listdir(folder_path) if x.endswith(\"_team_per_game_stats.csv\")):\n",
    "    t_per_game[file] = pd.read_csv(folder_path + file, header=0).drop(['Rk','G','MP','FT','FTA','FT%','ORB','DRB','TRB'\n",
    "                                                                       ,'AST','STL','BLK','TOV','PF','PTS'], axis=1)\n",
    "    display(Markdown('**' + file[:-24] + '** **Season**'))\n",
    "    display(t_per_game[file])"
   ]
  },
  {
   "cell_type": "code",
   "execution_count": null,
   "metadata": {},
   "outputs": [],
   "source": [
    "display(Markdown('**Team Shooting Raw Statistics**'))\n",
    "for file in sorted(x for x in os.listdir(folder_path) if x.endswith(\"_team_shooting.csv\")):\n",
    "    # Note: removed the heaves attempted and made columns as those are outlier shots\n",
    "    if(file == '00-01_team_shooting.csv'):\n",
    "        t_shooting[file] = pd.read_csv(folder_path + file, header=2).drop(['Rk','G','MP','%Ast\\'d','%Ast\\'d.1','Att.',\n",
    "                                                                       'Md..1'], axis=1)\n",
    "    else:  \n",
    "        t_shooting[file] = pd.read_csv(folder_path + file, header=2).drop(['Rk','G','MP','%Ast\\'d','%Ast\\'d.1','Att.',\n",
    "                                                                       'Md..2'], axis=1)\n",
    "    display(Markdown('**' + file[:-18] + '** **Season**'))\n",
    "    display(t_shooting[file])"
   ]
  },
  {
   "cell_type": "code",
   "execution_count": null,
   "metadata": {},
   "outputs": [],
   "source": [
    "display(Markdown('**Team Stats Raw Statistics**'))\n",
    "for file in sorted(x for x in os.listdir(folder_path) if x.endswith(\"_team_stats.csv\")):\n",
    "    t_stats[file] = pd.read_csv(folder_path + file, header=0).drop(['Rk','G','MP','FT','FTA','FT%','ORB','DRB','TRB'\n",
    "                                                                    ,'AST','STL','BLK','TOV','PF','PTS'], axis=1)\n",
    "    display(Markdown('**' + file[:-15] + '** **Season**'))\n",
    "    display(t_stats[file])"
   ]
  },
  {
   "cell_type": "code",
   "execution_count": null,
   "metadata": {},
   "outputs": [],
   "source": [
    "# We want to remove the 2011-2012 season from our datasets because there were only 66 games that year rather than 82\n",
    "t_per_game.pop('11-12_team_per_game_stats.csv')\n",
    "t_shooting.pop('11-12_team_shooting.csv')\n",
    "t_stats.pop('11-12_team_stats.csv')"
   ]
  },
  {
   "cell_type": "code",
   "execution_count": null,
   "metadata": {},
   "outputs": [],
   "source": [
    "# Checking to see if the 2011-2012\n",
    "print('Data from 2011-2012 season team per game dataset:\\t',t_per_game\n",
    "                                                                          .get('11-12_team_per_game_stats.csv'))\n",
    "print('Data from 2011-2012 season team shooting dataset:\\t',t_shooting.get('11-12_team_shooting.csv'))\n",
    "print('Data from 2011-2012 season team stats dataset:\\t\\t',t_stats.get('11-12_team_stats.csv'))"
   ]
  },
  {
   "cell_type": "code",
   "execution_count": null,
   "metadata": {},
   "outputs": [],
   "source": [
    "pd.options.display.max_rows = 11"
   ]
  },
  {
   "cell_type": "code",
   "execution_count": null,
   "metadata": {},
   "outputs": [],
   "source": [
    "des_t_per_game = {}\n",
    "display(Markdown('**Team Per Game Descriptive Statistics**'))\n",
    "for file in t_per_game:\n",
    "    des_t_per_game[file] = t_per_game[file].describe()\n",
    "    display(Markdown('**' + file[:-24] + '** **Season**'))\n",
    "    display(des_t_per_game[file])"
   ]
  },
  {
   "cell_type": "code",
   "execution_count": null,
   "metadata": {},
   "outputs": [],
   "source": [
    "des_t_shooting = {}\n",
    "display(Markdown('**Team Shooting Descriptive Statistics**'))\n",
    "for file in t_shooting:\n",
    "    des_t_shooting[file] = t_shooting[file].describe()\n",
    "    display(Markdown('**' + file[:-18] + '** **Season**'))\n",
    "    display(des_t_shooting[file])"
   ]
  },
  {
   "cell_type": "code",
   "execution_count": null,
   "metadata": {},
   "outputs": [],
   "source": [
    "des_t_stats = {}\n",
    "display(Markdown('**Team Stats Descriptive Statistics**'))\n",
    "\n",
    "for file in t_stats:\n",
    "    des_t_stats[file] = t_stats[file].describe()\n",
    "    display(Markdown('**' + file[:-15] + '** **Season**'))\n",
    "    display(des_t_stats[file])"
   ]
  },
  {
   "cell_type": "code",
   "execution_count": null,
   "metadata": {},
   "outputs": [],
   "source": [
    "print('Size of team per game dataset of one season after cleaning:\\t', t_per_game['00-01_team_per_game_stats.csv']\n",
    "                                                                                                              .shape)\n",
    "print('Size of team shooting dataset of one season after cleaning:\\t', t_shooting['00-01_team_shooting.csv'].shape)\n",
    "print('Size of team stats dataset of one season after cleaning:\\t', t_stats['00-01_team_stats.csv'].shape)"
   ]
  },
  {
   "cell_type": "code",
   "execution_count": null,
   "metadata": {},
   "outputs": [],
   "source": [
    "display(Markdown('**Total number of missing values by column for entire team per game dataset:**'))\n",
    "tpg_null_total = 0\n",
    "for file in t_per_game:\n",
    "    tpg_null_total += t_per_game[file].isnull().sum()\n",
    "tpg_null_total"
   ]
  },
  {
   "cell_type": "code",
   "execution_count": null,
   "metadata": {},
   "outputs": [],
   "source": [
    "pd.options.display.max_rows = 20\n",
    "\n",
    "display(Markdown('**Total number of missing values by column for entire team shooting dataset:**'))\n",
    "tshooting_null_total = 0\n",
    "for file in t_shooting:\n",
    "    tshooting_null_total += t_shooting[file].isnull().sum()\n",
    "tshooting_null_total"
   ]
  },
  {
   "cell_type": "code",
   "execution_count": null,
   "metadata": {},
   "outputs": [],
   "source": [
    "pd.options.display.max_rows = 11\n",
    "\n",
    "display(Markdown('**Total number of missing values by column for entire team stats dataset:**'))\n",
    "tstats_null_total = 0\n",
    "for file in t_stats:\n",
    "    tstats_null_total += t_stats[file].isnull().sum()\n",
    "tstats_null_total"
   ]
  },
  {
   "cell_type": "code",
   "execution_count": null,
   "metadata": {},
   "outputs": [],
   "source": [
    "display(Markdown('**Raw distributions for team per game for each season**'))\n",
    "for file in t_per_game:\n",
    "    t_per_game[file].hist(figsize=(7,7), bins=10)\n",
    "    pl.suptitle('\\n' + file[:-24] + ' Season', fontsize=14)"
   ]
  },
  {
   "cell_type": "code",
   "execution_count": null,
   "metadata": {},
   "outputs": [],
   "source": [
    "display(Markdown('**Raw distributions for team shooting for each season**'))\n",
    "\n",
    "for file in t_shooting:\n",
    "    t_shooting[file].hist(figsize=(12,12), bins=10)\n",
    "    pl.suptitle('\\n' + file[:-18] + ' Season', fontsize=18)"
   ]
  },
  {
   "cell_type": "code",
   "execution_count": null,
   "metadata": {},
   "outputs": [],
   "source": [
    "display(Markdown('**Raw distributions for team stats for each season**'))\n",
    "for file in t_stats:\n",
    "    t_stats[file].hist(figsize=(7,7), bins=10)\n",
    "    pl.suptitle('\\n' + file[:-15] + ' Season', fontsize=14)"
   ]
  },
  {
   "cell_type": "markdown",
   "metadata": {},
   "source": [
    "## Exploratory Analysis"
   ]
  },
  {
   "cell_type": "code",
   "execution_count": null,
   "metadata": {},
   "outputs": [],
   "source": [
    "# Configure libraries\n",
    "# The seaborn library makes plots look nicer\n",
    "sns.set()\n",
    "sns.set_context('talk')\n",
    "\n",
    "# Don't display too many rows/cols of DataFrames\n",
    "pd.options.display.max_rows = 7\n",
    "pd.options.display.max_columns = 8\n",
    "\n",
    "# Round decimals when displaying DataFrames\n",
    "pd.set_option('precision', 2)"
   ]
  },
  {
   "cell_type": "code",
   "execution_count": null,
   "metadata": {},
   "outputs": [],
   "source": [
    "# Read all csv\n",
    "stats_game_2000 = pd.read_csv(\"00-01_team_per_game_stats.csv\")\n",
    "stats_shooting_2000 = pd.read_csv(\"00-01_team_shooting.csv\")\n",
    "\n",
    "# All team stats for all years\n",
    "df_stats_team_stats_2000 = pd.read_csv(\"00-01_team_stats.csv\")\n",
    "df_stats_team_stats_2001 = pd.read_csv(\"01-02_team_stats.csv\")\n",
    "df_stats_team_stats_2002 = pd.read_csv(\"02-03_team_stats.csv\")\n",
    "df_stats_team_stats_2003 = pd.read_csv(\"03-04_team_stats.csv\")\n",
    "df_stats_team_stats_2004 = pd.read_csv(\"04-05_team_stats.csv\")\n",
    "df_stats_team_stats_2005 = pd.read_csv(\"05-06_team_stats.csv\")\n",
    "df_stats_team_stats_2006 = pd.read_csv(\"06-07_team_stats.csv\")\n",
    "df_stats_team_stats_2007 = pd.read_csv(\"07-08_team_stats.csv\")\n",
    "df_stats_team_stats_2008 = pd.read_csv(\"08-09_team_stats.csv\")\n",
    "df_stats_team_stats_2009 = pd.read_csv(\"09-10_team_stats.csv\")\n",
    "df_stats_team_stats_2010 = pd.read_csv(\"10-11_team_stats.csv\")\n",
    "df_stats_team_stats_2011 = pd.read_csv(\"11-12_team_stats.csv\")\n",
    "df_stats_team_stats_2012 = pd.read_csv(\"12-13_team_stats.csv\")\n",
    "df_stats_team_stats_2013 = pd.read_csv(\"13-14_team_stats.csv\")\n",
    "df_stats_team_stats_2014 = pd.read_csv(\"14-15_team_stats.csv\")\n",
    "df_stats_team_stats_2015 = pd.read_csv(\"15-16_team_stats.csv\")\n",
    "df_stats_team_stats_2016 = pd.read_csv(\"16-17_team_stats.csv\")\n",
    "df_stats_team_stats_2017 = pd.read_csv(\"17-18_team_stats.csv\")\n",
    "df_stats_team_stats_2018 = pd.read_csv(\"18-19_team_stats.csv\")\n",
    "\n",
    "# Create new dataframe with all team stats with 3PA\n",
    "df_all_team_stats = pd.DataFrame()\n",
    "\n",
    "years = ['2000', '2001', '2002', '2003', '2004', '2005', '2006', '2007', '2008','2009', '2010', '2011', '2012', \n",
    "         '2013', '2014', '2015', '2016', '2017', '2018'] \n",
    "df_all_team_stats['Year'] = years\n",
    "\n",
    "# Get sum of all 3PA for team each for all years\n",
    "three_attempts = [df_stats_team_stats_2000['3PA'].sum(), df_stats_team_stats_2001['3PA'].sum(), \n",
    "                  df_stats_team_stats_2002['3PA'].sum(), df_stats_team_stats_2003['3PA'].sum(),\n",
    "                  df_stats_team_stats_2004['3PA'].sum(), df_stats_team_stats_2005['3PA'].sum(),\n",
    "                  df_stats_team_stats_2006['3PA'].sum(), df_stats_team_stats_2007['3PA'].sum(),\n",
    "                  df_stats_team_stats_2008['3PA'].sum(), df_stats_team_stats_2009['3PA'].sum(), \n",
    "                  df_stats_team_stats_2010['3PA'].sum(), df_stats_team_stats_2011['3PA'].sum(), \n",
    "                  df_stats_team_stats_2012['3PA'].sum(),\n",
    "                  df_stats_team_stats_2013['3PA'].sum(), df_stats_team_stats_2014['3PA'].sum(),\n",
    "                  df_stats_team_stats_2015['3PA'].sum(), df_stats_team_stats_2016['3PA'].sum(),\n",
    "                  df_stats_team_stats_2017['3PA'].sum(), df_stats_team_stats_2018['3PA'].sum()]\n",
    "df_all_team_stats['3PA'] = three_attempts\n",
    "\n",
    "# Get sum of all 2PA for team each for all years\n",
    "two_attempts = [df_stats_team_stats_2000['2PA'].sum(), df_stats_team_stats_2001['2PA'].sum(), \n",
    "                  df_stats_team_stats_2002['2PA'].sum(), df_stats_team_stats_2003['2PA'].sum(),\n",
    "                  df_stats_team_stats_2004['2PA'].sum(), df_stats_team_stats_2005['2PA'].sum(),\n",
    "                  df_stats_team_stats_2006['2PA'].sum(), df_stats_team_stats_2007['2PA'].sum(),\n",
    "                  df_stats_team_stats_2008['2PA'].sum(), df_stats_team_stats_2009['2PA'].sum(), \n",
    "                  df_stats_team_stats_2010['2PA'].sum(), df_stats_team_stats_2011['2PA'].sum(), \n",
    "                  df_stats_team_stats_2012['2PA'].sum(),\n",
    "                  df_stats_team_stats_2013['2PA'].sum(), df_stats_team_stats_2014['2PA'].sum(),\n",
    "                  df_stats_team_stats_2015['2PA'].sum(), df_stats_team_stats_2016['2PA'].sum(),\n",
    "                  df_stats_team_stats_2017['2PA'].sum(), df_stats_team_stats_2018['2PA'].sum()]\n",
    "df_all_team_stats['2PA'] = two_attempts\n"
   ]
  },
  {
   "cell_type": "code",
   "execution_count": null,
   "metadata": {},
   "outputs": [],
   "source": [
    "# Shows all 3PA for all teams in each year\n",
    "df_all_team_stats.plot(x='Year', y='3PA', xticks=range(19), title=\"3PA Over Past Two Decades\")\n",
    "\n",
    "f4 = plt.gcf()\n",
    "plt.gca().margins(x=0)\n",
    "f4.canvas.draw()\n",
    "tl = plt.gca().get_xticklabels()\n",
    "maxsize = max([t.get_window_extent().width for t in tl])\n",
    "m = 0.2 # inch margin\n",
    "s = maxsize/plt.gcf().dpi*19+2*m\n",
    "margin = m/plt.gcf().get_size_inches()[0]\n",
    "\n",
    "plt.gcf().subplots_adjust(left=margin, right=1.-margin)\n",
    "plt.gcf().set_size_inches(s, plt.gcf().get_size_inches()[1])"
   ]
  },
  {
   "cell_type": "code",
   "execution_count": null,
   "metadata": {},
   "outputs": [],
   "source": [
    "# Shows all 2PA vs 3PA\n",
    "df_all_team_stats.plot(x='Year', y='2PA', xticks=range(19), title=\"2PA Over Past Two Decades\")\n",
    "\n",
    "f4 = plt.gcf()\n",
    "plt.gca().margins(x=0)\n",
    "f4.canvas.draw()\n",
    "tl = plt.gca().get_xticklabels()\n",
    "maxsize = max([t.get_window_extent().width for t in tl])\n",
    "m = 0.2 # inch margin\n",
    "s = maxsize/plt.gcf().dpi*19+2*m\n",
    "margin = m/plt.gcf().get_size_inches()[0]\n",
    "\n",
    "plt.gcf().subplots_adjust(left=margin, right=1.-margin)\n",
    "plt.gcf().set_size_inches(s, plt.gcf().get_size_inches()[1])"
   ]
  },
  {
   "cell_type": "code",
   "execution_count": null,
   "metadata": {},
   "outputs": [],
   "source": [
    "# https://en.m.wikipedia.org/wiki/2011%E2%80%9312_NBA_season\n",
    "# 2011-2012 --> season was shortened from 82 games to 66 games"
   ]
  },
  {
   "cell_type": "markdown",
   "metadata": {},
   "source": [
    "## Data Analysis I"
   ]
  },
  {
   "cell_type": "markdown",
   "metadata": {},
   "source": [
    "#### Winning Team: FGA% by Distance\n",
    "\n",
    "While investigating the relation between the shooting average between each distance, we also wanted to analyze each winning team's field goal attempts sorted by distance. In order to further analyze this relation, we extracted data from all the team shooting csv files. Each team shooting csv file contains information about how well each team performed while shooting in that specific season. We first extracted the winning team for each specific season. We then extracted the field goal attempts (FGA) for different distances. These distance categories include 0 to 3 meters, 3 to 10 meters, 10 to 16 meters, 16 meters to the 3 pt line, and anything that would be categorized as a 3pt shot."
   ]
  },
  {
   "cell_type": "code",
   "execution_count": null,
   "metadata": {},
   "outputs": [],
   "source": [
    "#2000-2001 Winning Team: Los Angeles Lakers\n",
    "winning_team_00_01 = df_00_01TS.loc[df_00_01TS['Unnamed: 1'] == 'Los Angeles Lakers*']\n",
    "lakers_00_01_FGADistance_0_3 = float(df_00_01TS['Unnamed: 7'][14])\n",
    "lakers_00_01_FGADistance_3_10 = float(df_00_01TS['Unnamed: 8'][14])\n",
    "lakers_00_01_FGADistance_10_16 = float(df_00_01TS['Unnamed: 9'][14])\n",
    "lakers_00_01_FGADistance_16_3pt = float(df_00_01TS['Unnamed: 16'][14])\n",
    "lakers_00_01_FGADistance_3pt = float(df_00_01TS['Unnamed: 17'][14])\n",
    "\n",
    "\n",
    "#2001-2002 Winning Team: Los Angeles Lakers\n",
    "winning_team_01_02 = df_01_02TS.loc[df_01_02TS['Unnamed: 1'] == 'Los Angeles Lakers*']\n",
    "lakers_01_02_FGADistance_0_3 = float(df_01_02TS['Unnamed: 7'][14])\n",
    "lakers_01_02_FGADistance_3_10 = float(df_01_02TS['Unnamed: 8'][14])\n",
    "lakers_01_02_FGADistance_10_16 = float(df_01_02TS['Unnamed: 9'][14])\n",
    "lakers_01_02_FGADistance_16_3pt = float(df_01_02TS['Unnamed: 16'][14])\n",
    "lakers_01_02_FGADistance_3pt = float(df_01_02TS['Unnamed: 17'][14])\n",
    "\n",
    "#2002-2003 Winning Team: Los Angeles Lakers\n",
    "winning_team_02_03 = df_02_03TS.loc[df_02_03TS['Unnamed: 1'] == 'Los Angeles Lakers*']\n",
    "lakers_02_03_FGADistance_0_3 = float(df_02_03TS['Unnamed: 7'][14])\n",
    "lakers_02_03_FGADistance_3_10 = float(df_02_03TS['Unnamed: 8'][14])\n",
    "lakers_02_03_FGADistance_10_16 = float(df_02_03TS['Unnamed: 9'][14])\n",
    "lakers_02_03_FGADistance_16_3pt = float(df_02_03TS['Unnamed: 16'][14])\n",
    "lakers_02_03_FGADistance_3pt = float(df_02_03TS['Unnamed: 17'][14])\n",
    "\n",
    "#2003-2004 Winning Team: San Antonio Spurs\n",
    "winning_team_03_04 = df_03_04TS.loc[df_03_04TS['Unnamed: 1'] == 'San Antonio Spurs*']\n",
    "spurs_03_04_FGADistance_0_3 = float(df_03_04TS['Unnamed: 7'][26])\n",
    "spurs_03_04_FGADistance_3_10 = float(df_03_04TS['Unnamed: 8'][26])\n",
    "spurs_03_04_FGADistance_10_16 = float(df_03_04TS['Unnamed: 9'][26])\n",
    "spurs_03_04_FGADistance_16_3pt = float(df_03_04TS['Unnamed: 16'][26])\n",
    "spurs_03_04_FGADistance_3pt = float(df_03_04TS['Unnamed: 17'][26])\n",
    "\n",
    "#2004-2005 Winning Team: Detroit Pistons\n",
    "winning_team_04_05 = df_04_05TS.loc[df_04_05TS['Unnamed: 1'] == 'Detroit Pistons*']\n",
    "pistons_04_05_FGADistance_0_3 = float(df_04_05TS['Unnamed: 7'][9])\n",
    "pistons_04_05_FGADistance_3_10 = float(df_04_05TS['Unnamed: 8'][9])\n",
    "pistons_04_05_FGADistance_10_16 = float(df_04_05TS['Unnamed: 9'][9])\n",
    "pistons_04_05_FGADistance_16_3pt = float(df_04_05TS['Unnamed: 16'][9])\n",
    "pistons_04_05_FGADistance_3pt = float(df_04_05TS['Unnamed: 17'][9])\n",
    "\n",
    "#2005-2006 Winning Team: San Antonio Spurs\n",
    "winning_team_05_06 = df_05_06TS.loc[df_05_06TS['Unnamed: 1'] == 'San Antonio Spurs*']\n",
    "spurs_05_06_FGADistance_0_3 = float(df_05_06TS['Unnamed: 7'][27])\n",
    "spurs_05_06_FGADistance_3_10 = float(df_05_06TS['Unnamed: 8'][27])\n",
    "spurs_05_06_FGADistance_10_16 = float(df_05_06TS['Unnamed: 9'][27])\n",
    "spurs_05_06_FGADistance_16_3pt = float(df_05_06TS['Unnamed: 16'][27])\n",
    "spurs_05_06_FGADistance_3pt = float(df_05_06TS['Unnamed: 17'][27])\n",
    "\n",
    "#2006-2007 Winning Team: Miami Heat\n",
    "winning_team_06_07 = df_06_07TS.loc[df_06_07TS['Unnamed: 1'] == 'Miami Heat*']\n",
    "heat_06_07_FGADistance_0_3 = float(df_06_07TS['Unnamed: 7'][16])\n",
    "heat_06_07_FGADistance_3_10 = float(df_06_07TS['Unnamed: 8'][16])\n",
    "heat_06_07_FGADistance_10_16 = float(df_06_07TS['Unnamed: 9'][16])\n",
    "heat_06_07_FGADistance_16_3pt = float(df_06_07TS['Unnamed: 16'][16])\n",
    "heat_06_07_FGADistance_3pt = float(df_06_07TS['Unnamed: 17'][16])\n",
    "\n",
    "#2007-2008 Winning Team: San Antonio Spurs\n",
    "winning_team_07_08 = df_07_08TS.loc[df_07_08TS['Unnamed: 1'] == 'San Antonio Spurs*']\n",
    "spurs_07_08_FGADistance_0_3 = float(df_07_08TS['Unnamed: 7'][27])\n",
    "spurs_07_08_FGADistance_3_10 = float(df_07_08TS['Unnamed: 8'][27])\n",
    "spurs_07_08_FGADistance_10_16 = float(df_07_08TS['Unnamed: 9'][27])\n",
    "spurs_07_08_FGADistance_16_3pt = float(df_07_08TS['Unnamed: 16'][27])\n",
    "spurs_07_08_FGADistance_3pt = float(df_07_08TS['Unnamed: 17'][27])\n",
    "\n",
    "#2008-2009 Winning Team: Boston Celtics\n",
    "winning_team_08_09 = df_08_09TS.loc[df_08_09TS['Unnamed: 1'] == 'Boston Celtics*']\n",
    "celtics_08_09_FGADistance_0_3 = float(df_08_09TS['Unnamed: 7'][3])\n",
    "celtics_08_09_FGADistance_3_10 = float(df_08_09TS['Unnamed: 8'][3])\n",
    "celtics_08_09_FGADistance_10_16 = float(df_08_09TS['Unnamed: 9'][3])\n",
    "celtics_08_09_FGADistance_16_3pt = float(df_08_09TS['Unnamed: 16'][3])\n",
    "celtics_08_09_FGADistance_3pt = float(df_08_09TS['Unnamed: 17'][3])\n",
    "\n",
    "#2009-2010 Winning Team: Los Angeles Lakers\n",
    "winning_team_09_10 = df_09_10TS.loc[df_09_10TS['Unnamed: 1'] == 'Los Angeles Lakers*']\n",
    "lakers_09_10_FGADistance_0_3 = float(df_09_10TS['Unnamed: 7'][14])\n",
    "lakers_09_10_FGADistance_3_10 = float(df_09_10TS['Unnamed: 8'][14])\n",
    "lakers_09_10_FGADistance_10_16 = float(df_09_10TS['Unnamed: 9'][14])\n",
    "lakers_09_10_FGADistance_16_3pt = float(df_09_10TS['Unnamed: 16'][14])\n",
    "lakers_09_10_FGADistance_3pt = float(df_09_10TS['Unnamed: 17'][14])\n",
    "\n",
    "#2010-2011 Winning Team: Los Angeles Lakers\n",
    "winning_team_10_11 = df_10_11TS.loc[df_10_11TS['Unnamed: 1'] == 'Los Angeles Lakers*']\n",
    "lakers_10_11_FGADistance_0_3 = float(df_10_11TS['Unnamed: 7'][14])\n",
    "lakers_10_11_FGADistance_3_10 = float(df_10_11TS['Unnamed: 8'][14])\n",
    "lakers_10_11_FGADistance_10_16 = float(df_10_11TS['Unnamed: 9'][14])\n",
    "lakers_10_11_FGADistance_16_3pt = float(df_10_11TS['Unnamed: 16'][14])\n",
    "lakers_10_11_FGADistance_3pt = float(df_10_11TS['Unnamed: 17'][14])\n",
    "\n",
    "#2011-2012 Winning Team: Dallas Mavericks\n",
    "winning_team_11_12 = df_11_12TS.loc[df_11_12TS['Unnamed: 1'] == 'Dallas Mavericks*']\n",
    "mavericks_11_12_FGADistance_0_3 = float(df_11_12TS['Unnamed: 7'][7])\n",
    "mavericks_11_12_FGADistance_3_10 = float(df_11_12TS['Unnamed: 8'][7])\n",
    "mavericks_11_12_FGADistance_10_16 = float(df_11_12TS['Unnamed: 9'][7])\n",
    "mavericks_11_12_FGADistance_16_3pt = float(df_11_12TS['Unnamed: 16'][7])\n",
    "mavericks_11_12_FGADistance_3pt = float(df_11_12TS['Unnamed: 17'][7])\n",
    "\n",
    "#2012-2013 Winning Team: Miami Heat\n",
    "winning_team_12_13 = df_12_13TS.loc[df_12_13TS['Unnamed: 1'] == 'Miami Heat*']\n",
    "heat_12_13_FGADistance_0_3 = float(df_12_13TS['Unnamed: 7'][17])\n",
    "heat_12_13_FGADistance_3_10 = float(df_12_13TS['Unnamed: 8'][17])\n",
    "heat_12_13_FGADistance_10_16 = float(df_12_13TS['Unnamed: 9'][17])\n",
    "heat_12_13_FGADistance_16_3pt = float(df_12_13TS['Unnamed: 16'][17])\n",
    "heat_12_13_FGADistance_3pt = float(df_12_13TS['Unnamed: 17'][17])\n",
    "\n",
    "#2013-2014 Winning Team: Miami Heat\n",
    "winning_team_13_14 = df_13_14TS.loc[df_13_14TS['Unnamed: 1'] == 'Miami Heat*']\n",
    "heat_13_14_FGADistance_0_3 = float(df_13_14TS['Unnamed: 7'][17])\n",
    "heat_13_14_FGADistance_3_10 = float(df_13_14TS['Unnamed: 8'][17])\n",
    "heat_13_14_FGADistance_10_16 = float(df_13_14TS['Unnamed: 9'][17])\n",
    "heat_13_14_FGADistance_16_3pt = float(df_13_14TS['Unnamed: 16'][17])\n",
    "heat_13_14_FGADistance_3pt = float(df_13_14TS['Unnamed: 17'][17])\n",
    "\n",
    "#2014-2015 Winning Team: San Antonio Spurs\n",
    "winning_team_14_15 = df_14_15TS.loc[df_14_15TS['Unnamed: 1'] == 'San Antonio Spurs*']\n",
    "spurs_14_15_FGADistance_0_3 = float(df_14_15TS['Unnamed: 7'][28])\n",
    "spurs_14_15_FGADistance_3_10 = float(df_14_15TS['Unnamed: 8'][28])\n",
    "spurs_14_15_FGADistance_10_16 = float(df_14_15TS['Unnamed: 9'][28])\n",
    "spurs_14_15_FGADistance_16_3pt = float(df_14_15TS['Unnamed: 16'][28])\n",
    "spurs_14_15_FGADistance_3pt = float(df_14_15TS['Unnamed: 17'][28])\n",
    "\n",
    "#2015-2016 Winning Team: Golder State Warriors\n",
    "winning_team_15_16 = df_15_16TS.loc[df_15_16TS['Unnamed: 1'] == 'Golden State Warriors*']\n",
    "warriors_15_16_FGADistance_0_3 = float(df_15_16TS['Unnamed: 7'][11])\n",
    "warriors_15_16_FGADistance_3_10 = float(df_15_16TS['Unnamed: 8'][11])\n",
    "warriors_15_16_FGADistance_10_16 = float(df_15_16TS['Unnamed: 9'][11])\n",
    "warriors_15_16_FGADistance_16_3pt = float(df_15_16TS['Unnamed: 16'][11])\n",
    "warriors_15_16_FGADistance_3pt = float(df_15_16TS['Unnamed: 17'][11])\n",
    "\n",
    "#2016-2017 Winning Team: Cleveland Cavaliers\n",
    "winning_team_16_17 = df_16_17TS.loc[df_16_17TS['Unnamed: 1'] == 'Cleveland Cavaliers*']\n",
    "cavaliers_16_17_FGADistance_0_3 = float(df_16_17TS['Unnamed: 7'][7])\n",
    "cavaliers_16_17_FGADistance_3_10 = float(df_16_17TS['Unnamed: 8'][7])\n",
    "cavaliers_16_17_FGADistance_10_16 = float(df_16_17TS['Unnamed: 9'][7])\n",
    "cavaliers_16_17_FGADistance_16_3pt = float(df_16_17TS['Unnamed: 16'][7])\n",
    "cavaliers_16_17_FGADistance_3pt = float(df_16_17TS['Unnamed: 17'][7])\n",
    "\n",
    "#2017-2018 Winning Team: Golder State Warriors\n",
    "winning_team_17_18 = df_17_18TS.loc[df_17_18TS['Unnamed: 1'] == 'Golden State Warriors*']\n",
    "warriors_17_18_FGADistance_0_3 = float(df_17_18TS['Unnamed: 7'][11])\n",
    "warriors_17_18_FGADistance_3_10 = float(df_17_18TS['Unnamed: 8'][11])\n",
    "warriors_17_18_FGADistance_10_16 = float(df_17_18TS['Unnamed: 9'][11])\n",
    "warriors_17_18_FGADistance_16_3pt = float(df_17_18TS['Unnamed: 16'][11])\n",
    "warriors_17_18_FGADistance_3pt = float(df_17_18TS['Unnamed: 17'][11])\n",
    "\n",
    "#2018-2019 Winning Team: Golder State Warriors\n",
    "winning_team_18_19 = df_18_19TS.loc[df_18_19TS['Unnamed: 1'] == 'Golden State Warriors*']\n",
    "warriors_18_19_FGADistance_0_3 = float(df_18_19TS['Unnamed: 7'][11])\n",
    "warriors_18_19_FGADistance_3_10 = float(df_18_19TS['Unnamed: 8'][11])\n",
    "warriors_18_19_FGADistance_10_16 = float(df_18_19TS['Unnamed: 9'][11])\n",
    "warriors_18_19_FGADistance_16_3pt = float(df_18_19TS['Unnamed: 16'][11])\n",
    "warriors_18_19_FGADistance_3pt = float(df_18_19TS['Unnamed: 17'][11])"
   ]
  },
  {
   "cell_type": "markdown",
   "metadata": {},
   "source": [
    "After extracting the data from each of the individual csv files for each season, we then organized the data into a new dataframe that holds all the field goal attempts (FGA) sorted by distance for each winning team."
   ]
  },
  {
   "cell_type": "code",
   "execution_count": null,
   "metadata": {},
   "outputs": [],
   "source": [
    "winning_FG_Distance = {'Season':['2000-2001','2001-2002','2002-2003','2003-2004','2004-2005','2005-2006','2006-2007','2007-2008','2008-2009','2009-2010','2010-2011','2011-2012','2012-2013','2013-2014','2014-2015','2015-2016','2016-2017','2017-2018','2018-2019'],\n",
    "                       'Winning Team':['Los Angeles Lakers','Los Angeles Lakers','Los Angeles Lakers','San Antonio Spurs','Detroit Pistons','San Antonio Spurs','Miami Heat','San Antonio Spurs','Boston Celtics','Los Angeles Lakers','Los Angeles Lakers','Dallas Mavericks','Miami Heat','Miami Heat','San Antonio Spurs','Golden State Warriors','Cleveland Cavaliers','Golden State Warriors','Golden State Warriors'],\n",
    "                       'FG% Distance 0-3':[lakers_00_01_FGADistance_0_3,lakers_01_02_FGADistance_0_3,lakers_02_03_FGADistance_0_3,spurs_03_04_FGADistance_0_3,pistons_04_05_FGADistance_0_3,spurs_05_06_FGADistance_0_3,heat_06_07_FGADistance_0_3,spurs_07_08_FGADistance_0_3,celtics_08_09_FGADistance_0_3,lakers_09_10_FGADistance_0_3,lakers_10_11_FGADistance_0_3,mavericks_11_12_FGADistance_0_3,heat_12_13_FGADistance_0_3,heat_13_14_FGADistance_0_3,spurs_14_15_FGADistance_0_3,warriors_15_16_FGADistance_0_3,cavaliers_16_17_FGADistance_0_3,warriors_17_18_FGADistance_0_3,warriors_18_19_FGADistance_0_3],\n",
    "                       'FG% Distance 3-10':[lakers_00_01_FGADistance_3_10,lakers_01_02_FGADistance_3_10,lakers_02_03_FGADistance_3_10,spurs_03_04_FGADistance_3_10,pistons_04_05_FGADistance_3_10,spurs_05_06_FGADistance_3_10,heat_06_07_FGADistance_3_10,spurs_07_08_FGADistance_3_10,celtics_08_09_FGADistance_3_10,lakers_09_10_FGADistance_3_10,lakers_10_11_FGADistance_3_10,mavericks_11_12_FGADistance_3_10,heat_12_13_FGADistance_3_10,heat_13_14_FGADistance_3_10,spurs_14_15_FGADistance_3_10,warriors_15_16_FGADistance_3_10,cavaliers_16_17_FGADistance_3_10,warriors_17_18_FGADistance_3_10,warriors_18_19_FGADistance_3_10],\n",
    "                       'FG% Distance 10-16':[lakers_00_01_FGADistance_10_16,lakers_01_02_FGADistance_10_16,lakers_02_03_FGADistance_10_16,spurs_03_04_FGADistance_10_16,pistons_04_05_FGADistance_10_16,spurs_05_06_FGADistance_10_16,heat_06_07_FGADistance_10_16,spurs_07_08_FGADistance_10_16,celtics_08_09_FGADistance_10_16,lakers_09_10_FGADistance_10_16,lakers_10_11_FGADistance_10_16,mavericks_11_12_FGADistance_10_16,heat_12_13_FGADistance_10_16,heat_13_14_FGADistance_10_16,spurs_14_15_FGADistance_10_16,warriors_15_16_FGADistance_10_16,cavaliers_16_17_FGADistance_10_16,warriors_17_18_FGADistance_10_16,warriors_18_19_FGADistance_10_16],\n",
    "                       'FG% Distance 16-3pt':[lakers_00_01_FGADistance_16_3pt,lakers_01_02_FGADistance_16_3pt,lakers_02_03_FGADistance_16_3pt,spurs_03_04_FGADistance_16_3pt,pistons_04_05_FGADistance_16_3pt,spurs_05_06_FGADistance_16_3pt,heat_06_07_FGADistance_16_3pt,spurs_07_08_FGADistance_16_3pt,celtics_08_09_FGADistance_16_3pt,lakers_09_10_FGADistance_16_3pt,lakers_10_11_FGADistance_16_3pt,mavericks_11_12_FGADistance_16_3pt,heat_12_13_FGADistance_16_3pt,heat_13_14_FGADistance_16_3pt,spurs_14_15_FGADistance_16_3pt,warriors_15_16_FGADistance_16_3pt,cavaliers_16_17_FGADistance_16_3pt,warriors_17_18_FGADistance_16_3pt,warriors_18_19_FGADistance_16_3pt],\n",
    "                       'FG% Distance 3pt':[lakers_00_01_FGADistance_3pt,lakers_01_02_FGADistance_3pt,lakers_02_03_FGADistance_3pt,spurs_03_04_FGADistance_3pt,pistons_04_05_FGADistance_3pt,spurs_05_06_FGADistance_3pt,heat_06_07_FGADistance_3pt,spurs_07_08_FGADistance_3pt,celtics_08_09_FGADistance_3pt,lakers_09_10_FGADistance_3pt,lakers_10_11_FGADistance_3pt,mavericks_11_12_FGADistance_3pt,heat_12_13_FGADistance_3pt,heat_13_14_FGADistance_3pt,spurs_14_15_FGADistance_3pt,warriors_15_16_FGADistance_3pt,cavaliers_16_17_FGADistance_3pt,warriors_17_18_FGADistance_3pt,warriors_18_19_FGADistance_3pt]}\n",
    "winning_avg_FG = pd.DataFrame(winning_FG_Distance)"
   ]
  },
  {
   "cell_type": "code",
   "execution_count": null,
   "metadata": {},
   "outputs": [],
   "source": [
    "winning_avg_FG"
   ]
  },
  {
   "cell_type": "markdown",
   "metadata": {},
   "source": [
    "After creating the data frame, we then created a time series plot that represents how the field goal attempt percentage fluctuated from 2000 to 2018. On the x-axis, there exists a label that shows each NBA season from 2000 to 2018. The y-axis measures the field goal attempt percentage.  "
   ]
  },
  {
   "cell_type": "code",
   "execution_count": null,
   "metadata": {},
   "outputs": [],
   "source": [
    "#Fixes the x axis label of the plot\n",
    "winning_x_axis = ['2000','2001','2002','2003','2004','2005','2006','2007','2008','2009','2010','2011','2012','2013','2014','2015','2016','2017','2018']\n",
    "\n",
    "#Creates a plot showing the field goal attempt averages in each categorized distance\n",
    "plt.figure(figsize=(15,5))\n",
    "plt.plot(winning_x_axis,winning_avg_FG['FG% Distance 0-3'],label='FG% 0-3 m')\n",
    "plt.plot(winning_avg_FG['FG% Distance 3-10'],label='FG% 3-10 m')\n",
    "plt.plot(winning_avg_FG['FG% Distance 10-16'], label='FG% 10-16 m')\n",
    "plt.plot(winning_avg_FG['FG% Distance 16-3pt'], label='FG% 16 m-3pt')\n",
    "plt.plot(winning_avg_FG['FG% Distance 3pt'], label='FG% 3pt')\n",
    "plt.title('Winning Team FGA% Average by Distance')\n",
    "plt.xlabel('Seasons')\n",
    "plt.ylabel('FG%')\n",
    "plt.legend()\n",
    "plt.show()"
   ]
  },
  {
   "cell_type": "markdown",
   "metadata": {},
   "source": [
    "By creating the plot, we are able to visualize and identify a gradual increase of field goal percentage for both shots taken within the distances of: 16 meters to the 3pt line and 3pt shots. We also find a noticeable decrease of field goal attempts for shots taken within the range of 3-10 meters. This visualization depicts the possibility that over the last 20 decades, NBA winning teams may have shifted their field goal attempts to further distances and decreased their likelihood of shooting at shorter distances."
   ]
  },
  {
   "cell_type": "markdown",
   "metadata": {},
   "source": [
    "#### Winning Team: Average Distance\n",
    "\n",
    "In order to determine the distinct differences in terms of distances for every shot made, we have to look at the average distance for every team. However, we are only going to be specifically looking at each winning team's average distance per shot made. By analyzing this data, we are able to determine whether the average distance increases over time. To obtain this data, we extracted the average distance for each winning team located in the team shooting csv file."
   ]
  },
  {
   "cell_type": "code",
   "execution_count": null,
   "metadata": {},
   "outputs": [],
   "source": [
    "#Calculates the average distance for every winnning team from NBA Seasons: 2000 to 2018\n",
    "lakers_00_01_avg_distance = float(df_00_01TS['Unnamed: 5'][14])\n",
    "lakers_01_02_avg_distance = float(df_01_02TS['Unnamed: 5'][14])\n",
    "lakers_02_03_avg_distance = float(df_02_03TS['Unnamed: 5'][14])\n",
    "spurs_03_04_avg_distance = float(df_03_04TS['Unnamed: 5'][26])\n",
    "pistons_04_05_avg_distance = float(df_04_05TS['Unnamed: 5'][9])\n",
    "spurs_05_06_avg_distance = float(df_05_06TS['Unnamed: 5'][27])\n",
    "heat_06_07_avg_distance = float(df_06_07TS['Unnamed: 5'][16])\n",
    "spurs_07_08_avg_distance = float(df_07_08TS['Unnamed: 5'][27])\n",
    "celtics_08_09_avg_distance = float(df_08_09TS['Unnamed: 5'][3])\n",
    "lakers_09_10_avg_distance = float(df_09_10TS['Unnamed: 5'][14])\n",
    "lakers_10_11_avg_distance = float(df_10_11TS['Unnamed: 5'][14])\n",
    "mavericks_11_12_avg_distance = float(df_11_12TS['Unnamed: 5'][7])\n",
    "heat_12_13_avg_distance = float(df_12_13TS['Unnamed: 5'][17])\n",
    "heat_13_14_avg_distance = float(df_13_14TS['Unnamed: 5'][17])\n",
    "spurs_14_15_avg_distance = float(df_14_15TS['Unnamed: 5'][28])\n",
    "warriors_15_16_avg_distance = float(df_15_16TS['Unnamed: 5'][11])\n",
    "cavaliers_16_17_avg_distance = float(df_16_17TS['Unnamed: 5'][7])\n",
    "warriors_17_18_avg_distance = float(df_17_18TS['Unnamed: 5'][11])\n",
    "warriors_18_19_avg_distance = float(df_18_19TS['Unnamed: 5'][11])"
   ]
  },
  {
   "cell_type": "markdown",
   "metadata": {},
   "source": [
    "After gathering the average distance for every winning team, we organized the data into a new dataframe. This dataframe contains information about each winning team for every NBA season and contains the average distance for every winning team."
   ]
  },
  {
   "cell_type": "code",
   "execution_count": null,
   "metadata": {},
   "outputs": [],
   "source": [
    "winning_avg_distance = {'Season':['2000-2001','2001-2002','2002-2003','2003-2004','2004-2005','2005-2006','2006-2007','2007-2008','2008-2009','2009-2010','2010-2011','2011-2012','2012-2013','2013-2014','2014-2015','2015-2016','2016-2017','2017-2018','2018-2019'],\n",
    "                       'Winning Team':['Los Angeles Lakers','Los Angeles Lakers','Los Angeles Lakers','San Antonio Spurs','Detroit Pistons','San Antonio Spurs','Miami Heat','San Antonio Spurs','Boston Celtics','Los Angeles Lakers','Los Angeles Lakers','Dallas Mavericks','Miami Heat','Miami Heat','San Antonio Spurs','Golden State Warriors','Cleveland Cavaliers','Golden State Warriors','Golden State Warriors'],\n",
    "                       'Average Distance':[lakers_00_01_avg_distance, lakers_01_02_avg_distance, lakers_02_03_avg_distance, spurs_03_04_avg_distance,pistons_04_05_avg_distance, spurs_05_06_avg_distance, heat_06_07_avg_distance, spurs_07_08_avg_distance, celtics_08_09_avg_distance, lakers_09_10_avg_distance, lakers_10_11_avg_distance, mavericks_11_12_avg_distance, heat_12_13_avg_distance , heat_13_14_avg_distance, spurs_14_15_avg_distance , warriors_15_16_avg_distance, cavaliers_16_17_avg_distance, warriors_17_18_avg_distance, warriors_18_19_avg_distance ]}\n",
    "winning_avg_distance = pd.DataFrame(winning_avg_distance) "
   ]
  },
  {
   "cell_type": "code",
   "execution_count": null,
   "metadata": {},
   "outputs": [],
   "source": [
    "winning_avg_distance"
   ]
  },
  {
   "cell_type": "markdown",
   "metadata": {},
   "source": [
    "By organizing the data, we are able to efficiently create a line plot that depicts the possible trends of how the winning team's average distance of a shot has changed over the last two decades. In the plot's x-axis, we have each season and on the y axis we have the average distance in meters."
   ]
  },
  {
   "cell_type": "code",
   "execution_count": null,
   "metadata": {},
   "outputs": [],
   "source": [
    "plt.figure(figsize=(15,5))\n",
    "plt.plot(winning_x_axis,winning_avg_distance['Average Distance'],label='Distance (m)')\n",
    "plt.title('Winning Team: Average Distance')\n",
    "plt.xlabel('Seasons')\n",
    "plt.ylabel('Average Distance (m)')\n",
    "plt.legend()\n",
    "plt.show()"
   ]
  },
  {
   "cell_type": "markdown",
   "metadata": {},
   "source": [
    "From the line plot we can gather that there is a cyclic behavior. Roughly every 3-5 years the winning team's average distance peaks, then decreases, and then creates a higher peak. Comparing both the 2000 season and 2018 season, you could tell that there is a significant increase in the winning team's average distance. This difference is roughly 3 meters. After analyzing this visualization, the evidence proposes that the winning team's average distance has significantly increased over the last 2 decades."
   ]
  },
  {
   "cell_type": "markdown",
   "metadata": {},
   "source": [
    "## Data Analysis II"
   ]
  },
  {
   "cell_type": "markdown",
   "metadata": {},
   "source": [
    "We then need to read in the datasets and clean the data.\n",
    "We can remove all of the columns we do not need so we are left with a dataframe that only consists of the team and the statistics of their 2P shots made, midrange shots made, and 3P shots made.\n",
    "Then, we need to rename the columns so they are readable and reset the indices in the dataframe to finish cleaning the data. The following cells read in the datasets and clean the data for the years 2000 to 2018."
   ]
  },
  {
   "cell_type": "code",
   "execution_count": null,
   "metadata": {},
   "outputs": [],
   "source": [
    "df_2000 = pd.read_csv('00-01_team_shooting.csv')\n",
    "df_2000 = df_2000[['Unnamed: 1', 'Unnamed: 12', 'Unnamed: 15', 'Unnamed: 17']]\n",
    "df_2000.columns = ['Team', '% 2P Shots Made', '% Midrange Shots(10-16ft) Made', '% 3P Shots Made']\n",
    "df_2000 = df_2000.drop([0, 1])\n",
    "df_2000 = df_2000.reset_index(drop = True)"
   ]
  },
  {
   "cell_type": "code",
   "execution_count": null,
   "metadata": {},
   "outputs": [],
   "source": [
    "df_2001 = pd.read_csv('01-02_team_shooting.csv')\n",
    "df_2001 = df_2001[['Unnamed: 1', 'Unnamed: 12', 'Unnamed: 15', 'Unnamed: 17']]\n",
    "df_2001.columns = ['Team', '% 2P Shots Made', '% Midrange Shots(10-16ft) Made', '% 3P Shots Made']\n",
    "df_2001 = df_2001.drop([0, 1])\n",
    "df_2001 = df_2001.reset_index(drop = True)"
   ]
  },
  {
   "cell_type": "code",
   "execution_count": null,
   "metadata": {},
   "outputs": [],
   "source": [
    "df_2002 = pd.read_csv('02-03_team_shooting.csv')\n",
    "df_2002 = df_2002[['Unnamed: 1', 'Unnamed: 12', 'Unnamed: 15', 'Unnamed: 17']]\n",
    "df_2002.columns = ['Team', '% 2P Shots Made', '% Midrange Shots(10-16ft) Made', '% 3P Shots Made']\n",
    "df_2002 = df_2002.drop([0, 1])\n",
    "df_2002 = df_2002.reset_index(drop = True)"
   ]
  },
  {
   "cell_type": "code",
   "execution_count": null,
   "metadata": {},
   "outputs": [],
   "source": [
    "df_2003 = pd.read_csv('03-04_team_shooting.csv')\n",
    "df_2003 = df_2003[['Unnamed: 1', 'Unnamed: 12', 'Unnamed: 15', 'Unnamed: 17']]\n",
    "df_2003.columns = ['Team', '% 2P Shots Made', '% Midrange Shots(10-16ft) Made', '% 3P Shots Made']\n",
    "df_2003 = df_2003.drop([0, 1])\n",
    "df_2003 = df_2003.reset_index(drop = True)"
   ]
  },
  {
   "cell_type": "code",
   "execution_count": null,
   "metadata": {},
   "outputs": [],
   "source": [
    "df_2004 = pd.read_csv('04-05_team_shooting.csv')\n",
    "df_2004 = df_2004[['Unnamed: 1', 'Unnamed: 12', 'Unnamed: 15', 'Unnamed: 17']]\n",
    "df_2004.columns = ['Team', '% 2P Shots Made', '% Midrange Shots(10-16ft) Made', '% 3P Shots Made']\n",
    "df_2004 = df_2004.drop([0, 1])\n",
    "df_2004 = df_2004.reset_index(drop = True)"
   ]
  },
  {
   "cell_type": "code",
   "execution_count": null,
   "metadata": {},
   "outputs": [],
   "source": [
    "df_2005 = pd.read_csv('05-06_team_shooting.csv')\n",
    "df_2005 = df_2005[['Unnamed: 1', 'Unnamed: 12', 'Unnamed: 15', 'Unnamed: 17']]\n",
    "df_2005.columns = ['Team', '% 2P Shots Made', '% Midrange Shots(10-16ft) Made', '% 3P Shots Made']\n",
    "df_2005 = df_2005.drop([0, 1])\n",
    "df_2005 = df_2005.reset_index(drop = True)"
   ]
  },
  {
   "cell_type": "code",
   "execution_count": null,
   "metadata": {},
   "outputs": [],
   "source": [
    "df_2006 = pd.read_csv('06-07_team_shooting.csv')\n",
    "df_2006 = df_2006[['Unnamed: 1', 'Unnamed: 12', 'Unnamed: 15', 'Unnamed: 17']]\n",
    "df_2006.columns = ['Team', '% 2P Shots Made', '% Midrange Shots(10-16ft) Made', '% 3P Shots Made']\n",
    "df_2006 = df_2006.drop([0, 1])\n",
    "df_2006 = df_2006.reset_index(drop = True)"
   ]
  },
  {
   "cell_type": "code",
   "execution_count": null,
   "metadata": {},
   "outputs": [],
   "source": [
    "df_2007 = pd.read_csv('07-08_team_shooting.csv')\n",
    "df_2007 = df_2007[['Unnamed: 1', 'Unnamed: 12', 'Unnamed: 15', 'Unnamed: 17']]\n",
    "df_2007.columns = ['Team', '% 2P Shots Made', '% Midrange Shots(10-16ft) Made', '% 3P Shots Made']\n",
    "df_2007 = df_2007.drop([0, 1])\n",
    "df_2007 = df_2007.reset_index(drop = True)"
   ]
  },
  {
   "cell_type": "code",
   "execution_count": null,
   "metadata": {},
   "outputs": [],
   "source": [
    "df_2008 = pd.read_csv('08-09_team_shooting.csv')\n",
    "df_2008 = df_2008[['Unnamed: 1', 'Unnamed: 12', 'Unnamed: 15', 'Unnamed: 17']]\n",
    "df_2008.columns = ['Team', '% 2P Shots Made', '% Midrange Shots(10-16ft) Made', '% 3P Shots Made']\n",
    "df_2008 = df_2008.drop([0, 1])\n",
    "df_2008 = df_2008.reset_index(drop = True)"
   ]
  },
  {
   "cell_type": "code",
   "execution_count": null,
   "metadata": {},
   "outputs": [],
   "source": [
    "df_2009 = pd.read_csv('09-10_team_shooting.csv')\n",
    "df_2009 = df_2009[['Unnamed: 1', 'Unnamed: 12', 'Unnamed: 15', 'Unnamed: 17']]\n",
    "df_2009.columns = ['Team', '% 2P Shots Made', '% Midrange Shots(10-16ft) Made', '% 3P Shots Made']\n",
    "df_2009 = df_2009.drop([0, 1])\n",
    "df_2009 = df_2009.reset_index(drop = True)"
   ]
  },
  {
   "cell_type": "code",
   "execution_count": null,
   "metadata": {},
   "outputs": [],
   "source": [
    "df_2010 = pd.read_csv('10-11_team_shooting.csv')\n",
    "df_2010 = df_2010[['Unnamed: 1', 'Unnamed: 12', 'Unnamed: 15', 'Unnamed: 17']]\n",
    "df_2010.columns = ['Team', '% 2P Shots Made', '% Midrange Shots(10-16ft) Made', '% 3P Shots Made']\n",
    "df_2010 = df_2010.drop([0, 1])\n",
    "df_2010 = df_2010.reset_index(drop = True)"
   ]
  },
  {
   "cell_type": "code",
   "execution_count": null,
   "metadata": {},
   "outputs": [],
   "source": [
    "df_2011 = pd.read_csv('11-12_team_shooting.csv')\n",
    "df_2011 = df_2011[['Unnamed: 1', 'Unnamed: 12', 'Unnamed: 15', 'Unnamed: 17']]\n",
    "df_2011.columns = ['Team', '% 2P Shots Made', '% Midrange Shots(10-16ft) Made', '% 3P Shots Made']\n",
    "df_2011 = df_2011.drop([0, 1])\n",
    "df_2011 = df_2011.reset_index(drop = True)"
   ]
  },
  {
   "cell_type": "code",
   "execution_count": null,
   "metadata": {},
   "outputs": [],
   "source": [
    "df_2012 = pd.read_csv('12-13_team_shooting.csv')\n",
    "df_2012 = df_2012[['Unnamed: 1', 'Unnamed: 12', 'Unnamed: 15', 'Unnamed: 17']]\n",
    "df_2012.columns = ['Team', '% 2P Shots Made', '% Midrange Shots(10-16ft) Made', '% 3P Shots Made']\n",
    "df_2012 = df_2012.drop([0, 1])\n",
    "df_2012 = df_2012.reset_index(drop = True)"
   ]
  },
  {
   "cell_type": "code",
   "execution_count": null,
   "metadata": {},
   "outputs": [],
   "source": [
    "df_2013 = pd.read_csv('13-14_team_shooting.csv')\n",
    "df_2013 = df_2013[['Unnamed: 1', 'Unnamed: 12', 'Unnamed: 15', 'Unnamed: 17']]\n",
    "df_2013.columns = ['Team', '% 2P Shots Made', '% Midrange Shots(10-16ft) Made', '% 3P Shots Made']\n",
    "df_2013 = df_2013.drop([0, 1])\n",
    "df_2013 = df_2013.reset_index(drop = True)"
   ]
  },
  {
   "cell_type": "code",
   "execution_count": null,
   "metadata": {},
   "outputs": [],
   "source": [
    "df_2014 = pd.read_csv('14-15_team_shooting.csv')\n",
    "df_2014 = df_2014[['Unnamed: 1', 'Unnamed: 12', 'Unnamed: 15', 'Unnamed: 17']]\n",
    "df_2014.columns = ['Team', '% 2P Shots Made', '% Midrange Shots(10-16ft) Made', '% 3P Shots Made']\n",
    "df_2014 = df_2014.drop([0, 1])\n",
    "df_2014 = df_2014.reset_index(drop = True)"
   ]
  },
  {
   "cell_type": "code",
   "execution_count": null,
   "metadata": {},
   "outputs": [],
   "source": [
    "df_2015 = pd.read_csv('15-16_team_shooting.csv')\n",
    "df_2015 = df_2015[['Unnamed: 1', 'Unnamed: 12', 'Unnamed: 15', 'Unnamed: 17']]\n",
    "df_2015.columns = ['Team', '% 2P Shots Made', '% Midrange Shots(10-16ft) Made', '% 3P Shots Made']\n",
    "df_2015 = df_2015.drop([0, 1])\n",
    "df_2015 = df_2015.reset_index(drop = True)"
   ]
  },
  {
   "cell_type": "code",
   "execution_count": null,
   "metadata": {},
   "outputs": [],
   "source": [
    "df_2016 = pd.read_csv('16-17_team_shooting.csv')\n",
    "df_2016 = df_2016[['Unnamed: 1', 'Unnamed: 12', 'Unnamed: 15', 'Unnamed: 17']]\n",
    "df_2016.columns = ['Team', '% 2P Shots Made', '% Midrange Shots(10-16ft) Made', '% 3P Shots Made']\n",
    "df_2016 = df_2016.drop([0, 1])\n",
    "df_2016 = df_2016.reset_index(drop = True)"
   ]
  },
  {
   "cell_type": "code",
   "execution_count": null,
   "metadata": {},
   "outputs": [],
   "source": [
    "df_2017 = pd.read_csv('17-18_team_shooting.csv')\n",
    "df_2017 = df_2017[['Unnamed: 1', 'Unnamed: 12', 'Unnamed: 15', 'Unnamed: 17']]\n",
    "df_2017.columns = ['Team', '% 2P Shots Made', '% Midrange Shots(10-16ft) Made', '% 3P Shots Made']\n",
    "df_2017 = df_2017.drop([0, 1])\n",
    "df_2017 = df_2017.reset_index(drop = True)"
   ]
  },
  {
   "cell_type": "code",
   "execution_count": null,
   "metadata": {},
   "outputs": [],
   "source": [
    "df_2018 = pd.read_csv('18-19_team_shooting.csv')\n",
    "df_2018 = df_2018[['Unnamed: 1', 'Unnamed: 12', 'Unnamed: 15', 'Unnamed: 17']]\n",
    "df_2018.columns = ['Team', '% 2P Shots Made', '% Midrange Shots(10-16ft) Made', '% 3P Shots Made']\n",
    "df_2018 = df_2018.drop([0, 1])\n",
    "df_2018 = df_2018.reset_index(drop = True)"
   ]
  },
  {
   "cell_type": "markdown",
   "metadata": {},
   "source": [
    "An example of the dataframes is as follows (taken from the 2018 data):"
   ]
  },
  {
   "cell_type": "code",
   "execution_count": null,
   "metadata": {},
   "outputs": [],
   "source": [
    "df_2018"
   ]
  },
  {
   "cell_type": "markdown",
   "metadata": {},
   "source": [
    "Now we are ready to plot the data and run linear regressions to visually determine if there is a trend in the data over the past two decades. "
   ]
  },
  {
   "cell_type": "code",
   "execution_count": null,
   "metadata": {},
   "outputs": [],
   "source": [
    "#add the years to the dataframe and set the shot values as numeric values\n",
    "percent2PData = {'year' : [2000, 2001, 2002, 2003, 2004, 2005, 2006, 2007, 2008, 2009, 2010, 2011, 2012, 2013, 2014, 2015, 2016, 2017, 2018],\n",
    "                 '% 2P Shots Made': [df_2000.iloc[-1]['% 2P Shots Made'], df_2001.iloc[-1]['% 2P Shots Made'], df_2002.iloc[-1]['% 2P Shots Made'], df_2003.iloc[-1]['% 2P Shots Made'], df_2004.iloc[-1]['% 2P Shots Made'], df_2005.iloc[-1]['% 2P Shots Made'], df_2006.iloc[-1]['% 2P Shots Made'], df_2007.iloc[-1]['% 2P Shots Made'], df_2008.iloc[-1]['% 2P Shots Made'], df_2009.iloc[-1]['% 2P Shots Made'], df_2010.iloc[-1]['% 2P Shots Made'], df_2011.iloc[-1]['% 2P Shots Made'], df_2012.iloc[-1]['% 2P Shots Made'], df_2013.iloc[-1]['% 2P Shots Made'], df_2014.iloc[-1]['% 2P Shots Made'], df_2015.iloc[-1]['% 2P Shots Made'], df_2016.iloc[-1]['% 2P Shots Made'], df_2017.iloc[-1]['% 2P Shots Made'], df_2018.iloc[-1]['% 2P Shots Made']],}\n",
    "df_2PMade = pd.DataFrame(percent2PData)\n",
    "df_2PMade['% 2P Shots Made'] = pd.to_numeric(df_2PMade['% 2P Shots Made'])\n",
    "\n",
    "#plot points\n",
    "df_2PMade.plot.scatter(x='year', y='% 2P Shots Made')\n",
    "\n",
    "#plot regression line\n",
    "a1, b1 = np.polyfit(df_2PMade['year'], df_2PMade['% 2P Shots Made'], 1)\n",
    "x1 = np.arange(2000, 2019, 1)\n",
    "y1 = a1 * x1 + b1\n",
    "plt.plot(x1, y1, color='red')"
   ]
  },
  {
   "cell_type": "markdown",
   "metadata": {},
   "source": [
    "There appears to be a strong trend of the data as linear regression shows a promising upward trend, but we will need to perform more tests to be sure."
   ]
  },
  {
   "cell_type": "code",
   "execution_count": null,
   "metadata": {},
   "outputs": [],
   "source": [
    "#add the years to the dataframe and set the shot values as numeric values\n",
    "percentMidrangeData = {'year' : [2000, 2001, 2002, 2003, 2004, 2005, 2006, 2007, 2008, 2009, 2010, 2011, 2012, 2013, 2014, 2015, 2016, 2017, 2018],\n",
    "                       '% Midrange Shots Made': [df_2000.iloc[-1]['% Midrange Shots(10-16ft) Made'], df_2001.iloc[-1]['% Midrange Shots(10-16ft) Made'], df_2002.iloc[-1]['% Midrange Shots(10-16ft) Made'], df_2003.iloc[-1]['% Midrange Shots(10-16ft) Made'], df_2004.iloc[-1]['% Midrange Shots(10-16ft) Made'], df_2005.iloc[-1]['% Midrange Shots(10-16ft) Made'], df_2006.iloc[-1]['% Midrange Shots(10-16ft) Made'], df_2007.iloc[-1]['% Midrange Shots(10-16ft) Made'], df_2008.iloc[-1]['% Midrange Shots(10-16ft) Made'], df_2009.iloc[-1]['% Midrange Shots(10-16ft) Made'], df_2010.iloc[-1]['% Midrange Shots(10-16ft) Made'], df_2011.iloc[-1]['% Midrange Shots(10-16ft) Made'], df_2012.iloc[-1]['% Midrange Shots(10-16ft) Made'], df_2013.iloc[-1]['% Midrange Shots(10-16ft) Made'], df_2014.iloc[-1]['% Midrange Shots(10-16ft) Made'], df_2015.iloc[-1]['% Midrange Shots(10-16ft) Made'], df_2016.iloc[-1]['% Midrange Shots(10-16ft) Made'], df_2017.iloc[-1]['% Midrange Shots(10-16ft) Made'], df_2018.iloc[-1]['% Midrange Shots(10-16ft) Made']]}\n",
    "df_MidrangeMade = pd.DataFrame(percentMidrangeData)\n",
    "df_MidrangeMade['% Midrange Shots Made'] = pd.to_numeric(df_MidrangeMade['% Midrange Shots Made'])\n",
    "\n",
    "#plot points\n",
    "df_MidrangeMade.plot.scatter(x='year', y='% Midrange Shots Made')\n",
    "\n",
    "#plot regression line\n",
    "a2, b2 = np.polyfit(df_MidrangeMade['year'], df_MidrangeMade['% Midrange Shots Made'], 1)\n",
    "x2 = np.arange(2000, 2019, 1)\n",
    "y2 = a2 * x2 + b2\n",
    "plt.plot(x2, y2, color='red')"
   ]
  },
  {
   "cell_type": "markdown",
   "metadata": {},
   "source": [
    "Similar to the graph for 2P shots, there appears to be a strong trend of the data as linear regression shows a promising upward trend, but we will need to perform more tests to be sure."
   ]
  },
  {
   "cell_type": "code",
   "execution_count": null,
   "metadata": {},
   "outputs": [],
   "source": [
    "#add the years to the dataframe and set the shot values as numeric values\n",
    "percent3PData = {'year' : [2000, 2001, 2002, 2003, 2004, 2005, 2006, 2007, 2008, 2009, 2010, 2011, 2012, 2013, 2014, 2015, 2016, 2017, 2018],\n",
    "                 '% 3P Shots Made': [df_2000.iloc[-1]['% 3P Shots Made'], df_2001.iloc[-1]['% 3P Shots Made'], df_2002.iloc[-1]['% 3P Shots Made'], df_2003.iloc[-1]['% 3P Shots Made'], df_2004.iloc[-1]['% 3P Shots Made'], df_2005.iloc[-1]['% 3P Shots Made'], df_2006.iloc[-1]['% 3P Shots Made'], df_2007.iloc[-1]['% 3P Shots Made'], df_2008.iloc[-1]['% 3P Shots Made'], df_2009.iloc[-1]['% 3P Shots Made'], df_2010.iloc[-1]['% 3P Shots Made'], df_2011.iloc[-1]['% 3P Shots Made'], df_2012.iloc[-1]['% 3P Shots Made'], df_2013.iloc[-1]['% 3P Shots Made'], df_2014.iloc[-1]['% 3P Shots Made'], df_2015.iloc[-1]['% 3P Shots Made'], df_2016.iloc[-1]['% 3P Shots Made'], df_2017.iloc[-1]['% 3P Shots Made'], df_2018.iloc[-1]['% 3P Shots Made']]}\n",
    "df_3PMade = pd.DataFrame(percent3PData)\n",
    "df_3PMade['% 3P Shots Made'] = pd.to_numeric(df_3PMade['% 3P Shots Made'])\n",
    "\n",
    "#plot points\n",
    "df_3PMade.plot.scatter(x='year', y='% 3P Shots Made')\n",
    "\n",
    "#plot regression line\n",
    "a3, b3 = np.polyfit(df_3PMade['year'], df_3PMade['% 3P Shots Made'], 1)\n",
    "x3 = np.arange(2000, 2019, 1)\n",
    "y3 = a3 * x3 + b3\n",
    "plt.plot(x3, y3, color='red')"
   ]
  },
  {
   "cell_type": "markdown",
   "metadata": {},
   "source": [
    "Unlike the graphs for 2P shots and midrange shots, there does not appears to be a strong trend of the data. There does seem to be a slight favor for increasing percentage of 3P shots made, but we will need to perform more tests to be sure."
   ]
  },
  {
   "cell_type": "code",
   "execution_count": null,
   "metadata": {},
   "outputs": [],
   "source": [
    "#plot all three data sets in one graph\n",
    "plt.plot( df_2PMade['year'], df_2PMade['% 2P Shots Made'], marker = 'o', color = 'red', label = '2P')\n",
    "plt.plot( df_MidrangeMade['year'], df_MidrangeMade['% Midrange Shots Made'], marker='o', color = 'green', label = 'Midrange')\n",
    "plt.plot( df_3PMade['year'], df_3PMade['% 3P Shots Made'], marker='o', color = 'blue', label = '3P')\n",
    "plt.legend()"
   ]
  },
  {
   "cell_type": "markdown",
   "metadata": {},
   "source": [
    "Overlaying all of the data from the three different distances from the hoop more easily illustrates the changes within the distances and well as the relative change between the distances. It appears as if the 2P shots distances are experiencing the largest change, with an increase in shots made as time progresses. The midrange shot also seems to have an increase in popularity in term of shots made as it begins at 0.385% in 2000 and becomes 0.413% in 2018. However, the 3P shot experiences the least amount of change out of the three shot distances - it changes only from 0.354% made in 2000 to 0.355% made in 2018. \n",
    "\n",
    "We can run a ttest on the separate three separate data for 2P, midrange, and 3P shots to determine whether or not there is a significant difference between the average percent of shots made in the past versus the current time. We will split the data into two groups for all of the shot distances: one group ranging from 2000 to 2009 and another group ranging from 2010 to 2018."
   ]
  },
  {
   "cell_type": "code",
   "execution_count": null,
   "metadata": {},
   "outputs": [],
   "source": [
    "#run a ttest on the first half versus second half of data\n",
    "ttest_ind(df_2PMade['% 2P Shots Made'][:10], df_2PMade['% 2P Shots Made'][10:])"
   ]
  },
  {
   "cell_type": "markdown",
   "metadata": {},
   "source": [
    "From the pvalue of 0.00454 (0.00454 < 0.01) we can see that there is a significant difference in the data. The percentage of 2P shots made has increased since the past two decades."
   ]
  },
  {
   "cell_type": "code",
   "execution_count": null,
   "metadata": {},
   "outputs": [],
   "source": [
    "#run a ttest on the first half versus second half of data\n",
    "ttest_ind(df_MidrangeMade['% Midrange Shots Made'][:10], df_MidrangeMade['% Midrange Shots Made'][10:])"
   ]
  },
  {
   "cell_type": "markdown",
   "metadata": {},
   "source": [
    "From the pvalue of 0.000866 (0.000866 < 0.01) we can see that there is a significant difference in the data. The percentage of midrange shots made has increased since the past two decades."
   ]
  },
  {
   "cell_type": "code",
   "execution_count": null,
   "metadata": {},
   "outputs": [],
   "source": [
    "#run a ttest on the first half versus second half of data\n",
    "ttest_ind(df_3PMade['% 3P Shots Made'][:10], df_3PMade['% 3P Shots Made'][10:])"
   ]
  },
  {
   "cell_type": "markdown",
   "metadata": {},
   "source": [
    "From the pvalue of 0.964 (0.964 > 0.01) we can see that there is NOT a significant difference in the data. The percentage of 3P shots made has stayed fairly consistent the past two decades."
   ]
  },
  {
   "cell_type": "markdown",
   "metadata": {},
   "source": [
    "## Data Analysis III"
   ]
  },
  {
   "cell_type": "markdown",
   "metadata": {},
   "source": [
    "This analysis will mostly focus on the amount of three-pointers attempted vs. the amount of three pointers made and also the amount of three pointers vs. total shots.\n",
    "\n",
    "Before any analysis can be done, we must first import everything we need."
   ]
  },
  {
   "cell_type": "code",
   "execution_count": null,
   "metadata": {},
   "outputs": [],
   "source": [
    "# Configure libraries\n",
    "# The seaborn library makes plots look nicer\n",
    "sns.set()\n",
    "sns.set_context('talk')\n",
    "\n",
    "# Round decimals when displaying DataFrames\n",
    "pd.set_option('precision', 2)"
   ]
  },
  {
   "cell_type": "markdown",
   "metadata": {},
   "source": [
    "Here we can take a look at the type of data we are working with."
   ]
  },
  {
   "cell_type": "code",
   "execution_count": null,
   "metadata": {},
   "outputs": [],
   "source": [
    "df_test = pd.read_csv(\"00-01_team_stats.csv\")\n",
    "df_test"
   ]
  },
  {
   "cell_type": "markdown",
   "metadata": {},
   "source": [
    "That is quite alot of data. For the purposes of looking at the league generally, we will only need the league averages from each DataFrame. Here, we will extract the information necessary."
   ]
  },
  {
   "cell_type": "code",
   "execution_count": null,
   "metadata": {},
   "outputs": [],
   "source": [
    "#Load in all the dataframes for the years 2000-2019\n",
    "#Use the tail function in order to only grab the league average (the only row we are concerned with)\n",
    "df_0 = pd.read_csv(\"00-01_team_stats.csv\").tail(1);\n",
    "df_1 = pd.read_csv(\"01-02_team_stats.csv\").tail(1);\n",
    "df_2 = pd.read_csv(\"02-03_team_stats.csv\").tail(1);\n",
    "df_3 = pd.read_csv(\"03-04_team_stats.csv\").tail(1);\n",
    "df_4 = pd.read_csv(\"04-05_team_stats.csv\").tail(1);\n",
    "df_5 = pd.read_csv(\"05-06_team_stats.csv\").tail(1);\n",
    "df_6 = pd.read_csv(\"06-07_team_stats.csv\").tail(1);\n",
    "df_7 = pd.read_csv(\"07-08_team_stats.csv\").tail(1);\n",
    "df_8 = pd.read_csv(\"08-09_team_stats.csv\").tail(1);\n",
    "df_9 = pd.read_csv(\"09-10_team_stats.csv\").tail(1);\n",
    "df_10 = pd.read_csv(\"10-11_team_stats.csv\").tail(1);\n",
    "df_11 = pd.read_csv(\"11-12_team_stats.csv\").tail(1);\n",
    "df_12 = pd.read_csv(\"12-13_team_stats.csv\").tail(1);\n",
    "df_13 = pd.read_csv(\"13-14_team_stats.csv\").tail(1);\n",
    "df_14 = pd.read_csv(\"14-15_team_stats.csv\").tail(1);\n",
    "df_15 = pd.read_csv(\"15-16_team_stats.csv\").tail(1);\n",
    "df_16 = pd.read_csv(\"16-17_team_stats.csv\").tail(1);\n",
    "df_17 = pd.read_csv(\"17-18_team_stats.csv\").tail(1);\n",
    "df_18 = pd.read_csv(\"18-19_team_stats.csv\").tail(1);\n",
    "\n",
    "#Preview a dataframe to see what data is contained inside\n",
    "df_0"
   ]
  },
  {
   "cell_type": "markdown",
   "metadata": {},
   "source": [
    "So far, everything looks good! Rather than having the DataFrame's contain all the data, we now have isolated each DataFrame to only contain the information related to our analysis: League Average.\n",
    "\n",
    "The next step would be to get all of these into one cohesive DataFrame, thus allowing us to do analysis and create visualizations much easier with the tools we have. We will achieve this by creating a list of all the DataFrame names, and then concatenate them. One thing to also note is that in the above preview printout, it still has it's original index (29 since it was at the tail of a larger DataFrame). We can resolve this by setting the ignore_index flag to True."
   ]
  },
  {
   "cell_type": "code",
   "execution_count": null,
   "metadata": {},
   "outputs": [],
   "source": [
    "#Concatenate all the dataframes together to make one cohesive dataframe\n",
    "list_of_names = [df_0, df_1, df_2, df_3, df_4, df_5, df_6, df_7, df_8, df_9, df_10, df_11, df_12, df_13, df_14, df_15, df_16, df_17, df_18]\n",
    "league_averages = pd.concat(list_of_names,ignore_index=True)\n",
    "\n",
    "#Print it out to make sure everything looks good\n",
    "league_averages"
   ]
  },
  {
   "cell_type": "markdown",
   "metadata": {},
   "source": [
    "Everything looks good so far. However, by doing all this data cleaning, we have lost some information: what year pertains to what data. Here we will add in a new column to represent this information."
   ]
  },
  {
   "cell_type": "code",
   "execution_count": null,
   "metadata": {},
   "outputs": [],
   "source": [
    "# Insert a row that will let us know what year the league average is for.\n",
    "league_years = [\"00-01\", \"01-02\", \"02-03\", \"03-04\", \"04-05\", \"05-06\", \"06-07\", \"07-08\", \"08-09\", \"09-10\", \"10-11\", \"11-12\", \"12-13\", \"13-14\", \"14-15\", \"15-16\", \"16-17\", \"17-18\", \"18-19\"]\n",
    "league_averages.insert(loc=0, column=\"Year\", value=league_years)\n",
    "\n",
    "#Print it out to see the difference\n",
    "league_averages"
   ]
  },
  {
   "cell_type": "markdown",
   "metadata": {},
   "source": [
    "Once again, there is quite abit of data. We will narrow this down to columns we need for our analysis."
   ]
  },
  {
   "cell_type": "code",
   "execution_count": null,
   "metadata": {},
   "outputs": [],
   "source": [
    "#Keep just the relevant rows by making a subselection.\n",
    "league_averages = league_averages[[\"Year\", \"FG\", \"FGA\", \"FG%\", \"3P\", \"3PA\", \"3P%\"]]\n",
    "\n",
    "#Print out to check what the DataFrame now looks like\n",
    "league_averages"
   ]
  },
  {
   "cell_type": "markdown",
   "metadata": {},
   "source": [
    "An important distinction to note - \n",
    "\n",
    "FG: Shots made overall\n",
    "\n",
    "FGA: Shots attempted overall\n",
    "\n",
    "FG%: Percentage of shots made overall vs. shots attempted\n",
    "\n",
    "\n",
    "3P: Three pointer shots made\n",
    "\n",
    "3PA: Three pointers attempted\n",
    "\n",
    "3P%: Percetange of three pointer shots vs. three pointers attempted.\n",
    "\n",
    "\n",
    "That means 3P% represents the percentage of three pointers from three pointers attempted, NOT the percentage of three pointers vs. all shots attempted.\n",
    "\n",
    "With that clarified, we can now start with some visualizations. Here is the percentage of three-pointers made vs. all three-pointers attempted."
   ]
  },
  {
   "cell_type": "code",
   "execution_count": null,
   "metadata": {},
   "outputs": [],
   "source": [
    "#gca = get current axis\n",
    "ax = plt.gca()\n",
    "ax.set_ylim([0,1])\n",
    "\n",
    "#Change size of plot labels\n",
    "ax.xaxis.set_tick_params(labelsize=12)\n",
    "ax.yaxis.set_tick_params(labelsize=12)\n",
    "\n",
    "#Set the axis labels\n",
    "plt.xlabel('Years', fontsize=18)\n",
    "plt.ylabel('Percentage of Three-Pointers Made', fontsize=18)\n",
    "\n",
    "#Plot using MatPlotLib\n",
    "league_averages.plot(kind='line',x='Year',y='3P%',ax=ax,marker = \"o\")\n",
    "\n",
    "#Set the title, legend\n",
    "plt.title('Percentage of Three-Pointers Made vs. Three-Pointers Attempted', fontsize=24)\n",
    "plt.legend(['Percentage of Three-Pointers Made Per Year'], loc='upper right', fontsize=15)\n",
    "\n",
    "#Set range for ticks\n",
    "plt.xticks(np.arange(0,19), league_averages[\"Year\"])\n",
    "plt.xticks(rotation=60)\n",
    "\n",
    "plt.show()"
   ]
  },
  {
   "cell_type": "markdown",
   "metadata": {},
   "source": [
    "Here, we can see that the amount of three point shots made vs. the amount of three points shots attempted stays extremely consistent. This can be even more supported by taking a look at just that column."
   ]
  },
  {
   "cell_type": "code",
   "execution_count": null,
   "metadata": {},
   "outputs": [],
   "source": [
    "league_averages"
   ]
  },
  {
   "cell_type": "markdown",
   "metadata": {},
   "source": [
    "So, let's try to approach this from a different angle. Let's see, for example, the percentage of three point shots made vs. the total number of shots made."
   ]
  },
  {
   "cell_type": "code",
   "execution_count": null,
   "metadata": {},
   "outputs": [],
   "source": [
    "league_averages['3P%/Total FG'] = league_averages[\"3P\"] / league_averages[\"FG\"]\n",
    "league_averages"
   ]
  },
  {
   "cell_type": "code",
   "execution_count": null,
   "metadata": {},
   "outputs": [],
   "source": [
    "#gca = get current axis\n",
    "ax = plt.gca()\n",
    "ax.set_ylim([0,1])\n",
    "\n",
    "#Change size of plot labels\n",
    "ax.xaxis.set_tick_params(labelsize=12)\n",
    "ax.yaxis.set_tick_params(labelsize=12)\n",
    "\n",
    "#Set the axis labels\n",
    "plt.xlabel('Years', fontsize=18)\n",
    "plt.ylabel('Percentage of Three-Pointers Made', fontsize=18)\n",
    "\n",
    "#Plot using MatPlotLib\n",
    "league_averages.plot(kind='line',x='Year',y='3P%/Total FG',ax=ax,marker = \"o\")\n",
    "\n",
    "#Set the title, legend\n",
    "plt.title('Percentage of Three-Pointers Made vs. All Shots Made', fontsize=24)\n",
    "plt.legend(['Percentage of Three-Pointers Made Per Year'], loc='upper right', fontsize=15)\n",
    "\n",
    "\n",
    "#Set range for ticks\n",
    "plt.xticks(np.arange(0,19), league_averages[\"Year\"])\n",
    "plt.xticks(rotation=60)\n",
    "\n",
    "plt.show()"
   ]
  },
  {
   "cell_type": "markdown",
   "metadata": {},
   "source": [
    "Here, we can observe a slight increase in three pointers made per year in comparison to all shots made. However, since we previously saw that the percentage of shots made are pretty consistent (0.35-0.36 for all), we should also take a look at total amount of three-pointers attempted vs. shots-attempted."
   ]
  },
  {
   "cell_type": "code",
   "execution_count": null,
   "metadata": {},
   "outputs": [],
   "source": [
    "league_averages['3PA/Total FGA'] = league_averages[\"3PA\"] / league_averages[\"FGA\"]\n",
    "league_averages"
   ]
  },
  {
   "cell_type": "code",
   "execution_count": null,
   "metadata": {},
   "outputs": [],
   "source": [
    "#gca = get current axis\n",
    "ax = plt.gca()\n",
    "ax.set_ylim([0,1])\n",
    "\n",
    "#Change size of plot labels\n",
    "ax.xaxis.set_tick_params(labelsize=12)\n",
    "ax.yaxis.set_tick_params(labelsize=12)\n",
    "\n",
    "#Set the axis labels\n",
    "plt.xlabel('Years', fontsize=18)\n",
    "plt.ylabel('Number Of Three Pointers Attempted', fontsize=18)\n",
    "\n",
    "#Plot using MatPlotLib\n",
    "league_averages.plot(kind='line',x='Year',y='3PA/Total FGA',ax=ax,marker = \"o\")\n",
    "\n",
    "#Set the title, legend\n",
    "plt.title('Percentage of Three-Pointers Attempted vs. All Shots Attempted', fontsize=24)\n",
    "plt.legend(['Percentage of Three-Pointers Attempted Per Year'], loc='upper right', fontsize=15)\n",
    "\n",
    "\n",
    "#Set range for ticks\n",
    "plt.xticks(np.arange(0,19), league_averages[\"Year\"])\n",
    "plt.xticks(rotation=60)\n",
    "\n",
    "plt.show()"
   ]
  },
  {
   "cell_type": "markdown",
   "metadata": {},
   "source": [
    "Here we can see quite a large increase in slope, starting at 2011-2012. We should also take a look at the number of three-pointers made and attempted rather than the percentage to get a better idea of what this increase really looks like."
   ]
  },
  {
   "cell_type": "code",
   "execution_count": null,
   "metadata": {},
   "outputs": [],
   "source": [
    "#gca = get current axis\n",
    "ax = plt.gca()\n",
    "ax.set_ylim([1000,3500])\n",
    "\n",
    "#Change size of plot labels\n",
    "ax.xaxis.set_tick_params(labelsize=12)\n",
    "ax.yaxis.set_tick_params(labelsize=12)\n",
    "\n",
    "#Set the axis labels\n",
    "plt.xlabel('Years', fontsize=18)\n",
    "plt.ylabel('Number Of Shots Attempted', fontsize=18)\n",
    "\n",
    "#Plot using MatPlotLib\n",
    "league_averages.plot(kind='line',x='Year',y='3PA',ax=ax,marker = \"o\")\n",
    "\n",
    "#Set the title, legend\n",
    "plt.title('Number of Three-Pointers Attempted vs. Time', fontsize=24)\n",
    "plt.legend(['Three-Pointers Attempted Per Year'], loc='upper right', fontsize=15)\n",
    "\n",
    "\n",
    "#Set range for ticks\n",
    "plt.xticks(np.arange(0,19), league_averages[\"Year\"])\n",
    "plt.xticks(rotation=60)\n",
    "\n",
    "plt.show()"
   ]
  },
  {
   "cell_type": "code",
   "execution_count": null,
   "metadata": {},
   "outputs": [],
   "source": [
    "#gca = get current axis\n",
    "ax = plt.gca()\n",
    "ax.set_ylim([0,1000])\n",
    "\n",
    "#Change size of plot labels\n",
    "ax.xaxis.set_tick_params(labelsize=12)\n",
    "ax.yaxis.set_tick_params(labelsize=12)\n",
    "\n",
    "#Set the axis labels\n",
    "plt.xlabel('Years', fontsize=18)\n",
    "plt.ylabel('Number Of Shots Made', fontsize=18)\n",
    "\n",
    "#Plot using MatPlotLib\n",
    "league_averages.plot(kind='line',x='Year',y='3P',ax=ax,marker = \"o\")\n",
    "\n",
    "#Set the title, legend\n",
    "plt.title('Number of Three-Pointers Made', fontsize=24)\n",
    "plt.legend(['Three-Pointers Made Per Year'], loc='upper right', fontsize=15)\n",
    "\n",
    "\n",
    "#Set range for ticks\n",
    "plt.xticks(np.arange(0,19), league_averages[\"Year\"])\n",
    "plt.xticks(rotation=60)\n",
    "\n",
    "plt.show()"
   ]
  },
  {
   "cell_type": "markdown",
   "metadata": {},
   "source": [
    "This is also where we find something odd. There seems to be a odd gap at years 11-12. Upon further investigation,\n",
    "FACTS ABOUT STUFF\n",
    "    \n",
    "    \n",
    "However, it seems that this didn't affect any of prior analysis, which shows that this average trend exists across\n",
    "all games and not just a whole season (i.e there is no crazy three-pointer bonanza near the end of the season vs.\n",
    "the start of a season)."
   ]
  },
  {
   "cell_type": "markdown",
   "metadata": {},
   "source": [
    "## Ethical Considerations & Privacy\n",
    "One ethical consideration we can consider is that the data should be blinded. What that means is that the data should be based purely off of what we are analyzing, which in our proposed experiment is the shot distance, rather than taking into consideration inconsequential factors such as race, height, and weight. Other than that, we cannot foresee any other big ethical roadblocks, as the analysis is simply made on observed data that would otherwise occur whether our analysis happens or not (i.e we are not instigating events in order for us to get data points)."
   ]
  },
  {
   "cell_type": "markdown",
   "metadata": {},
   "source": [
    "## Conclusion & Discussion\n",
    "   After analyzing all our data and graphs, we found that the average NBA shot distance has changed over time, specifically the number of attempts of three-pointers have increased tremendously. From our first analysis where this question was broken down specifically to shots made, we found that the percentage of 3P shots made has not significantly increased. We cleaned the data set and plotted the percentages for each type of shot for each season versus time. We used a linear model to fit our data and eventually merged all three graphs into one graph to show the relationship between the percentage of 2P, midrange, and 3P shots made. P-tests were used to analyze the trend of shots made over time; we even found a significant increase in the percentage of 2P and midrange shots made. The conclusion from this portion of our data analysis strikes us as surprising since the number of 3P attempts has significantly increased over the years.  \n",
    "\n",
    "   In our second analysis, we discovered several relationships between the percentages and raw amount of shots taken. From our analysis, we once again found that the percentage of three-pointers made versus three-pointers attempted stayed relatively the same. This simply just means there wasn’t a sudden increase in ability to make three-pointers. However, we did find a dramatic increase in the percentage of three-pointers attempted vs. all shots attempted. Looking at the percentage in 2000, and the percentage in 2019, we can that the percentage of three-pointers attempted nearly doubled across this span of time. It is important to note that this is the percentage, and not raw numbers, as in general we can see the number of three-point shots increased, but this uptrend persists even when looking at ratios. This means the increase is not confounded with the fact that the number of shots attempted simply increased over time, but that there is actually a significant increase in the percentage of three-pointers attempted.\n",
    "\n",
    "Lastly, in our third analysis... \n",
    "Some limitations of our analysis are that our data has only come from the past two decades, whereas the NBA three-point line has existed for forty years, and the data from the NBA season of 2011-2012 had to be dropped because only 66 games were played instead of 82 games. \n"
   ]
  }
 ],
 "metadata": {
  "celltoolbar": "Raw Cell Format",
  "kernelspec": {
   "display_name": "Python 3",
   "language": "python",
   "name": "python3"
  },
  "language_info": {
   "codemirror_mode": {
    "name": "ipython",
    "version": 3
   },
   "file_extension": ".py",
   "mimetype": "text/x-python",
   "name": "python",
   "nbconvert_exporter": "python",
   "pygments_lexer": "ipython3",
   "version": "3.6.7"
  }
 },
 "nbformat": 4,
 "nbformat_minor": 2
}
